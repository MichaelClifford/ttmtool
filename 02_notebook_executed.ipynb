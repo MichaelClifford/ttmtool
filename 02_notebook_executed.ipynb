{
 "cells": [
  {
   "cell_type": "markdown",
   "id": "6a8d0182",
   "metadata": {
    "tags": []
   },
   "source": [
    "# Feature engineering on extracted Pull Requests data\n",
    "\n",
    "\n",
    "## What we did previously\n",
    "\n",
    "In the previous step, we collected data from a Github repository of choice and store them on S3 storage\n",
    "\n",
    "## In this step\n",
    "\n",
    "In this notebook we will walk through how to start analyzing the PR data collected from a Github repository.\n",
    "\n",
    "We explore the various fields in the PR dataset and the features that we can derive from them in order to frame an a Machine Learning where we predict the time taken to merge a PR."
   ]
  },
  {
   "cell_type": "code",
   "execution_count": 1,
   "id": "dfe11a56",
   "metadata": {
    "execution": {
     "iopub.execute_input": "2022-11-22T20:04:39.440568Z",
     "iopub.status.busy": "2022-11-22T20:04:39.440025Z",
     "iopub.status.idle": "2022-11-22T20:04:41.557608Z",
     "shell.execute_reply": "2022-11-22T20:04:41.556469Z"
    }
   },
   "outputs": [],
   "source": [
    "import os\n",
    "import re\n",
    "import gzip\n",
    "import json\n",
    "import boto3\n",
    "import pathlib\n",
    "import datetime\n",
    "from tqdm import tqdm\n",
    "from io import BytesIO\n",
    "from pathlib import Path\n",
    "from functools import partial\n",
    "from collections import Counter\n",
    "from github import Github\n",
    "\n",
    "import numpy as np\n",
    "import pandas as pd\n",
    "\n",
    "import matplotlib.pyplot as plt\n",
    "import seaborn as sns\n",
    "from wordcloud import STOPWORDS\n",
    "\n",
    "from sklearn.feature_selection import SelectKBest\n",
    "from sklearn.feature_selection import chi2\n",
    "from sklearn.feature_selection import mutual_info_classif, f_classif\n",
    "\n",
    "from dotenv import load_dotenv, find_dotenv\n",
    "import ceph_comm"
   ]
  },
  {
   "cell_type": "code",
   "execution_count": 2,
   "id": "9476e951",
   "metadata": {
    "execution": {
     "iopub.execute_input": "2022-11-22T20:04:41.562503Z",
     "iopub.status.busy": "2022-11-22T20:04:41.561778Z",
     "iopub.status.idle": "2022-11-22T20:04:41.575019Z",
     "shell.execute_reply": "2022-11-22T20:04:41.574314Z"
    }
   },
   "outputs": [
    {
     "data": {
      "text/plain": [
       "True"
      ]
     },
     "execution_count": 2,
     "metadata": {},
     "output_type": "execute_result"
    }
   ],
   "source": [
    "sns.set(rc={\"figure.figsize\": (20, 10)})\n",
    "load_dotenv(find_dotenv(), override=True)"
   ]
  },
  {
   "cell_type": "code",
   "execution_count": 3,
   "id": "9bc3a2c6",
   "metadata": {
    "execution": {
     "iopub.execute_input": "2022-11-22T20:04:41.578885Z",
     "iopub.status.busy": "2022-11-22T20:04:41.578234Z",
     "iopub.status.idle": "2022-11-22T20:04:41.584024Z",
     "shell.execute_reply": "2022-11-22T20:04:41.583143Z"
    }
   },
   "outputs": [],
   "source": [
    "## CEPH Bucket variables\n",
    "## Create a .env file on your local with the correct configs,\n",
    "\n",
    "ORG = os.getenv(\"GITHUB_ORG\")\n",
    "REPO = os.getenv(\"GITHUB_REPO\")\n",
    "\n",
    "## S3 bucket credentials\n",
    "s3_endpoint_url = os.getenv(\"S3_ENDPOINT_URL\")\n",
    "s3_access_key = os.getenv(\"S3_ACCESS_KEY\")\n",
    "s3_secret_key = os.getenv(\"S3_SECRET_KEY\")\n",
    "s3_bucket = os.getenv(\"S3_BUCKET\")\n",
    "\n",
    "REMOTE = os.getenv(\"REMOTE\")\n",
    "\n",
    "s3_input_data_path = os.getenv(\"CEPH_BUCKET_PREFIX\")\n",
    "\n",
    "RAW_DATA_PATH = os.path.join(s3_input_data_path, ORG, REPO)\n",
    "TOKEN = os.getenv(\"GITHUB_ACCESS_TOKEN\")"
   ]
  },
  {
   "cell_type": "code",
   "execution_count": 4,
   "id": "38f32d2b-22dc-419b-b76a-ce41e35ef58e",
   "metadata": {
    "execution": {
     "iopub.execute_input": "2022-11-22T20:04:41.587597Z",
     "iopub.status.busy": "2022-11-22T20:04:41.587310Z",
     "iopub.status.idle": "2022-11-22T20:04:43.440555Z",
     "shell.execute_reply": "2022-11-22T20:04:43.439474Z"
    }
   },
   "outputs": [],
   "source": [
    "# Collect PRs and combine them\n",
    "cc = ceph_comm.CephCommunication(s3_endpoint_url, s3_access_key, s3_secret_key, s3_bucket)\n",
    "\n",
    "# how many files of the given extension were changed in PR\n",
    "CLOSED_PR_IDS_FILENAME = os.path.join(ORG + REPO + \"CLOSED_PR_IDS.parquet\")\n",
    "CLOSED_PRS_KEY = os.path.join(s3_input_data_path, ORG, REPO, \"closed_prs\")\n",
    "PR_ID_DF = cc.read_from_ceph(CLOSED_PRS_KEY, CLOSED_PR_IDS_FILENAME)\n",
    "pr_ids = list(PR_ID_DF['closed_pr_ids'])\n",
    "\n",
    "REPO_PATH = os.path.join(s3_input_data_path, ORG, REPO)\n",
    "\n",
    "appended_prs = []\n",
    "for pr_id in pr_ids:\n",
    "    PR_PATH = os.path.join(REPO_PATH, \"PRs/\"+ str(pr_id) + \".json\")\n",
    "    pr = cc.get_json_from_ceph(PR_PATH)\n",
    "    appended_prs.append(pr)\n",
    "\n",
    "appended_prs = pd.concat(appended_prs)"
   ]
  },
  {
   "cell_type": "code",
   "execution_count": 5,
   "id": "115b9040-4b29-4445-b34a-3c1183707464",
   "metadata": {
    "execution": {
     "iopub.execute_input": "2022-11-22T20:04:43.445194Z",
     "iopub.status.busy": "2022-11-22T20:04:43.444918Z",
     "iopub.status.idle": "2022-11-22T20:04:43.471705Z",
     "shell.execute_reply": "2022-11-22T20:04:43.470815Z"
    }
   },
   "outputs": [
    {
     "data": {
      "text/html": [
       "<div>\n",
       "<style scoped>\n",
       "    .dataframe tbody tr th:only-of-type {\n",
       "        vertical-align: middle;\n",
       "    }\n",
       "\n",
       "    .dataframe tbody tr th {\n",
       "        vertical-align: top;\n",
       "    }\n",
       "\n",
       "    .dataframe thead th {\n",
       "        text-align: right;\n",
       "    }\n",
       "</style>\n",
       "<table border=\"1\" class=\"dataframe\">\n",
       "  <thead>\n",
       "    <tr style=\"text-align: right;\">\n",
       "      <th></th>\n",
       "      <th>title</th>\n",
       "      <th>body</th>\n",
       "      <th>size</th>\n",
       "      <th>created_by</th>\n",
       "      <th>created_at</th>\n",
       "      <th>closed_at</th>\n",
       "      <th>closed_by</th>\n",
       "      <th>merged_at</th>\n",
       "      <th>merged_by</th>\n",
       "      <th>commits_number</th>\n",
       "      <th>changed_files_number</th>\n",
       "      <th>interactions</th>\n",
       "      <th>reviews</th>\n",
       "      <th>labels</th>\n",
       "      <th>commits</th>\n",
       "      <th>changed_files</th>\n",
       "      <th>first_review_at</th>\n",
       "      <th>first_approve_at</th>\n",
       "    </tr>\n",
       "  </thead>\n",
       "  <tbody>\n",
       "    <tr>\n",
       "      <th>0</th>\n",
       "      <td>Marketplace</td>\n",
       "      <td>None</td>\n",
       "      <td>XS</td>\n",
       "      <td>MichaelClifford</td>\n",
       "      <td>1668193936</td>\n",
       "      <td>1668194032</td>\n",
       "      <td>MichaelClifford</td>\n",
       "      <td>1668194032</td>\n",
       "      <td>MichaelClifford</td>\n",
       "      <td>4</td>\n",
       "      <td>2</td>\n",
       "      <td>{}</td>\n",
       "      <td>{}</td>\n",
       "      <td>[]</td>\n",
       "      <td>[b51980240df014abfd5cbda4527ce15cdcf99901, 67b...</td>\n",
       "      <td>[.github/workflows/inference.yaml, action.yml]</td>\n",
       "      <td>None</td>\n",
       "      <td>None</td>\n",
       "    </tr>\n",
       "    <tr>\n",
       "      <th>0</th>\n",
       "      <td>test marketplace workflow</td>\n",
       "      <td>None</td>\n",
       "      <td>S</td>\n",
       "      <td>MichaelClifford</td>\n",
       "      <td>1668191744</td>\n",
       "      <td>1668191751</td>\n",
       "      <td>MichaelClifford</td>\n",
       "      <td>1668191751</td>\n",
       "      <td>MichaelClifford</td>\n",
       "      <td>1</td>\n",
       "      <td>3</td>\n",
       "      <td>{}</td>\n",
       "      <td>{}</td>\n",
       "      <td>[]</td>\n",
       "      <td>[b51980240df014abfd5cbda4527ce15cdcf99901]</td>\n",
       "      <td>[.github/workflows/inference.yaml, Dockerfile,...</td>\n",
       "      <td>None</td>\n",
       "      <td>None</td>\n",
       "    </tr>\n",
       "    <tr>\n",
       "      <th>0</th>\n",
       "      <td>test marketplace workflow</td>\n",
       "      <td>None</td>\n",
       "      <td>XS</td>\n",
       "      <td>MichaelClifford</td>\n",
       "      <td>1668191213</td>\n",
       "      <td>1668191219</td>\n",
       "      <td>MichaelClifford</td>\n",
       "      <td>1668191219</td>\n",
       "      <td>MichaelClifford</td>\n",
       "      <td>1</td>\n",
       "      <td>2</td>\n",
       "      <td>{}</td>\n",
       "      <td>{}</td>\n",
       "      <td>[]</td>\n",
       "      <td>[54577f445e3e254af0b979c75712f903d75ed741]</td>\n",
       "      <td>[.github/workflows/inference.yaml, Dockerfile]</td>\n",
       "      <td>None</td>\n",
       "      <td>None</td>\n",
       "    </tr>\n",
       "    <tr>\n",
       "      <th>0</th>\n",
       "      <td>test marketplace workflow</td>\n",
       "      <td>None</td>\n",
       "      <td>XS</td>\n",
       "      <td>MichaelClifford</td>\n",
       "      <td>1668190948</td>\n",
       "      <td>1668190983</td>\n",
       "      <td>MichaelClifford</td>\n",
       "      <td>1668190983</td>\n",
       "      <td>MichaelClifford</td>\n",
       "      <td>1</td>\n",
       "      <td>1</td>\n",
       "      <td>{}</td>\n",
       "      <td>{}</td>\n",
       "      <td>[]</td>\n",
       "      <td>[5675d0f2e74c50301c7437d88396940807a7b382]</td>\n",
       "      <td>[.github/workflows/inference.yaml]</td>\n",
       "      <td>None</td>\n",
       "      <td>None</td>\n",
       "    </tr>\n",
       "    <tr>\n",
       "      <th>0</th>\n",
       "      <td>pr inference comment test 1</td>\n",
       "      <td>This is a test of the PR inference capabilities!</td>\n",
       "      <td>XS</td>\n",
       "      <td>MichaelClifford</td>\n",
       "      <td>1668012029</td>\n",
       "      <td>1668177420</td>\n",
       "      <td>MichaelClifford</td>\n",
       "      <td>1668177420</td>\n",
       "      <td>MichaelClifford</td>\n",
       "      <td>0</td>\n",
       "      <td>0</td>\n",
       "      <td>{'review-notebook-app[bot]': 29, 'github-actio...</td>\n",
       "      <td>{}</td>\n",
       "      <td>[]</td>\n",
       "      <td>[]</td>\n",
       "      <td>[]</td>\n",
       "      <td>None</td>\n",
       "      <td>None</td>\n",
       "    </tr>\n",
       "  </tbody>\n",
       "</table>\n",
       "</div>"
      ],
      "text/plain": [
       "                         title  \\\n",
       "0                  Marketplace   \n",
       "0    test marketplace workflow   \n",
       "0    test marketplace workflow   \n",
       "0    test marketplace workflow   \n",
       "0  pr inference comment test 1   \n",
       "\n",
       "                                                body size       created_by  \\\n",
       "0                                               None   XS  MichaelClifford   \n",
       "0                                               None    S  MichaelClifford   \n",
       "0                                               None   XS  MichaelClifford   \n",
       "0                                               None   XS  MichaelClifford   \n",
       "0  This is a test of the PR inference capabilities!    XS  MichaelClifford   \n",
       "\n",
       "   created_at   closed_at        closed_by   merged_at        merged_by  \\\n",
       "0  1668193936  1668194032  MichaelClifford  1668194032  MichaelClifford   \n",
       "0  1668191744  1668191751  MichaelClifford  1668191751  MichaelClifford   \n",
       "0  1668191213  1668191219  MichaelClifford  1668191219  MichaelClifford   \n",
       "0  1668190948  1668190983  MichaelClifford  1668190983  MichaelClifford   \n",
       "0  1668012029  1668177420  MichaelClifford  1668177420  MichaelClifford   \n",
       "\n",
       "   commits_number  changed_files_number  \\\n",
       "0               4                     2   \n",
       "0               1                     3   \n",
       "0               1                     2   \n",
       "0               1                     1   \n",
       "0               0                     0   \n",
       "\n",
       "                                        interactions reviews labels  \\\n",
       "0                                                 {}      {}     []   \n",
       "0                                                 {}      {}     []   \n",
       "0                                                 {}      {}     []   \n",
       "0                                                 {}      {}     []   \n",
       "0  {'review-notebook-app[bot]': 29, 'github-actio...      {}     []   \n",
       "\n",
       "                                             commits  \\\n",
       "0  [b51980240df014abfd5cbda4527ce15cdcf99901, 67b...   \n",
       "0         [b51980240df014abfd5cbda4527ce15cdcf99901]   \n",
       "0         [54577f445e3e254af0b979c75712f903d75ed741]   \n",
       "0         [5675d0f2e74c50301c7437d88396940807a7b382]   \n",
       "0                                                 []   \n",
       "\n",
       "                                       changed_files first_review_at  \\\n",
       "0     [.github/workflows/inference.yaml, action.yml]            None   \n",
       "0  [.github/workflows/inference.yaml, Dockerfile,...            None   \n",
       "0     [.github/workflows/inference.yaml, Dockerfile]            None   \n",
       "0                 [.github/workflows/inference.yaml]            None   \n",
       "0                                                 []            None   \n",
       "\n",
       "  first_approve_at  \n",
       "0             None  \n",
       "0             None  \n",
       "0             None  \n",
       "0             None  \n",
       "0             None  "
      ]
     },
     "execution_count": 5,
     "metadata": {},
     "output_type": "execute_result"
    }
   ],
   "source": [
    "appended_prs.head()"
   ]
  },
  {
   "cell_type": "code",
   "execution_count": 6,
   "id": "d02d7136-2bb4-4ec8-903c-315afb22c524",
   "metadata": {
    "execution": {
     "iopub.execute_input": "2022-11-22T20:04:43.475243Z",
     "iopub.status.busy": "2022-11-22T20:04:43.474969Z",
     "iopub.status.idle": "2022-11-22T20:04:43.697611Z",
     "shell.execute_reply": "2022-11-22T20:04:43.696598Z"
    }
   },
   "outputs": [
    {
     "data": {
      "text/plain": [
       "{'ResponseMetadata': {'RequestId': 'lasnbczk-9kasb2-14bl',\n",
       "  'HostId': 'lasnbczk-9kasb2-14bl',\n",
       "  'HTTPStatusCode': 200,\n",
       "  'HTTPHeaders': {'x-amz-request-id': 'lasnbczk-9kasb2-14bl',\n",
       "   'x-amz-id-2': 'lasnbczk-9kasb2-14bl',\n",
       "   'access-control-allow-origin': '*',\n",
       "   'access-control-allow-credentials': 'true',\n",
       "   'access-control-allow-methods': 'GET,POST,PUT,DELETE,OPTIONS',\n",
       "   'access-control-allow-headers': 'Content-Type,Content-MD5,Authorization,X-Amz-User-Agent,X-Amz-Date,ETag,X-Amz-Content-Sha256',\n",
       "   'access-control-expose-headers': 'ETag,X-Amz-Version-Id',\n",
       "   'etag': '\"b964f3576dd91a55f1ecf17b49c2de13\"',\n",
       "   'date': 'Tue, 22 Nov 2022 20:04:43 GMT',\n",
       "   'keep-alive': 'timeout=5',\n",
       "   'content-length': '0',\n",
       "   'set-cookie': '1a4aa612fe797ac8466d7ee00e5520d5=b9a4e3efe932781180a9a8945a639f83; path=/; HttpOnly; Secure; SameSite=None'},\n",
       "  'RetryAttempts': 0},\n",
       " 'ETag': '\"b964f3576dd91a55f1ecf17b49c2de13\"'}"
      ]
     },
     "execution_count": 6,
     "metadata": {},
     "output_type": "execute_result"
    }
   ],
   "source": [
    "cc.upload_to_ceph_as_json(appended_prs, RAW_DATA_PATH, \"PullRequest.json\")"
   ]
  },
  {
   "cell_type": "code",
   "execution_count": 7,
   "id": "4d1b0d9f",
   "metadata": {
    "execution": {
     "iopub.execute_input": "2022-11-22T20:04:43.702191Z",
     "iopub.status.busy": "2022-11-22T20:04:43.701912Z",
     "iopub.status.idle": "2022-11-22T20:04:43.801943Z",
     "shell.execute_reply": "2022-11-22T20:04:43.800823Z"
    }
   },
   "outputs": [
    {
     "name": "stdout",
     "output_type": "stream",
     "text": [
      "getting dataset from ceph\n"
     ]
    }
   ],
   "source": [
    "print(\"getting dataset from ceph\")\n",
    "pr_df = cc.get_json_from_ceph(os.path.join(RAW_DATA_PATH, \"PullRequest.json\"))"
   ]
  },
  {
   "cell_type": "code",
   "execution_count": 8,
   "id": "70c24185-4fbf-4287-98fd-c8d721ef71fa",
   "metadata": {
    "execution": {
     "iopub.execute_input": "2022-11-22T20:04:43.805488Z",
     "iopub.status.busy": "2022-11-22T20:04:43.805207Z",
     "iopub.status.idle": "2022-11-22T20:04:43.830951Z",
     "shell.execute_reply": "2022-11-22T20:04:43.829991Z"
    }
   },
   "outputs": [
    {
     "data": {
      "text/html": [
       "<div>\n",
       "<style scoped>\n",
       "    .dataframe tbody tr th:only-of-type {\n",
       "        vertical-align: middle;\n",
       "    }\n",
       "\n",
       "    .dataframe tbody tr th {\n",
       "        vertical-align: top;\n",
       "    }\n",
       "\n",
       "    .dataframe thead th {\n",
       "        text-align: right;\n",
       "    }\n",
       "</style>\n",
       "<table border=\"1\" class=\"dataframe\">\n",
       "  <thead>\n",
       "    <tr style=\"text-align: right;\">\n",
       "      <th></th>\n",
       "      <th>title</th>\n",
       "      <th>body</th>\n",
       "      <th>size</th>\n",
       "      <th>created_by</th>\n",
       "      <th>created_at</th>\n",
       "      <th>closed_at</th>\n",
       "      <th>closed_by</th>\n",
       "      <th>merged_at</th>\n",
       "      <th>merged_by</th>\n",
       "      <th>commits_number</th>\n",
       "      <th>changed_files_number</th>\n",
       "      <th>interactions</th>\n",
       "      <th>reviews</th>\n",
       "      <th>labels</th>\n",
       "      <th>commits</th>\n",
       "      <th>changed_files</th>\n",
       "      <th>first_review_at</th>\n",
       "      <th>first_approve_at</th>\n",
       "    </tr>\n",
       "  </thead>\n",
       "  <tbody>\n",
       "    <tr>\n",
       "      <th>0</th>\n",
       "      <td>Marketplace</td>\n",
       "      <td>None</td>\n",
       "      <td>XS</td>\n",
       "      <td>MichaelClifford</td>\n",
       "      <td>1668193936</td>\n",
       "      <td>1668194032</td>\n",
       "      <td>MichaelClifford</td>\n",
       "      <td>1.668194e+09</td>\n",
       "      <td>MichaelClifford</td>\n",
       "      <td>4</td>\n",
       "      <td>2</td>\n",
       "      <td>{}</td>\n",
       "      <td>{}</td>\n",
       "      <td>[]</td>\n",
       "      <td>[b51980240df014abfd5cbda4527ce15cdcf99901, 67b...</td>\n",
       "      <td>[.github/workflows/inference.yaml, action.yml]</td>\n",
       "      <td>NaN</td>\n",
       "      <td>None</td>\n",
       "    </tr>\n",
       "    <tr>\n",
       "      <th>1</th>\n",
       "      <td>test marketplace workflow</td>\n",
       "      <td>None</td>\n",
       "      <td>S</td>\n",
       "      <td>MichaelClifford</td>\n",
       "      <td>1668191744</td>\n",
       "      <td>1668191751</td>\n",
       "      <td>MichaelClifford</td>\n",
       "      <td>1.668192e+09</td>\n",
       "      <td>MichaelClifford</td>\n",
       "      <td>1</td>\n",
       "      <td>3</td>\n",
       "      <td>{}</td>\n",
       "      <td>{}</td>\n",
       "      <td>[]</td>\n",
       "      <td>[b51980240df014abfd5cbda4527ce15cdcf99901]</td>\n",
       "      <td>[.github/workflows/inference.yaml, Dockerfile,...</td>\n",
       "      <td>NaN</td>\n",
       "      <td>None</td>\n",
       "    </tr>\n",
       "    <tr>\n",
       "      <th>2</th>\n",
       "      <td>test marketplace workflow</td>\n",
       "      <td>None</td>\n",
       "      <td>XS</td>\n",
       "      <td>MichaelClifford</td>\n",
       "      <td>1668191213</td>\n",
       "      <td>1668191219</td>\n",
       "      <td>MichaelClifford</td>\n",
       "      <td>1.668191e+09</td>\n",
       "      <td>MichaelClifford</td>\n",
       "      <td>1</td>\n",
       "      <td>2</td>\n",
       "      <td>{}</td>\n",
       "      <td>{}</td>\n",
       "      <td>[]</td>\n",
       "      <td>[54577f445e3e254af0b979c75712f903d75ed741]</td>\n",
       "      <td>[.github/workflows/inference.yaml, Dockerfile]</td>\n",
       "      <td>NaN</td>\n",
       "      <td>None</td>\n",
       "    </tr>\n",
       "    <tr>\n",
       "      <th>3</th>\n",
       "      <td>test marketplace workflow</td>\n",
       "      <td>None</td>\n",
       "      <td>XS</td>\n",
       "      <td>MichaelClifford</td>\n",
       "      <td>1668190948</td>\n",
       "      <td>1668190983</td>\n",
       "      <td>MichaelClifford</td>\n",
       "      <td>1.668191e+09</td>\n",
       "      <td>MichaelClifford</td>\n",
       "      <td>1</td>\n",
       "      <td>1</td>\n",
       "      <td>{}</td>\n",
       "      <td>{}</td>\n",
       "      <td>[]</td>\n",
       "      <td>[5675d0f2e74c50301c7437d88396940807a7b382]</td>\n",
       "      <td>[.github/workflows/inference.yaml]</td>\n",
       "      <td>NaN</td>\n",
       "      <td>None</td>\n",
       "    </tr>\n",
       "    <tr>\n",
       "      <th>4</th>\n",
       "      <td>pr inference comment test 1</td>\n",
       "      <td>This is a test of the PR inference capabilities!</td>\n",
       "      <td>XS</td>\n",
       "      <td>MichaelClifford</td>\n",
       "      <td>1668012029</td>\n",
       "      <td>1668177420</td>\n",
       "      <td>MichaelClifford</td>\n",
       "      <td>1.668177e+09</td>\n",
       "      <td>MichaelClifford</td>\n",
       "      <td>0</td>\n",
       "      <td>0</td>\n",
       "      <td>{'review-notebook-app[bot]': 29, 'github-actio...</td>\n",
       "      <td>{}</td>\n",
       "      <td>[]</td>\n",
       "      <td>[]</td>\n",
       "      <td>[]</td>\n",
       "      <td>NaN</td>\n",
       "      <td>None</td>\n",
       "    </tr>\n",
       "  </tbody>\n",
       "</table>\n",
       "</div>"
      ],
      "text/plain": [
       "                         title  \\\n",
       "0                  Marketplace   \n",
       "1    test marketplace workflow   \n",
       "2    test marketplace workflow   \n",
       "3    test marketplace workflow   \n",
       "4  pr inference comment test 1   \n",
       "\n",
       "                                                body size       created_by  \\\n",
       "0                                               None   XS  MichaelClifford   \n",
       "1                                               None    S  MichaelClifford   \n",
       "2                                               None   XS  MichaelClifford   \n",
       "3                                               None   XS  MichaelClifford   \n",
       "4  This is a test of the PR inference capabilities!    XS  MichaelClifford   \n",
       "\n",
       "   created_at   closed_at        closed_by     merged_at        merged_by  \\\n",
       "0  1668193936  1668194032  MichaelClifford  1.668194e+09  MichaelClifford   \n",
       "1  1668191744  1668191751  MichaelClifford  1.668192e+09  MichaelClifford   \n",
       "2  1668191213  1668191219  MichaelClifford  1.668191e+09  MichaelClifford   \n",
       "3  1668190948  1668190983  MichaelClifford  1.668191e+09  MichaelClifford   \n",
       "4  1668012029  1668177420  MichaelClifford  1.668177e+09  MichaelClifford   \n",
       "\n",
       "   commits_number  changed_files_number  \\\n",
       "0               4                     2   \n",
       "1               1                     3   \n",
       "2               1                     2   \n",
       "3               1                     1   \n",
       "4               0                     0   \n",
       "\n",
       "                                        interactions reviews labels  \\\n",
       "0                                                 {}      {}     []   \n",
       "1                                                 {}      {}     []   \n",
       "2                                                 {}      {}     []   \n",
       "3                                                 {}      {}     []   \n",
       "4  {'review-notebook-app[bot]': 29, 'github-actio...      {}     []   \n",
       "\n",
       "                                             commits  \\\n",
       "0  [b51980240df014abfd5cbda4527ce15cdcf99901, 67b...   \n",
       "1         [b51980240df014abfd5cbda4527ce15cdcf99901]   \n",
       "2         [54577f445e3e254af0b979c75712f903d75ed741]   \n",
       "3         [5675d0f2e74c50301c7437d88396940807a7b382]   \n",
       "4                                                 []   \n",
       "\n",
       "                                       changed_files  first_review_at  \\\n",
       "0     [.github/workflows/inference.yaml, action.yml]              NaN   \n",
       "1  [.github/workflows/inference.yaml, Dockerfile,...              NaN   \n",
       "2     [.github/workflows/inference.yaml, Dockerfile]              NaN   \n",
       "3                 [.github/workflows/inference.yaml]              NaN   \n",
       "4                                                 []              NaN   \n",
       "\n",
       "  first_approve_at  \n",
       "0             None  \n",
       "1             None  \n",
       "2             None  \n",
       "3             None  \n",
       "4             None  "
      ]
     },
     "execution_count": 8,
     "metadata": {},
     "output_type": "execute_result"
    }
   ],
   "source": [
    "pr_df.head()"
   ]
  },
  {
   "cell_type": "code",
   "execution_count": 9,
   "id": "13dc895b",
   "metadata": {
    "execution": {
     "iopub.execute_input": "2022-11-22T20:04:43.834473Z",
     "iopub.status.busy": "2022-11-22T20:04:43.834219Z",
     "iopub.status.idle": "2022-11-22T20:04:43.839762Z",
     "shell.execute_reply": "2022-11-22T20:04:43.838828Z"
    }
   },
   "outputs": [
    {
     "data": {
      "text/plain": [
       "(9, 18)"
      ]
     },
     "execution_count": 9,
     "metadata": {},
     "output_type": "execute_result"
    }
   ],
   "source": [
    "pr_df.shape"
   ]
  },
  {
   "cell_type": "markdown",
   "id": "c472ffbd",
   "metadata": {},
   "source": [
    "## Feature engineering\n",
    "\n",
    "In the next section we will do some basic feature engineering and correlation analyis on our dataset to see if anything interesting jumps out at us. "
   ]
  },
  {
   "cell_type": "markdown",
   "id": "4ed68d9a",
   "metadata": {},
   "source": [
    "**Time to Merge**\n",
    "\n",
    "We will derive a new feature called `time_to_merge` which will be the difference between the `created_at` and `merged_at` fields. "
   ]
  },
  {
   "cell_type": "code",
   "execution_count": 10,
   "id": "d67035e7",
   "metadata": {
    "execution": {
     "iopub.execute_input": "2022-11-22T20:04:43.843499Z",
     "iopub.status.busy": "2022-11-22T20:04:43.843231Z",
     "iopub.status.idle": "2022-11-22T20:04:43.849518Z",
     "shell.execute_reply": "2022-11-22T20:04:43.848577Z"
    }
   },
   "outputs": [],
   "source": [
    "# derive time_to_merege\n",
    "pr_df[\"time_to_merge\"] = pr_df[\"merged_at\"] - pr_df[\"created_at\"]\n",
    "pr_df[\"time_to_merge\"] = pr_df[\"time_to_merge\"].astype(\"float\")\n",
    "# NOTE: we cant fill NA with 0 because that would imply the PR got merged instantaneously"
   ]
  },
  {
   "cell_type": "code",
   "execution_count": 11,
   "id": "fddf9750-49f5-4997-8280-e94e1e778ad9",
   "metadata": {
    "execution": {
     "iopub.execute_input": "2022-11-22T20:04:43.853227Z",
     "iopub.status.busy": "2022-11-22T20:04:43.852923Z",
     "iopub.status.idle": "2022-11-22T20:04:43.859118Z",
     "shell.execute_reply": "2022-11-22T20:04:43.858177Z"
    }
   },
   "outputs": [
    {
     "data": {
      "text/plain": [
       "0        96.0\n",
       "1         7.0\n",
       "2         6.0\n",
       "3        35.0\n",
       "4    165391.0\n",
       "5         NaN\n",
       "6       549.0\n",
       "7        72.0\n",
       "8         NaN\n",
       "Name: time_to_merge, dtype: float64"
      ]
     },
     "execution_count": 11,
     "metadata": {},
     "output_type": "execute_result"
    }
   ],
   "source": [
    "pr_df[\"time_to_merge\"]"
   ]
  },
  {
   "cell_type": "markdown",
   "id": "939d196e",
   "metadata": {},
   "source": [
    "Let's look at the distribution of the time to merge column. This can help us determine what the setup for ML problems such as [#236](https://github.com/aicoe-aiops/ocp-ci-analysis/issues/236) could be like. That is, should the time to merge problem be framed as a regression or classification problem.\n",
    "\n",
    "First, lets try to determine what the granularity of the output values should be, in case of a regression setup. That is, should the model predict time to merge in number of seconds, number of hours, number of days, or some other chunk of time."
   ]
  },
  {
   "cell_type": "code",
   "execution_count": 12,
   "id": "b8cc628b",
   "metadata": {
    "execution": {
     "iopub.execute_input": "2022-11-22T20:04:43.863908Z",
     "iopub.status.busy": "2022-11-22T20:04:43.863606Z",
     "iopub.status.idle": "2022-11-22T20:04:43.872658Z",
     "shell.execute_reply": "2022-11-22T20:04:43.871617Z"
    },
    "tags": []
   },
   "outputs": [
    {
     "data": {
      "text/plain": [
       "1.0    0.857143\n",
       "2.0    0.142857\n",
       "Name: time_to_merge, dtype: float64"
      ]
     },
     "execution_count": 12,
     "metadata": {},
     "output_type": "execute_result"
    }
   ],
   "source": [
    "# what does the distribution of values look like if we choose days as the granularity\n",
    "ttm_days = np.ceil(pr_df.time_to_merge / (60 * 60 * 24))\n",
    "\n",
    "# value counts - to how many PRs have value 1, 2, 3, etc. for days to merge\n",
    "vc = ttm_days.value_counts()\n",
    "\n",
    "# normalized value counts (i.e. percent of PRs instead of raw number)\n",
    "nvc = vc / vc.sum()\n",
    "nvc"
   ]
  },
  {
   "cell_type": "code",
   "execution_count": 13,
   "id": "192aeb22",
   "metadata": {
    "execution": {
     "iopub.execute_input": "2022-11-22T20:04:43.876844Z",
     "iopub.status.busy": "2022-11-22T20:04:43.876427Z",
     "iopub.status.idle": "2022-11-22T20:04:43.885866Z",
     "shell.execute_reply": "2022-11-22T20:04:43.884905Z"
    },
    "tags": []
   },
   "outputs": [
    {
     "data": {
      "text/plain": [
       "1.0     0.857143\n",
       "16.0    0.142857\n",
       "Name: time_to_merge, dtype: float64"
      ]
     },
     "execution_count": 13,
     "metadata": {},
     "output_type": "execute_result"
    }
   ],
   "source": [
    "# what if we chose some intermediate value e.g. 3 hours as the granularity?\n",
    "ttm_3hours = np.ceil(pr_df.time_to_merge / (60 * 60 * 3))\n",
    "\n",
    "# value counts - to how many PRs have value 1, 2, 3, etc. for num. 3-hours to merge\n",
    "vc = ttm_3hours.value_counts()\n",
    "\n",
    "# normalized value counts (i.e. percent of PRs instead of raw number)\n",
    "nvc = vc / vc.sum()\n",
    "nvc"
   ]
  },
  {
   "cell_type": "code",
   "execution_count": 14,
   "id": "44e09f11",
   "metadata": {
    "execution": {
     "iopub.execute_input": "2022-11-22T20:04:43.890416Z",
     "iopub.status.busy": "2022-11-22T20:04:43.890135Z",
     "iopub.status.idle": "2022-11-22T20:04:43.898477Z",
     "shell.execute_reply": "2022-11-22T20:04:43.897495Z"
    },
    "tags": []
   },
   "outputs": [
    {
     "data": {
      "text/plain": [
       "1.0     0.857143\n",
       "46.0    0.142857\n",
       "Name: time_to_merge, dtype: float64"
      ]
     },
     "execution_count": 14,
     "metadata": {},
     "output_type": "execute_result"
    }
   ],
   "source": [
    "# what if we chose hours as the granularity?\n",
    "ttm_hours = np.ceil(pr_df.time_to_merge / (60 * 60))\n",
    "\n",
    "# value counts - to how many PRs have value 1, 2, 3, etc. for hours to merge\n",
    "vc = ttm_hours.value_counts()\n",
    "\n",
    "# normalized value counts (i.e. percent of PRs instead of raw number)\n",
    "nvc = vc / vc.sum()\n",
    "nvc"
   ]
  },
  {
   "cell_type": "markdown",
   "id": "fb8e316b",
   "metadata": {},
   "source": [
    "Now, lets try to determine, if we were to set this up as a classification problem, what the output classes should be. In the following cell, we'll try to split the time-to-merge values into 10 equally populated buckets."
   ]
  },
  {
   "cell_type": "code",
   "execution_count": 15,
   "id": "0ca35bc5",
   "metadata": {
    "execution": {
     "iopub.execute_input": "2022-11-22T20:04:43.903583Z",
     "iopub.status.busy": "2022-11-22T20:04:43.903312Z",
     "iopub.status.idle": "2022-11-22T20:04:43.912879Z",
     "shell.execute_reply": "2022-11-22T20:04:43.911926Z"
    }
   },
   "outputs": [
    {
     "data": {
      "text/plain": [
       "0.0     0.001667\n",
       "0.1     0.001833\n",
       "0.2     0.003500\n",
       "0.3     0.008167\n",
       "0.4     0.013833\n",
       "0.5     0.020000\n",
       "0.6     0.024000\n",
       "0.7     0.051833\n",
       "0.8     0.127333\n",
       "0.9    18.468278\n",
       "Name: time_to_merge, dtype: float64"
      ]
     },
     "execution_count": 15,
     "metadata": {},
     "output_type": "execute_result"
    }
   ],
   "source": [
    "# lets look at what the 10th, 20th, 30th etc percentiles are, to see what the bin boundaries (in terms of hours)\n",
    "# would be if we were to split the data in 10 equally populated bins\n",
    "n_buckets = 10\n",
    "\n",
    "quantiles = pr_df.time_to_merge.quantile(q=np.arange(0, 1 + 1e-100, 1 / n_buckets))\n",
    "quantiles / 3600"
   ]
  },
  {
   "cell_type": "code",
   "execution_count": 16,
   "id": "7b36d5d4-ec27-4a59-b63f-515830da1ae9",
   "metadata": {
    "execution": {
     "iopub.execute_input": "2022-11-22T20:04:43.917688Z",
     "iopub.status.busy": "2022-11-22T20:04:43.917399Z",
     "iopub.status.idle": "2022-11-22T20:04:43.921176Z",
     "shell.execute_reply": "2022-11-22T20:04:43.920283Z"
    }
   },
   "outputs": [],
   "source": [
    "intervals = quantiles"
   ]
  },
  {
   "cell_type": "code",
   "execution_count": 17,
   "id": "acc2bfd4",
   "metadata": {
    "execution": {
     "iopub.execute_input": "2022-11-22T20:04:43.925111Z",
     "iopub.status.busy": "2022-11-22T20:04:43.924696Z",
     "iopub.status.idle": "2022-11-22T20:04:43.932136Z",
     "shell.execute_reply": "2022-11-22T20:04:43.931049Z"
    }
   },
   "outputs": [
    {
     "data": {
      "text/plain": [
       "0.0          NaN\n",
       "0.1     0.000167\n",
       "0.2     0.001667\n",
       "0.3     0.004667\n",
       "0.4     0.005667\n",
       "0.5     0.006167\n",
       "0.6     0.004000\n",
       "0.7     0.027833\n",
       "0.8     0.075500\n",
       "0.9    18.340944\n",
       "Name: time_to_merge, dtype: float64"
      ]
     },
     "execution_count": 17,
     "metadata": {},
     "output_type": "execute_result"
    }
   ],
   "source": [
    "# gaps between the buckets (i.e. size of each bucket) in hours\n",
    "(quantiles - quantiles.shift()) / 3600"
   ]
  },
  {
   "cell_type": "markdown",
   "id": "7111b3d8",
   "metadata": {},
   "source": [
    "If we want to frame our ML problem as a classification problem, we can use the above buckets to define the classes."
   ]
  },
  {
   "cell_type": "markdown",
   "id": "21dc2dcf",
   "metadata": {},
   "source": [
    "**Body**\n",
    "\n",
    "Here, we will derive a feature called `body_size` which will simply be the number of words in the body of the PR. We can use this numerical value to describe the body of the PR."
   ]
  },
  {
   "cell_type": "code",
   "execution_count": 18,
   "id": "212f8a44",
   "metadata": {
    "execution": {
     "iopub.execute_input": "2022-11-22T20:04:43.936783Z",
     "iopub.status.busy": "2022-11-22T20:04:43.936496Z",
     "iopub.status.idle": "2022-11-22T20:04:43.942269Z",
     "shell.execute_reply": "2022-11-22T20:04:43.940631Z"
    }
   },
   "outputs": [],
   "source": [
    "# derive body_size\n",
    "pr_df[\"body_size\"] = pr_df[\"body\"].fillna(\"\").apply(lambda x: len(x.split()))"
   ]
  },
  {
   "cell_type": "code",
   "execution_count": 19,
   "id": "c62d9484",
   "metadata": {
    "execution": {
     "iopub.execute_input": "2022-11-22T20:04:43.946133Z",
     "iopub.status.busy": "2022-11-22T20:04:43.945848Z",
     "iopub.status.idle": "2022-11-22T20:04:43.951624Z",
     "shell.execute_reply": "2022-11-22T20:04:43.950749Z"
    }
   },
   "outputs": [
    {
     "data": {
      "text/plain": [
       "0    0\n",
       "1    0\n",
       "2    0\n",
       "3    0\n",
       "4    9\n",
       "5    0\n",
       "6    0\n",
       "7    0\n",
       "8    0\n",
       "Name: body_size, dtype: int64"
      ]
     },
     "execution_count": 19,
     "metadata": {},
     "output_type": "execute_result"
    }
   ],
   "source": [
    "pr_df[\"body_size\"]"
   ]
  },
  {
   "cell_type": "markdown",
   "id": "9916fd09",
   "metadata": {},
   "source": [
    "**Size**\n",
    "\n",
    "We can attempt to convert the categorical size label generated by GitHub, which summarizes the size of the changes made to the code base, to a numerical value. "
   ]
  },
  {
   "cell_type": "code",
   "execution_count": 20,
   "id": "cbc553ee-3e0b-45ed-83f6-02ae860bef85",
   "metadata": {
    "execution": {
     "iopub.execute_input": "2022-11-22T20:04:43.956356Z",
     "iopub.status.busy": "2022-11-22T20:04:43.956106Z",
     "iopub.status.idle": "2022-11-22T20:04:43.961660Z",
     "shell.execute_reply": "2022-11-22T20:04:43.960690Z"
    }
   },
   "outputs": [
    {
     "data": {
      "text/plain": [
       "{'S', 'XS', 'XXL'}"
      ]
     },
     "execution_count": 20,
     "metadata": {},
     "output_type": "execute_result"
    }
   ],
   "source": [
    "set(pr_df['size'])"
   ]
  },
  {
   "cell_type": "code",
   "execution_count": 21,
   "id": "709b4cf9",
   "metadata": {
    "execution": {
     "iopub.execute_input": "2022-11-22T20:04:43.966292Z",
     "iopub.status.busy": "2022-11-22T20:04:43.966029Z",
     "iopub.status.idle": "2022-11-22T20:04:43.972002Z",
     "shell.execute_reply": "2022-11-22T20:04:43.971095Z"
    }
   },
   "outputs": [],
   "source": [
    "convert_size = {\"size\": {\"NaN\": 0, \"XS\": 0, \"S\": 1, \"M\": 2, \"L\": 3, \"XL\": 4, \"XXL\": 5}}\n",
    "pr_df = pr_df.replace(convert_size)"
   ]
  },
  {
   "cell_type": "markdown",
   "id": "0b803d48",
   "metadata": {},
   "source": [
    "**Title**\n",
    "\n",
    "Lets try to see if the PR title text can be used to extract any useful information regarding the PR."
   ]
  },
  {
   "cell_type": "code",
   "execution_count": 22,
   "id": "020f050a",
   "metadata": {
    "execution": {
     "iopub.execute_input": "2022-11-22T20:04:43.976155Z",
     "iopub.status.busy": "2022-11-22T20:04:43.975876Z",
     "iopub.status.idle": "2022-11-22T20:04:43.984305Z",
     "shell.execute_reply": "2022-11-22T20:04:43.983378Z"
    }
   },
   "outputs": [
    {
     "data": {
      "text/plain": [
       "0                    marketplace\n",
       "1      test marketplace workflow\n",
       "2      test marketplace workflow\n",
       "3      test marketplace workflow\n",
       "4    pr inference comment test 1\n",
       "5                            two\n",
       "6                              3\n",
       "7                            one\n",
       "8                            one\n",
       "Name: title, dtype: object"
      ]
     },
     "execution_count": 22,
     "metadata": {},
     "output_type": "execute_result"
    }
   ],
   "source": [
    "# first lets preprocess the text available in the titles\n",
    "\n",
    "# convert to lowercase\n",
    "preproc_titles = pr_df[\"title\"].str.lower()\n",
    "\n",
    "# remove punctuations and symbols like : ; , # ( ) [ ] etc\n",
    "preproc_titles = preproc_titles.str.replace(r'[`#-.?!,:;\\/()\\[\\]\"\\']', \" \", regex=True)\n",
    "\n",
    "# remove hash-like strings i.e. 25+ char long strings containing 0-9 or a-f\n",
    "preproc_titles = preproc_titles.str.replace(r\"[0-9a-f]{25,}\", \" \", regex=True)\n",
    "\n",
    "preproc_titles"
   ]
  },
  {
   "cell_type": "code",
   "execution_count": 23,
   "id": "2ecc397e",
   "metadata": {
    "execution": {
     "iopub.execute_input": "2022-11-22T20:04:43.989044Z",
     "iopub.status.busy": "2022-11-22T20:04:43.988747Z",
     "iopub.status.idle": "2022-11-22T20:04:43.995053Z",
     "shell.execute_reply": "2022-11-22T20:04:43.994142Z"
    }
   },
   "outputs": [],
   "source": [
    "# what are the most commonly appearing words in the titles\n",
    "\n",
    "# combin all titles and split into words\n",
    "words = preproc_titles.str.cat(sep=\" \").split()\n",
    "\n",
    "# remove stopwords and numbers (e.g. bugzilla ids)\n",
    "words = [w for w in words if w not in set(STOPWORDS) and not w.isnumeric()]\n",
    "\n",
    "# word frequencies\n",
    "unique_words, counts = np.unique(words, return_counts=True)\n",
    "vc = pd.Series(counts, index=unique_words).sort_values(ascending=False)"
   ]
  },
  {
   "cell_type": "markdown",
   "id": "c52f211c",
   "metadata": {},
   "source": [
    "From the above graph, we can see that titles often contain some keywords that can hint towards the type of changes being made in the PR. We will create a feature which is a vector indicating how many times each word appeared in the title. This way, even if a less prominent word is more correlated with time_to_merge, we will be able to capture that relationship."
   ]
  },
  {
   "cell_type": "code",
   "execution_count": 24,
   "id": "65279268",
   "metadata": {
    "execution": {
     "iopub.execute_input": "2022-11-22T20:04:43.999314Z",
     "iopub.status.busy": "2022-11-22T20:04:43.999020Z",
     "iopub.status.idle": "2022-11-22T20:04:44.012878Z",
     "shell.execute_reply": "2022-11-22T20:04:44.011819Z"
    }
   },
   "outputs": [
    {
     "name": "stderr",
     "output_type": "stream",
     "text": [
      "100%|██████████| 8/8 [00:00<00:00, 1476.28it/s]\n"
     ]
    }
   ],
   "source": [
    "# add word count columns\n",
    "for word in tqdm(unique_words):\n",
    "    pr_df[f\"title_wordcount_{word}\"] = preproc_titles.apply(\n",
    "        lambda x: x.split().count(word)\n",
    "    )"
   ]
  },
  {
   "cell_type": "code",
   "execution_count": 25,
   "id": "41cf9f16",
   "metadata": {
    "execution": {
     "iopub.execute_input": "2022-11-22T20:04:44.016476Z",
     "iopub.status.busy": "2022-11-22T20:04:44.016198Z",
     "iopub.status.idle": "2022-11-22T20:04:44.025120Z",
     "shell.execute_reply": "2022-11-22T20:04:44.024328Z"
    }
   },
   "outputs": [],
   "source": [
    "# collapse the high dim vector into one column\n",
    "wordcount_columns = [c for c in pr_df.columns if \"wordcount\" in c]\n",
    "pr_df[\"title_word_counts_vec\"] = pr_df[wordcount_columns].apply(\n",
    "    lambda x: x.tolist(), axis=1\n",
    ")\n",
    "\n",
    "# drop the individual wordcount columns\n",
    "pr_df = pr_df.drop(columns=wordcount_columns)"
   ]
  },
  {
   "cell_type": "markdown",
   "id": "06f46edc",
   "metadata": {},
   "source": [
    "**Created At**\n",
    "\n",
    "This column can give us information on when the PR was created. Using the `created_at` field, we can derive other features like `time_of_day`, `day_of_week`, `day_of_month`, `month_in_year` each of which can be categorical features that can be useful to our analysis."
   ]
  },
  {
   "cell_type": "code",
   "execution_count": 26,
   "id": "b6db783b",
   "metadata": {
    "execution": {
     "iopub.execute_input": "2022-11-22T20:04:44.029088Z",
     "iopub.status.busy": "2022-11-22T20:04:44.028767Z",
     "iopub.status.idle": "2022-11-22T20:04:44.041529Z",
     "shell.execute_reply": "2022-11-22T20:04:44.039958Z"
    }
   },
   "outputs": [],
   "source": [
    "# convert to datetime object\n",
    "pr_df[\"created_at_datetime\"] = (\n",
    "    pr_df[\"created_at\"].fillna(\"\").apply(lambda x: datetime.datetime.fromtimestamp(x))\n",
    ")\n",
    "# get day as categorical variable\n",
    "pr_df[\"created_at_day\"] = pr_df[\"created_at_datetime\"].apply(lambda x: x.day)\n",
    "\n",
    "# get month as categorical variable\n",
    "pr_df[\"created_at_month\"] = pr_df[\"created_at_datetime\"].apply(lambda x: x.month)\n",
    "\n",
    "# get weekday as categorical variable\n",
    "pr_df[\"created_at_weekday\"] = pr_df[\"created_at_datetime\"].apply(lambda x: x.weekday())\n",
    "\n",
    "# get hour of day as categorical variable\n",
    "pr_df[\"created_at_hour\"] = pr_df[\"created_at_datetime\"].apply(lambda x: x.hour)"
   ]
  },
  {
   "cell_type": "code",
   "execution_count": 27,
   "id": "f6cb1704",
   "metadata": {
    "execution": {
     "iopub.execute_input": "2022-11-22T20:04:44.045511Z",
     "iopub.status.busy": "2022-11-22T20:04:44.045227Z",
     "iopub.status.idle": "2022-11-22T20:04:44.069159Z",
     "shell.execute_reply": "2022-11-22T20:04:44.067951Z"
    }
   },
   "outputs": [
    {
     "data": {
      "text/html": [
       "<div>\n",
       "<style scoped>\n",
       "    .dataframe tbody tr th:only-of-type {\n",
       "        vertical-align: middle;\n",
       "    }\n",
       "\n",
       "    .dataframe tbody tr th {\n",
       "        vertical-align: top;\n",
       "    }\n",
       "\n",
       "    .dataframe thead th {\n",
       "        text-align: right;\n",
       "    }\n",
       "</style>\n",
       "<table border=\"1\" class=\"dataframe\">\n",
       "  <thead>\n",
       "    <tr style=\"text-align: right;\">\n",
       "      <th></th>\n",
       "      <th>title</th>\n",
       "      <th>body</th>\n",
       "      <th>size</th>\n",
       "      <th>created_by</th>\n",
       "      <th>created_at</th>\n",
       "      <th>closed_at</th>\n",
       "      <th>closed_by</th>\n",
       "      <th>merged_at</th>\n",
       "      <th>merged_by</th>\n",
       "      <th>commits_number</th>\n",
       "      <th>...</th>\n",
       "      <th>first_review_at</th>\n",
       "      <th>first_approve_at</th>\n",
       "      <th>time_to_merge</th>\n",
       "      <th>body_size</th>\n",
       "      <th>title_word_counts_vec</th>\n",
       "      <th>created_at_datetime</th>\n",
       "      <th>created_at_day</th>\n",
       "      <th>created_at_month</th>\n",
       "      <th>created_at_weekday</th>\n",
       "      <th>created_at_hour</th>\n",
       "    </tr>\n",
       "  </thead>\n",
       "  <tbody>\n",
       "    <tr>\n",
       "      <th>0</th>\n",
       "      <td>Marketplace</td>\n",
       "      <td>None</td>\n",
       "      <td>0</td>\n",
       "      <td>MichaelClifford</td>\n",
       "      <td>1668193936</td>\n",
       "      <td>1668194032</td>\n",
       "      <td>MichaelClifford</td>\n",
       "      <td>1.668194e+09</td>\n",
       "      <td>MichaelClifford</td>\n",
       "      <td>4</td>\n",
       "      <td>...</td>\n",
       "      <td>NaN</td>\n",
       "      <td>None</td>\n",
       "      <td>96.0</td>\n",
       "      <td>0</td>\n",
       "      <td>[0, 0, 1, 0, 0, 0, 0, 0]</td>\n",
       "      <td>2022-11-11 19:12:16</td>\n",
       "      <td>11</td>\n",
       "      <td>11</td>\n",
       "      <td>4</td>\n",
       "      <td>19</td>\n",
       "    </tr>\n",
       "    <tr>\n",
       "      <th>1</th>\n",
       "      <td>test marketplace workflow</td>\n",
       "      <td>None</td>\n",
       "      <td>1</td>\n",
       "      <td>MichaelClifford</td>\n",
       "      <td>1668191744</td>\n",
       "      <td>1668191751</td>\n",
       "      <td>MichaelClifford</td>\n",
       "      <td>1.668192e+09</td>\n",
       "      <td>MichaelClifford</td>\n",
       "      <td>1</td>\n",
       "      <td>...</td>\n",
       "      <td>NaN</td>\n",
       "      <td>None</td>\n",
       "      <td>7.0</td>\n",
       "      <td>0</td>\n",
       "      <td>[0, 0, 1, 0, 0, 1, 0, 1]</td>\n",
       "      <td>2022-11-11 18:35:44</td>\n",
       "      <td>11</td>\n",
       "      <td>11</td>\n",
       "      <td>4</td>\n",
       "      <td>18</td>\n",
       "    </tr>\n",
       "  </tbody>\n",
       "</table>\n",
       "<p>2 rows × 26 columns</p>\n",
       "</div>"
      ],
      "text/plain": [
       "                       title  body  size       created_by  created_at  \\\n",
       "0                Marketplace  None     0  MichaelClifford  1668193936   \n",
       "1  test marketplace workflow  None     1  MichaelClifford  1668191744   \n",
       "\n",
       "    closed_at        closed_by     merged_at        merged_by  commits_number  \\\n",
       "0  1668194032  MichaelClifford  1.668194e+09  MichaelClifford               4   \n",
       "1  1668191751  MichaelClifford  1.668192e+09  MichaelClifford               1   \n",
       "\n",
       "   ...  first_review_at first_approve_at time_to_merge body_size  \\\n",
       "0  ...              NaN             None          96.0         0   \n",
       "1  ...              NaN             None           7.0         0   \n",
       "\n",
       "      title_word_counts_vec created_at_datetime  created_at_day  \\\n",
       "0  [0, 0, 1, 0, 0, 0, 0, 0] 2022-11-11 19:12:16              11   \n",
       "1  [0, 0, 1, 0, 0, 1, 0, 1] 2022-11-11 18:35:44              11   \n",
       "\n",
       "  created_at_month  created_at_weekday  created_at_hour  \n",
       "0               11                   4               19  \n",
       "1               11                   4               18  \n",
       "\n",
       "[2 rows x 26 columns]"
      ]
     },
     "execution_count": 27,
     "metadata": {},
     "output_type": "execute_result"
    }
   ],
   "source": [
    "pr_df.head(2)"
   ]
  },
  {
   "cell_type": "markdown",
   "id": "772ea2a9",
   "metadata": {},
   "source": [
    "**Changed Files Number**  \n",
    "Changed files is a numberical variable which captures the numer of files that were modified in the PR."
   ]
  },
  {
   "cell_type": "code",
   "execution_count": 28,
   "id": "b5687644",
   "metadata": {
    "execution": {
     "iopub.execute_input": "2022-11-22T20:04:44.072979Z",
     "iopub.status.busy": "2022-11-22T20:04:44.072689Z",
     "iopub.status.idle": "2022-11-22T20:04:44.081910Z",
     "shell.execute_reply": "2022-11-22T20:04:44.080821Z"
    }
   },
   "outputs": [
    {
     "data": {
      "text/plain": [
       "2    4\n",
       "1    2\n",
       "3    1\n",
       "0    1\n",
       "6    1\n",
       "Name: changed_files_number, dtype: int64"
      ]
     },
     "execution_count": 28,
     "metadata": {},
     "output_type": "execute_result"
    }
   ],
   "source": [
    "# convert changed_files_number to int\n",
    "pr_df[\"changed_files_number\"] = pr_df[\"changed_files_number\"].astype(\"int\")\n",
    "\n",
    "pr_df.changed_files_number.value_counts()"
   ]
  },
  {
   "cell_type": "markdown",
   "id": "2ec4a803",
   "metadata": {},
   "source": [
    "`changed_files_number` has more variability than the `commits_number`. We can incorporate this as a numerical feature."
   ]
  },
  {
   "cell_type": "markdown",
   "id": "360ea47c",
   "metadata": {},
   "source": [
    "**Changed_files**\n",
    "\n",
    "`changed_files` is a list of the paths and filenames for every file changed by this PR. From `changed_files`, we know, for each PR, which file types were changed which can be encoded as a frequency vector. Also we know which directory the change is made in, so that can be encoded as a categorical variable."
   ]
  },
  {
   "cell_type": "code",
   "execution_count": 29,
   "id": "ea080575",
   "metadata": {
    "execution": {
     "iopub.execute_input": "2022-11-22T20:04:44.086299Z",
     "iopub.status.busy": "2022-11-22T20:04:44.086045Z",
     "iopub.status.idle": "2022-11-22T20:04:44.092981Z",
     "shell.execute_reply": "2022-11-22T20:04:44.092058Z"
    }
   },
   "outputs": [
    {
     "data": {
      "text/plain": [
       "0       [.github/workflows/inference.yaml, action.yml]\n",
       "1    [.github/workflows/inference.yaml, Dockerfile,...\n",
       "2       [.github/workflows/inference.yaml, Dockerfile]\n",
       "3                   [.github/workflows/inference.yaml]\n",
       "4                                                   []\n",
       "5    [.github/workflows/infer.yaml, 01_notebook_exe...\n",
       "6                       [.github/workflows/infer.yaml]\n",
       "7     [.github/workflows/infer.yaml, changingfile.txt]\n",
       "8     [.github/workflows/infer.yaml, changingfile.txt]\n",
       "Name: changed_files, dtype: object"
      ]
     },
     "execution_count": 29,
     "metadata": {},
     "output_type": "execute_result"
    }
   ],
   "source": [
    "pr_df.changed_files"
   ]
  },
  {
   "cell_type": "code",
   "execution_count": 30,
   "id": "ba70b93f",
   "metadata": {
    "execution": {
     "iopub.execute_input": "2022-11-22T20:04:44.097437Z",
     "iopub.status.busy": "2022-11-22T20:04:44.097011Z",
     "iopub.status.idle": "2022-11-22T20:04:44.103036Z",
     "shell.execute_reply": "2022-11-22T20:04:44.102097Z"
    }
   },
   "outputs": [],
   "source": [
    "def filetype(filepath):\n",
    "\n",
    "    # if standard file extension, return file extension\n",
    "    if pathlib.Path(filepath).suffix:\n",
    "        return pathlib.Path(filepath).suffix\n",
    "\n",
    "    else:\n",
    "        # if single file at the root of repo\n",
    "        if \"/\" not in filepath:\n",
    "            # if a file like README/Dockerfile etc\n",
    "            if \".\" not in filepath:\n",
    "                return filepath\n",
    "        # if file not at root\n",
    "        else:\n",
    "            # get file name\n",
    "            file = filepath.rsplit(\"/\", 1)[1]\n",
    "            if \".\" not in file:\n",
    "                return file\n",
    "            elif \".\" in file:\n",
    "                return \".\" + file.rsplit(\".\", 1)[1]"
   ]
  },
  {
   "cell_type": "code",
   "execution_count": 31,
   "id": "2e00c415",
   "metadata": {
    "execution": {
     "iopub.execute_input": "2022-11-22T20:04:44.107053Z",
     "iopub.status.busy": "2022-11-22T20:04:44.106756Z",
     "iopub.status.idle": "2022-11-22T20:04:44.110459Z",
     "shell.execute_reply": "2022-11-22T20:04:44.109596Z"
    }
   },
   "outputs": [],
   "source": [
    "# get list of all file types that were modified across all openshift origin PRs\n",
    "changed_files = list(pr_df[\"changed_files\"])"
   ]
  },
  {
   "cell_type": "code",
   "execution_count": 32,
   "id": "36a1dcda",
   "metadata": {
    "execution": {
     "iopub.execute_input": "2022-11-22T20:04:44.114240Z",
     "iopub.status.busy": "2022-11-22T20:04:44.113701Z",
     "iopub.status.idle": "2022-11-22T20:04:44.118233Z",
     "shell.execute_reply": "2022-11-22T20:04:44.117345Z"
    }
   },
   "outputs": [],
   "source": [
    "all_changed_files = [filetype(filepath) for pr in changed_files for filepath in pr]"
   ]
  },
  {
   "cell_type": "code",
   "execution_count": 33,
   "id": "d7de1e91",
   "metadata": {
    "execution": {
     "iopub.execute_input": "2022-11-22T20:04:44.121908Z",
     "iopub.status.busy": "2022-11-22T20:04:44.121391Z",
     "iopub.status.idle": "2022-11-22T20:04:44.125577Z",
     "shell.execute_reply": "2022-11-22T20:04:44.124681Z"
    }
   },
   "outputs": [],
   "source": [
    "count = Counter(all_changed_files)"
   ]
  },
  {
   "cell_type": "code",
   "execution_count": 34,
   "id": "17e5fd80",
   "metadata": {
    "execution": {
     "iopub.execute_input": "2022-11-22T20:04:44.129271Z",
     "iopub.status.busy": "2022-11-22T20:04:44.128780Z",
     "iopub.status.idle": "2022-11-22T20:04:44.133167Z",
     "shell.execute_reply": "2022-11-22T20:04:44.132124Z"
    }
   },
   "outputs": [],
   "source": [
    "# save 100 most commonly occuring file extensions across PRs\n",
    "top_fileextensions_freq = count.most_common(100)\n",
    "top_fileextensions = [ext[0] for ext in top_fileextensions_freq]"
   ]
  },
  {
   "cell_type": "code",
   "execution_count": 35,
   "id": "25a14da8",
   "metadata": {
    "execution": {
     "iopub.execute_input": "2022-11-22T20:04:44.136850Z",
     "iopub.status.busy": "2022-11-22T20:04:44.136561Z",
     "iopub.status.idle": "2022-11-22T20:04:44.141920Z",
     "shell.execute_reply": "2022-11-22T20:04:44.141025Z"
    }
   },
   "outputs": [
    {
     "data": {
      "text/plain": [
       "['.yaml', '.ipynb', '.txt', '.yml', 'Dockerfile']"
      ]
     },
     "execution_count": 35,
     "metadata": {},
     "output_type": "execute_result"
    }
   ],
   "source": [
    "top_fileextensions"
   ]
  },
  {
   "cell_type": "code",
   "execution_count": 36,
   "id": "ecd11700",
   "metadata": {
    "execution": {
     "iopub.execute_input": "2022-11-22T20:04:44.146299Z",
     "iopub.status.busy": "2022-11-22T20:04:44.145882Z",
     "iopub.status.idle": "2022-11-22T20:04:44.151561Z",
     "shell.execute_reply": "2022-11-22T20:04:44.150645Z"
    }
   },
   "outputs": [],
   "source": [
    "def file_type_freq(list_of_filepaths):\n",
    "    \"\"\"\n",
    "    For a given PR's list of changed files,\n",
    "    return a changed files frequency vector\n",
    "    ( a vector which holds the frequency of\n",
    "    changed files of the type  for every\n",
    "    file type in top_fileextensions )\n",
    "    \"\"\"\n",
    "\n",
    "    file_extensions = [filetype(f) for f in list_of_filepaths]\n",
    "    ext_dict = {key: 0 for key in top_fileextensions}\n",
    "    for f in file_extensions:\n",
    "        if f in ext_dict:\n",
    "            ext_dict[f] += 1\n",
    "\n",
    "    return list(ext_dict.values())"
   ]
  },
  {
   "cell_type": "code",
   "execution_count": 37,
   "id": "cc0b7906",
   "metadata": {
    "execution": {
     "iopub.execute_input": "2022-11-22T20:04:44.155378Z",
     "iopub.status.busy": "2022-11-22T20:04:44.154971Z",
     "iopub.status.idle": "2022-11-22T20:04:44.160462Z",
     "shell.execute_reply": "2022-11-22T20:04:44.159546Z"
    }
   },
   "outputs": [],
   "source": [
    "pr_df[\"changed_file_type_vec\"] = pr_df[\"changed_files\"].apply(\n",
    "    lambda x: file_type_freq(x)\n",
    ")"
   ]
  },
  {
   "cell_type": "code",
   "execution_count": 38,
   "id": "4fe7bb1d",
   "metadata": {
    "execution": {
     "iopub.execute_input": "2022-11-22T20:04:44.164332Z",
     "iopub.status.busy": "2022-11-22T20:04:44.163868Z",
     "iopub.status.idle": "2022-11-22T20:04:44.186608Z",
     "shell.execute_reply": "2022-11-22T20:04:44.185664Z"
    }
   },
   "outputs": [
    {
     "data": {
      "text/html": [
       "<div>\n",
       "<style scoped>\n",
       "    .dataframe tbody tr th:only-of-type {\n",
       "        vertical-align: middle;\n",
       "    }\n",
       "\n",
       "    .dataframe tbody tr th {\n",
       "        vertical-align: top;\n",
       "    }\n",
       "\n",
       "    .dataframe thead th {\n",
       "        text-align: right;\n",
       "    }\n",
       "</style>\n",
       "<table border=\"1\" class=\"dataframe\">\n",
       "  <thead>\n",
       "    <tr style=\"text-align: right;\">\n",
       "      <th></th>\n",
       "      <th>title</th>\n",
       "      <th>body</th>\n",
       "      <th>size</th>\n",
       "      <th>created_by</th>\n",
       "      <th>created_at</th>\n",
       "      <th>closed_at</th>\n",
       "      <th>closed_by</th>\n",
       "      <th>merged_at</th>\n",
       "      <th>merged_by</th>\n",
       "      <th>commits_number</th>\n",
       "      <th>...</th>\n",
       "      <th>first_approve_at</th>\n",
       "      <th>time_to_merge</th>\n",
       "      <th>body_size</th>\n",
       "      <th>title_word_counts_vec</th>\n",
       "      <th>created_at_datetime</th>\n",
       "      <th>created_at_day</th>\n",
       "      <th>created_at_month</th>\n",
       "      <th>created_at_weekday</th>\n",
       "      <th>created_at_hour</th>\n",
       "      <th>changed_file_type_vec</th>\n",
       "    </tr>\n",
       "  </thead>\n",
       "  <tbody>\n",
       "    <tr>\n",
       "      <th>0</th>\n",
       "      <td>Marketplace</td>\n",
       "      <td>None</td>\n",
       "      <td>0</td>\n",
       "      <td>MichaelClifford</td>\n",
       "      <td>1668193936</td>\n",
       "      <td>1668194032</td>\n",
       "      <td>MichaelClifford</td>\n",
       "      <td>1.668194e+09</td>\n",
       "      <td>MichaelClifford</td>\n",
       "      <td>4</td>\n",
       "      <td>...</td>\n",
       "      <td>None</td>\n",
       "      <td>96.0</td>\n",
       "      <td>0</td>\n",
       "      <td>[0, 0, 1, 0, 0, 0, 0, 0]</td>\n",
       "      <td>2022-11-11 19:12:16</td>\n",
       "      <td>11</td>\n",
       "      <td>11</td>\n",
       "      <td>4</td>\n",
       "      <td>19</td>\n",
       "      <td>[1, 0, 0, 1, 0]</td>\n",
       "    </tr>\n",
       "    <tr>\n",
       "      <th>1</th>\n",
       "      <td>test marketplace workflow</td>\n",
       "      <td>None</td>\n",
       "      <td>1</td>\n",
       "      <td>MichaelClifford</td>\n",
       "      <td>1668191744</td>\n",
       "      <td>1668191751</td>\n",
       "      <td>MichaelClifford</td>\n",
       "      <td>1.668192e+09</td>\n",
       "      <td>MichaelClifford</td>\n",
       "      <td>1</td>\n",
       "      <td>...</td>\n",
       "      <td>None</td>\n",
       "      <td>7.0</td>\n",
       "      <td>0</td>\n",
       "      <td>[0, 0, 1, 0, 0, 1, 0, 1]</td>\n",
       "      <td>2022-11-11 18:35:44</td>\n",
       "      <td>11</td>\n",
       "      <td>11</td>\n",
       "      <td>4</td>\n",
       "      <td>18</td>\n",
       "      <td>[1, 0, 0, 1, 1]</td>\n",
       "    </tr>\n",
       "  </tbody>\n",
       "</table>\n",
       "<p>2 rows × 27 columns</p>\n",
       "</div>"
      ],
      "text/plain": [
       "                       title  body  size       created_by  created_at  \\\n",
       "0                Marketplace  None     0  MichaelClifford  1668193936   \n",
       "1  test marketplace workflow  None     1  MichaelClifford  1668191744   \n",
       "\n",
       "    closed_at        closed_by     merged_at        merged_by  commits_number  \\\n",
       "0  1668194032  MichaelClifford  1.668194e+09  MichaelClifford               4   \n",
       "1  1668191751  MichaelClifford  1.668192e+09  MichaelClifford               1   \n",
       "\n",
       "   ...  first_approve_at time_to_merge body_size     title_word_counts_vec  \\\n",
       "0  ...              None          96.0         0  [0, 0, 1, 0, 0, 0, 0, 0]   \n",
       "1  ...              None           7.0         0  [0, 0, 1, 0, 0, 1, 0, 1]   \n",
       "\n",
       "  created_at_datetime created_at_day  created_at_month created_at_weekday  \\\n",
       "0 2022-11-11 19:12:16             11                11                  4   \n",
       "1 2022-11-11 18:35:44             11                11                  4   \n",
       "\n",
       "   created_at_hour  changed_file_type_vec  \n",
       "0               19        [1, 0, 0, 1, 0]  \n",
       "1               18        [1, 0, 0, 1, 1]  \n",
       "\n",
       "[2 rows x 27 columns]"
      ]
     },
     "execution_count": 38,
     "metadata": {},
     "output_type": "execute_result"
    }
   ],
   "source": [
    "pr_df.head(2)"
   ]
  },
  {
   "cell_type": "markdown",
   "id": "8102f95e-6175-4b46-99c1-66175f20325c",
   "metadata": {},
   "source": [
    "## Create PR trends dashboard"
   ]
  },
  {
   "cell_type": "markdown",
   "id": "5e502b7f-49c4-4024-aebc-3c9720a94209",
   "metadata": {},
   "source": [
    "## Infer dataframe columns as Features"
   ]
  },
  {
   "cell_type": "markdown",
   "id": "70443afd",
   "metadata": {},
   "source": [
    "We can see above that some PRs have 0 for all directory fields since the directory structure of the repo has changed over time and we are interested in only the latest directory structure."
   ]
  },
  {
   "cell_type": "code",
   "execution_count": 39,
   "id": "64e7a822",
   "metadata": {
    "execution": {
     "iopub.execute_input": "2022-11-22T20:04:44.190822Z",
     "iopub.status.busy": "2022-11-22T20:04:44.190372Z",
     "iopub.status.idle": "2022-11-22T20:04:44.197159Z",
     "shell.execute_reply": "2022-11-22T20:04:44.196093Z"
    }
   },
   "outputs": [],
   "source": [
    "# subset DataFrame to use as features\n",
    "feature_df = pr_df[\n",
    "    [\n",
    "        \"time_to_merge\",\n",
    "        \"changed_files_number\",\n",
    "        \"body_size\",\n",
    "        \"size\",\n",
    "        \"title_word_counts_vec\",\n",
    "        \"created_at_day\",\n",
    "        \"created_at_month\",\n",
    "        \"created_at_weekday\",\n",
    "        \"created_at_hour\",\n",
    "        \"commits_number\",\n",
    "        \"changed_file_type_vec\",\n",
    "    ]\n",
    "]"
   ]
  },
  {
   "cell_type": "markdown",
   "id": "0b08a241",
   "metadata": {},
   "source": [
    "### Add PR TTM Class Column \n",
    "\n",
    "Lets split up the time to merge values into 10 discrete bins (as discussed above) to use as our prediction classes."
   ]
  },
  {
   "cell_type": "code",
   "execution_count": 40,
   "id": "b1a5adc0-e8e2-4159-af36-a6fdc938de17",
   "metadata": {
    "execution": {
     "iopub.execute_input": "2022-11-22T20:04:44.200964Z",
     "iopub.status.busy": "2022-11-22T20:04:44.200449Z",
     "iopub.status.idle": "2022-11-22T20:04:44.207473Z",
     "shell.execute_reply": "2022-11-22T20:04:44.206570Z"
    }
   },
   "outputs": [
    {
     "data": {
      "text/plain": [
       "0.0        6.0\n",
       "0.1        6.6\n",
       "0.2       12.6\n",
       "0.3       29.4\n",
       "0.4       49.8\n",
       "0.5       72.0\n",
       "0.6       86.4\n",
       "0.7      186.6\n",
       "0.8      458.4\n",
       "0.9    66485.8\n",
       "Name: time_to_merge, dtype: float64"
      ]
     },
     "execution_count": 40,
     "metadata": {},
     "output_type": "execute_result"
    }
   ],
   "source": [
    "intervals"
   ]
  },
  {
   "cell_type": "code",
   "execution_count": 41,
   "id": "ec16152d-0fb3-4775-913a-9e476382d713",
   "metadata": {
    "execution": {
     "iopub.execute_input": "2022-11-22T20:04:44.211868Z",
     "iopub.status.busy": "2022-11-22T20:04:44.211422Z",
     "iopub.status.idle": "2022-11-22T20:04:44.442564Z",
     "shell.execute_reply": "2022-11-22T20:04:44.441668Z"
    }
   },
   "outputs": [
    {
     "name": "stderr",
     "output_type": "stream",
     "text": [
      "/tmp/ipykernel_143/2436122750.py:9: SettingWithCopyWarning: \n",
      "A value is trying to be set on a copy of a slice from a DataFrame.\n",
      "Try using .loc[row_indexer,col_indexer] = value instead\n",
      "\n",
      "See the caveats in the documentation: https://pandas.pydata.org/pandas-docs/stable/user_guide/indexing.html#returning-a-view-versus-a-copy\n",
      "  feature_df[\"ttm_class\"] = (feature_df[\"time_to_merge\"]).apply(get_ttm_class)\n"
     ]
    },
    {
     "data": {
      "text/html": [
       "<div>\n",
       "<style scoped>\n",
       "    .dataframe tbody tr th:only-of-type {\n",
       "        vertical-align: middle;\n",
       "    }\n",
       "\n",
       "    .dataframe tbody tr th {\n",
       "        vertical-align: top;\n",
       "    }\n",
       "\n",
       "    .dataframe thead th {\n",
       "        text-align: right;\n",
       "    }\n",
       "</style>\n",
       "<table border=\"1\" class=\"dataframe\">\n",
       "  <thead>\n",
       "    <tr style=\"text-align: right;\">\n",
       "      <th></th>\n",
       "      <th>time_to_merge</th>\n",
       "      <th>changed_files_number</th>\n",
       "      <th>body_size</th>\n",
       "      <th>size</th>\n",
       "      <th>title_word_counts_vec</th>\n",
       "      <th>created_at_day</th>\n",
       "      <th>created_at_month</th>\n",
       "      <th>created_at_weekday</th>\n",
       "      <th>created_at_hour</th>\n",
       "      <th>commits_number</th>\n",
       "      <th>changed_file_type_vec</th>\n",
       "      <th>ttm_class</th>\n",
       "    </tr>\n",
       "  </thead>\n",
       "  <tbody>\n",
       "    <tr>\n",
       "      <th>0</th>\n",
       "      <td>96.0</td>\n",
       "      <td>2</td>\n",
       "      <td>0</td>\n",
       "      <td>0</td>\n",
       "      <td>[0, 0, 1, 0, 0, 0, 0, 0]</td>\n",
       "      <td>11</td>\n",
       "      <td>11</td>\n",
       "      <td>4</td>\n",
       "      <td>19</td>\n",
       "      <td>4</td>\n",
       "      <td>[1, 0, 0, 1, 0]</td>\n",
       "      <td>6</td>\n",
       "    </tr>\n",
       "    <tr>\n",
       "      <th>1</th>\n",
       "      <td>7.0</td>\n",
       "      <td>3</td>\n",
       "      <td>0</td>\n",
       "      <td>1</td>\n",
       "      <td>[0, 0, 1, 0, 0, 1, 0, 1]</td>\n",
       "      <td>11</td>\n",
       "      <td>11</td>\n",
       "      <td>4</td>\n",
       "      <td>18</td>\n",
       "      <td>1</td>\n",
       "      <td>[1, 0, 0, 1, 1]</td>\n",
       "      <td>1</td>\n",
       "    </tr>\n",
       "    <tr>\n",
       "      <th>2</th>\n",
       "      <td>6.0</td>\n",
       "      <td>2</td>\n",
       "      <td>0</td>\n",
       "      <td>0</td>\n",
       "      <td>[0, 0, 1, 0, 0, 1, 0, 1]</td>\n",
       "      <td>11</td>\n",
       "      <td>11</td>\n",
       "      <td>4</td>\n",
       "      <td>18</td>\n",
       "      <td>1</td>\n",
       "      <td>[1, 0, 0, 0, 1]</td>\n",
       "      <td>0</td>\n",
       "    </tr>\n",
       "    <tr>\n",
       "      <th>3</th>\n",
       "      <td>35.0</td>\n",
       "      <td>1</td>\n",
       "      <td>0</td>\n",
       "      <td>0</td>\n",
       "      <td>[0, 0, 1, 0, 0, 1, 0, 1]</td>\n",
       "      <td>11</td>\n",
       "      <td>11</td>\n",
       "      <td>4</td>\n",
       "      <td>18</td>\n",
       "      <td>1</td>\n",
       "      <td>[1, 0, 0, 0, 0]</td>\n",
       "      <td>3</td>\n",
       "    </tr>\n",
       "    <tr>\n",
       "      <th>4</th>\n",
       "      <td>165391.0</td>\n",
       "      <td>0</td>\n",
       "      <td>9</td>\n",
       "      <td>0</td>\n",
       "      <td>[1, 1, 0, 0, 1, 1, 0, 0]</td>\n",
       "      <td>9</td>\n",
       "      <td>11</td>\n",
       "      <td>2</td>\n",
       "      <td>16</td>\n",
       "      <td>0</td>\n",
       "      <td>[0, 0, 0, 0, 0]</td>\n",
       "      <td>9</td>\n",
       "    </tr>\n",
       "  </tbody>\n",
       "</table>\n",
       "</div>"
      ],
      "text/plain": [
       "   time_to_merge  changed_files_number  body_size  size  \\\n",
       "0           96.0                     2          0     0   \n",
       "1            7.0                     3          0     1   \n",
       "2            6.0                     2          0     0   \n",
       "3           35.0                     1          0     0   \n",
       "4       165391.0                     0          9     0   \n",
       "\n",
       "      title_word_counts_vec  created_at_day  created_at_month  \\\n",
       "0  [0, 0, 1, 0, 0, 0, 0, 0]              11                11   \n",
       "1  [0, 0, 1, 0, 0, 1, 0, 1]              11                11   \n",
       "2  [0, 0, 1, 0, 0, 1, 0, 1]              11                11   \n",
       "3  [0, 0, 1, 0, 0, 1, 0, 1]              11                11   \n",
       "4  [1, 1, 0, 0, 1, 1, 0, 0]               9                11   \n",
       "\n",
       "   created_at_weekday  created_at_hour  commits_number changed_file_type_vec  \\\n",
       "0                   4               19               4       [1, 0, 0, 1, 0]   \n",
       "1                   4               18               1       [1, 0, 0, 1, 1]   \n",
       "2                   4               18               1       [1, 0, 0, 0, 1]   \n",
       "3                   4               18               1       [1, 0, 0, 0, 0]   \n",
       "4                   2               16               0       [0, 0, 0, 0, 0]   \n",
       "\n",
       "   ttm_class  \n",
       "0          6  \n",
       "1          1  \n",
       "2          0  \n",
       "3          3  \n",
       "4          9  "
      ]
     },
     "execution_count": 41,
     "metadata": {},
     "output_type": "execute_result"
    }
   ],
   "source": [
    "def get_ttm_class(ttm):\n",
    "\n",
    "    for rownum, (indx, val) in enumerate(intervals.iteritems()):\n",
    "        if ttm < val:\n",
    "            return rownum - 1\n",
    "    return 9\n",
    "\n",
    "\n",
    "feature_df[\"ttm_class\"] = (feature_df[\"time_to_merge\"]).apply(get_ttm_class)\n",
    "feature_df.head()"
   ]
  },
  {
   "cell_type": "markdown",
   "id": "04749f45",
   "metadata": {},
   "source": [
    "## Evaluating Feature Importances\n",
    "\n",
    "### Categorical Features\n",
    "\n",
    "First, lets try to determine what categorical featuers are powerful influencers for time to merge of a PR"
   ]
  },
  {
   "cell_type": "code",
   "execution_count": 42,
   "id": "e353c92b",
   "metadata": {
    "execution": {
     "iopub.execute_input": "2022-11-22T20:04:44.447681Z",
     "iopub.status.busy": "2022-11-22T20:04:44.447371Z",
     "iopub.status.idle": "2022-11-22T20:04:44.452420Z",
     "shell.execute_reply": "2022-11-22T20:04:44.451476Z"
    }
   },
   "outputs": [],
   "source": [
    "# feature selection helper function\n",
    "def select_features(x, y, func):\n",
    "    fs = SelectKBest(score_func=func, k=\"all\")\n",
    "    fs.fit(x, y)\n",
    "    x_fs = fs.transform(x)\n",
    "    return x_fs, fs\n",
    "\n",
    "\n",
    "selected_features = []"
   ]
  },
  {
   "cell_type": "code",
   "execution_count": 43,
   "id": "986b3424-0401-4c7a-8f28-a860b87e14ef",
   "metadata": {
    "execution": {
     "iopub.execute_input": "2022-11-22T20:04:44.456348Z",
     "iopub.status.busy": "2022-11-22T20:04:44.456064Z",
     "iopub.status.idle": "2022-11-22T20:04:44.459939Z",
     "shell.execute_reply": "2022-11-22T20:04:44.459007Z"
    }
   },
   "outputs": [],
   "source": [
    "cat_features = [\n",
    "    \"size\",\n",
    "    \"created_at_day\",\n",
    "    \"created_at_month\",\n",
    "    \"created_at_weekday\",\n",
    "    \"created_at_hour\",\n",
    "    \"ttm_class\",\n",
    "]"
   ]
  },
  {
   "cell_type": "code",
   "execution_count": 44,
   "id": "3e1d24a4",
   "metadata": {
    "execution": {
     "iopub.execute_input": "2022-11-22T20:04:44.463759Z",
     "iopub.status.busy": "2022-11-22T20:04:44.463485Z",
     "iopub.status.idle": "2022-11-22T20:04:44.475317Z",
     "shell.execute_reply": "2022-11-22T20:04:44.474416Z"
    }
   },
   "outputs": [
    {
     "data": {
      "text/html": [
       "<div>\n",
       "<style scoped>\n",
       "    .dataframe tbody tr th:only-of-type {\n",
       "        vertical-align: middle;\n",
       "    }\n",
       "\n",
       "    .dataframe tbody tr th {\n",
       "        vertical-align: top;\n",
       "    }\n",
       "\n",
       "    .dataframe thead th {\n",
       "        text-align: right;\n",
       "    }\n",
       "</style>\n",
       "<table border=\"1\" class=\"dataframe\">\n",
       "  <thead>\n",
       "    <tr style=\"text-align: right;\">\n",
       "      <th></th>\n",
       "      <th>size</th>\n",
       "      <th>created_at_day</th>\n",
       "      <th>created_at_month</th>\n",
       "      <th>created_at_weekday</th>\n",
       "      <th>created_at_hour</th>\n",
       "      <th>ttm_class</th>\n",
       "    </tr>\n",
       "  </thead>\n",
       "  <tbody>\n",
       "    <tr>\n",
       "      <th>0</th>\n",
       "      <td>0</td>\n",
       "      <td>11</td>\n",
       "      <td>11</td>\n",
       "      <td>4</td>\n",
       "      <td>19</td>\n",
       "      <td>6</td>\n",
       "    </tr>\n",
       "    <tr>\n",
       "      <th>1</th>\n",
       "      <td>1</td>\n",
       "      <td>11</td>\n",
       "      <td>11</td>\n",
       "      <td>4</td>\n",
       "      <td>18</td>\n",
       "      <td>1</td>\n",
       "    </tr>\n",
       "    <tr>\n",
       "      <th>2</th>\n",
       "      <td>0</td>\n",
       "      <td>11</td>\n",
       "      <td>11</td>\n",
       "      <td>4</td>\n",
       "      <td>18</td>\n",
       "      <td>0</td>\n",
       "    </tr>\n",
       "    <tr>\n",
       "      <th>3</th>\n",
       "      <td>0</td>\n",
       "      <td>11</td>\n",
       "      <td>11</td>\n",
       "      <td>4</td>\n",
       "      <td>18</td>\n",
       "      <td>3</td>\n",
       "    </tr>\n",
       "    <tr>\n",
       "      <th>4</th>\n",
       "      <td>0</td>\n",
       "      <td>9</td>\n",
       "      <td>11</td>\n",
       "      <td>2</td>\n",
       "      <td>16</td>\n",
       "      <td>9</td>\n",
       "    </tr>\n",
       "  </tbody>\n",
       "</table>\n",
       "</div>"
      ],
      "text/plain": [
       "   size  created_at_day  created_at_month  created_at_weekday  \\\n",
       "0     0              11                11                   4   \n",
       "1     1              11                11                   4   \n",
       "2     0              11                11                   4   \n",
       "3     0              11                11                   4   \n",
       "4     0               9                11                   2   \n",
       "\n",
       "   created_at_hour  ttm_class  \n",
       "0               19          6  \n",
       "1               18          1  \n",
       "2               18          0  \n",
       "3               18          3  \n",
       "4               16          9  "
      ]
     },
     "execution_count": 44,
     "metadata": {},
     "output_type": "execute_result"
    }
   ],
   "source": [
    "cat_df = feature_df[cat_features]\n",
    "\n",
    "cat_df.head()"
   ]
  },
  {
   "cell_type": "code",
   "execution_count": 45,
   "id": "278e3073",
   "metadata": {
    "execution": {
     "iopub.execute_input": "2022-11-22T20:04:44.479281Z",
     "iopub.status.busy": "2022-11-22T20:04:44.478988Z",
     "iopub.status.idle": "2022-11-22T20:04:44.483918Z",
     "shell.execute_reply": "2022-11-22T20:04:44.482991Z"
    }
   },
   "outputs": [],
   "source": [
    "# split into input (x) and output (y) variables\n",
    "X_inp = cat_df.drop(columns=[\"ttm_class\"])\n",
    "y = cat_df[\"ttm_class\"]"
   ]
  },
  {
   "cell_type": "code",
   "execution_count": 46,
   "id": "2df4fb8d",
   "metadata": {
    "execution": {
     "iopub.execute_input": "2022-11-22T20:04:44.488773Z",
     "iopub.status.busy": "2022-11-22T20:04:44.488462Z",
     "iopub.status.idle": "2022-11-22T20:04:44.627804Z",
     "shell.execute_reply": "2022-11-22T20:04:44.626630Z"
    }
   },
   "outputs": [],
   "source": [
    "# rank using mutual_info_classif\n",
    "X_fs, fs = select_features(X_inp, y, mutual_info_classif)"
   ]
  },
  {
   "cell_type": "code",
   "execution_count": 47,
   "id": "418becb1",
   "metadata": {
    "execution": {
     "iopub.execute_input": "2022-11-22T20:04:44.634139Z",
     "iopub.status.busy": "2022-11-22T20:04:44.632763Z",
     "iopub.status.idle": "2022-11-22T20:04:44.640592Z",
     "shell.execute_reply": "2022-11-22T20:04:44.639877Z"
    }
   },
   "outputs": [
    {
     "name": "stdout",
     "output_type": "stream",
     "text": [
      "Feature size: 0.000000\n",
      "Feature created_at_day: 0.000000\n",
      "Feature created_at_month: 0.000000\n",
      "Feature created_at_weekday: 0.000000\n",
      "Feature created_at_hour: 0.000000\n"
     ]
    }
   ],
   "source": [
    "for i in range(len(fs.scores_)):\n",
    "    print(\"Feature %s: %f\" % (X_inp.columns[i], fs.scores_[i]))"
   ]
  },
  {
   "cell_type": "code",
   "execution_count": 48,
   "id": "b08ea157",
   "metadata": {
    "execution": {
     "iopub.execute_input": "2022-11-22T20:04:44.645763Z",
     "iopub.status.busy": "2022-11-22T20:04:44.644442Z",
     "iopub.status.idle": "2022-11-22T20:04:44.844335Z",
     "shell.execute_reply": "2022-11-22T20:04:44.843429Z"
    }
   },
   "outputs": [
    {
     "data": {
      "image/png": "[encoded data removed]",
      "text/plain": [
       "<Figure size 432x288 with 1 Axes>"
      ]
     },
     "metadata": {
      "needs_background": "light"
     },
     "output_type": "display_data"
    }
   ],
   "source": [
    "# visualize scores of all features\n",
    "sns.barplot(x=X_inp.columns, y=fs.scores_)\n",
    "plt.title(\"Feature importance scores for Mutual Information Statistic\")\n",
    "plt.xticks(rotation=60)\n",
    "plt.xlabel(\"Features\")\n",
    "plt.ylabel(\"Scores\")\n",
    "plt.show()"
   ]
  },
  {
   "cell_type": "code",
   "execution_count": 49,
   "id": "176c1d98",
   "metadata": {
    "execution": {
     "iopub.execute_input": "2022-11-22T20:04:44.848817Z",
     "iopub.status.busy": "2022-11-22T20:04:44.848358Z",
     "iopub.status.idle": "2022-11-22T20:04:44.853599Z",
     "shell.execute_reply": "2022-11-22T20:04:44.852717Z"
    }
   },
   "outputs": [],
   "source": [
    "# Lets get a list of the top 10 feature indices based on Mutual Info Stat feature scores\n",
    "top_mis = fs.scores_.argsort()[-10:][::-1]"
   ]
  },
  {
   "cell_type": "code",
   "execution_count": 50,
   "id": "c33dc4f2",
   "metadata": {
    "execution": {
     "iopub.execute_input": "2022-11-22T20:04:44.857578Z",
     "iopub.status.busy": "2022-11-22T20:04:44.857307Z",
     "iopub.status.idle": "2022-11-22T20:04:44.866109Z",
     "shell.execute_reply": "2022-11-22T20:04:44.865192Z"
    }
   },
   "outputs": [],
   "source": [
    "# rank using chi_sq\n",
    "X_fs, fs = select_features(X_inp, y, chi2)"
   ]
  },
  {
   "cell_type": "code",
   "execution_count": 51,
   "id": "313c6906",
   "metadata": {
    "execution": {
     "iopub.execute_input": "2022-11-22T20:04:44.870633Z",
     "iopub.status.busy": "2022-11-22T20:04:44.870083Z",
     "iopub.status.idle": "2022-11-22T20:04:44.876896Z",
     "shell.execute_reply": "2022-11-22T20:04:44.876070Z"
    }
   },
   "outputs": [
    {
     "name": "stdout",
     "output_type": "stream",
     "text": [
      "Feature size: 7.750000\n",
      "Feature created_at_day: 10.869565\n",
      "Feature created_at_month: 0.000000\n",
      "Feature created_at_weekday: 0.235294\n",
      "Feature created_at_hour: 0.273292\n"
     ]
    }
   ],
   "source": [
    "for i in range(len(fs.scores_)):\n",
    "    print(\"Feature %s: %f\" % (X_inp.columns[i], fs.scores_[i]))"
   ]
  },
  {
   "cell_type": "code",
   "execution_count": 52,
   "id": "460daed6",
   "metadata": {
    "execution": {
     "iopub.execute_input": "2022-11-22T20:04:44.880986Z",
     "iopub.status.busy": "2022-11-22T20:04:44.880391Z",
     "iopub.status.idle": "2022-11-22T20:04:45.053355Z",
     "shell.execute_reply": "2022-11-22T20:04:45.052346Z"
    }
   },
   "outputs": [
    {
     "data": {
      "image/png": "[encoded data removed]",
      "text/plain": [
       "<Figure size 432x288 with 1 Axes>"
      ]
     },
     "metadata": {
      "needs_background": "light"
     },
     "output_type": "display_data"
    }
   ],
   "source": [
    "# visualize scores of all features\n",
    "sns.barplot(x=X_inp.columns, y=fs.scores_)\n",
    "plt.title(\"Feature importance scores for Chi Squared\")\n",
    "plt.xticks(rotation=60)\n",
    "plt.xlabel(\"Features\")\n",
    "plt.ylabel(\"Scores\")\n",
    "plt.show()"
   ]
  },
  {
   "cell_type": "code",
   "execution_count": 53,
   "id": "9874b4b4",
   "metadata": {
    "execution": {
     "iopub.execute_input": "2022-11-22T20:04:45.057425Z",
     "iopub.status.busy": "2022-11-22T20:04:45.057103Z",
     "iopub.status.idle": "2022-11-22T20:04:45.063170Z",
     "shell.execute_reply": "2022-11-22T20:04:45.062041Z"
    }
   },
   "outputs": [],
   "source": [
    "# Lets get a list of the top 10 feature indices based on Chi Sq feature scores\n",
    "top_chi2 = fs.scores_.argsort()[-10:][::-1]"
   ]
  },
  {
   "cell_type": "markdown",
   "id": "5861b291",
   "metadata": {},
   "source": [
    "Let's get a Union of the top 10 features derived from features based on both scores of both Mutual Info Statistic and Chi Squared"
   ]
  },
  {
   "cell_type": "code",
   "execution_count": 54,
   "id": "fae59295",
   "metadata": {
    "execution": {
     "iopub.execute_input": "2022-11-22T20:04:45.070075Z",
     "iopub.status.busy": "2022-11-22T20:04:45.067256Z",
     "iopub.status.idle": "2022-11-22T20:04:45.081975Z",
     "shell.execute_reply": "2022-11-22T20:04:45.081064Z"
    }
   },
   "outputs": [
    {
     "name": "stdout",
     "output_type": "stream",
     "text": [
      "5\n"
     ]
    },
    {
     "data": {
      "text/plain": [
       "{0, 1, 2, 3, 4}"
      ]
     },
     "execution_count": 54,
     "metadata": {},
     "output_type": "execute_result"
    }
   ],
   "source": [
    "union = set(top_mis).union(set(top_chi2))\n",
    "print(len(union))\n",
    "union"
   ]
  },
  {
   "cell_type": "code",
   "execution_count": 55,
   "id": "4778b695-9ec8-4d9f-a1dd-26d749b43a95",
   "metadata": {
    "execution": {
     "iopub.execute_input": "2022-11-22T20:04:45.087718Z",
     "iopub.status.busy": "2022-11-22T20:04:45.087423Z",
     "iopub.status.idle": "2022-11-22T20:04:45.092924Z",
     "shell.execute_reply": "2022-11-22T20:04:45.092206Z"
    }
   },
   "outputs": [
    {
     "data": {
      "text/plain": [
       "['size',\n",
       " 'created_at_day',\n",
       " 'created_at_month',\n",
       " 'created_at_weekday',\n",
       " 'created_at_hour']"
      ]
     },
     "execution_count": 55,
     "metadata": {},
     "output_type": "execute_result"
    }
   ],
   "source": [
    "selected_cat_features = [cat_features[i] for i in union]\n",
    "selected_cat_features"
   ]
  },
  {
   "cell_type": "code",
   "execution_count": 56,
   "id": "5b0ce173",
   "metadata": {
    "execution": {
     "iopub.execute_input": "2022-11-22T20:04:45.098485Z",
     "iopub.status.busy": "2022-11-22T20:04:45.098205Z",
     "iopub.status.idle": "2022-11-22T20:04:45.101831Z",
     "shell.execute_reply": "2022-11-22T20:04:45.101074Z"
    }
   },
   "outputs": [],
   "source": [
    "# update list of features to keep for training\n",
    "selected_features += selected_cat_features"
   ]
  },
  {
   "cell_type": "markdown",
   "id": "33f4387d",
   "metadata": {},
   "source": [
    "### Numerical Features\n",
    "\n",
    "Now, lets try to determine what numerical featuers are powerful influencers for time to merge of a PR"
   ]
  },
  {
   "cell_type": "code",
   "execution_count": 57,
   "id": "29683916-4ef7-474a-80ac-11a5d210b6fa",
   "metadata": {
    "execution": {
     "iopub.execute_input": "2022-11-22T20:04:45.108575Z",
     "iopub.status.busy": "2022-11-22T20:04:45.107795Z",
     "iopub.status.idle": "2022-11-22T20:04:45.114163Z",
     "shell.execute_reply": "2022-11-22T20:04:45.113206Z"
    }
   },
   "outputs": [],
   "source": [
    "numerical_features = [\n",
    "    \"changed_files_number\",\n",
    "    \"body_size\",\n",
    "    \"commits_number\",\n",
    "    \"ttm_class\",\n",
    "]"
   ]
  },
  {
   "cell_type": "code",
   "execution_count": 58,
   "id": "b0d608dd",
   "metadata": {
    "execution": {
     "iopub.execute_input": "2022-11-22T20:04:45.117689Z",
     "iopub.status.busy": "2022-11-22T20:04:45.117406Z",
     "iopub.status.idle": "2022-11-22T20:04:45.127979Z",
     "shell.execute_reply": "2022-11-22T20:04:45.126904Z"
    }
   },
   "outputs": [
    {
     "data": {
      "text/html": [
       "<div>\n",
       "<style scoped>\n",
       "    .dataframe tbody tr th:only-of-type {\n",
       "        vertical-align: middle;\n",
       "    }\n",
       "\n",
       "    .dataframe tbody tr th {\n",
       "        vertical-align: top;\n",
       "    }\n",
       "\n",
       "    .dataframe thead th {\n",
       "        text-align: right;\n",
       "    }\n",
       "</style>\n",
       "<table border=\"1\" class=\"dataframe\">\n",
       "  <thead>\n",
       "    <tr style=\"text-align: right;\">\n",
       "      <th></th>\n",
       "      <th>changed_files_number</th>\n",
       "      <th>body_size</th>\n",
       "      <th>commits_number</th>\n",
       "      <th>ttm_class</th>\n",
       "    </tr>\n",
       "  </thead>\n",
       "  <tbody>\n",
       "    <tr>\n",
       "      <th>0</th>\n",
       "      <td>2</td>\n",
       "      <td>0</td>\n",
       "      <td>4</td>\n",
       "      <td>6</td>\n",
       "    </tr>\n",
       "    <tr>\n",
       "      <th>1</th>\n",
       "      <td>3</td>\n",
       "      <td>0</td>\n",
       "      <td>1</td>\n",
       "      <td>1</td>\n",
       "    </tr>\n",
       "    <tr>\n",
       "      <th>2</th>\n",
       "      <td>2</td>\n",
       "      <td>0</td>\n",
       "      <td>1</td>\n",
       "      <td>0</td>\n",
       "    </tr>\n",
       "    <tr>\n",
       "      <th>3</th>\n",
       "      <td>1</td>\n",
       "      <td>0</td>\n",
       "      <td>1</td>\n",
       "      <td>3</td>\n",
       "    </tr>\n",
       "    <tr>\n",
       "      <th>4</th>\n",
       "      <td>0</td>\n",
       "      <td>9</td>\n",
       "      <td>0</td>\n",
       "      <td>9</td>\n",
       "    </tr>\n",
       "  </tbody>\n",
       "</table>\n",
       "</div>"
      ],
      "text/plain": [
       "   changed_files_number  body_size  commits_number  ttm_class\n",
       "0                     2          0               4          6\n",
       "1                     3          0               1          1\n",
       "2                     2          0               1          0\n",
       "3                     1          0               1          3\n",
       "4                     0          9               0          9"
      ]
     },
     "execution_count": 58,
     "metadata": {},
     "output_type": "execute_result"
    }
   ],
   "source": [
    "numerical_df = feature_df[numerical_features]\n",
    "numerical_df.head()"
   ]
  },
  {
   "cell_type": "code",
   "execution_count": 59,
   "id": "9ff2919e",
   "metadata": {
    "execution": {
     "iopub.execute_input": "2022-11-22T20:04:45.132632Z",
     "iopub.status.busy": "2022-11-22T20:04:45.132346Z",
     "iopub.status.idle": "2022-11-22T20:04:45.137610Z",
     "shell.execute_reply": "2022-11-22T20:04:45.136703Z"
    }
   },
   "outputs": [],
   "source": [
    "# split into input features and target\n",
    "X_inp = numerical_df.drop(columns=[\"ttm_class\"])\n",
    "y = numerical_df[\"ttm_class\"]"
   ]
  },
  {
   "cell_type": "code",
   "execution_count": 60,
   "id": "cc733746",
   "metadata": {
    "execution": {
     "iopub.execute_input": "2022-11-22T20:04:45.141451Z",
     "iopub.status.busy": "2022-11-22T20:04:45.141153Z",
     "iopub.status.idle": "2022-11-22T20:04:45.301611Z",
     "shell.execute_reply": "2022-11-22T20:04:45.300490Z"
    },
    "tags": []
   },
   "outputs": [
    {
     "data": {
      "image/png": "[encoded data removed]",
      "text/plain": [
       "<Figure size 432x288 with 1 Axes>"
      ]
     },
     "metadata": {
      "needs_background": "light"
     },
     "output_type": "display_data"
    }
   ],
   "source": [
    "# create k best feature selector object based on mutual information\n",
    "numerical_feats_mi, k_best_selector_mi = select_features(\n",
    "    X_inp,\n",
    "    y,\n",
    "    partial(\n",
    "        mutual_info_classif,\n",
    "        discrete_features=False,\n",
    "        random_state=42,\n",
    "        n_neighbors=3,\n",
    "    ),\n",
    ")\n",
    "\n",
    "# visualize the MI scores of all features\n",
    "sns.barplot(x=X_inp.columns, y=k_best_selector_mi.scores_)\n",
    "plt.title(\"Feature importance based on Mutual Information\")\n",
    "plt.xticks(rotation=60)\n",
    "plt.xlabel(\"Features\")\n",
    "plt.ylabel(\"Scores\")\n",
    "plt.show()"
   ]
  },
  {
   "cell_type": "code",
   "execution_count": 61,
   "id": "7bdf2192",
   "metadata": {
    "execution": {
     "iopub.execute_input": "2022-11-22T20:04:45.305584Z",
     "iopub.status.busy": "2022-11-22T20:04:45.305119Z",
     "iopub.status.idle": "2022-11-22T20:04:45.528649Z",
     "shell.execute_reply": "2022-11-22T20:04:45.527624Z"
    }
   },
   "outputs": [
    {
     "data": {
      "image/png": "[encoded data removed]",
      "text/plain": [
       "<Figure size 432x288 with 2 Axes>"
      ]
     },
     "metadata": {
      "needs_background": "light"
     },
     "output_type": "display_data"
    }
   ],
   "source": [
    "# create k best feature selector object based on anova f statistic\n",
    "numerical_feats_f, k_best_selector_f = select_features(\n",
    "    X_inp,\n",
    "    y,\n",
    "    f_classif,\n",
    ")\n",
    "\n",
    "# visualize the f stat scores and pvalues of all features\n",
    "fig, axes = plt.subplots(2, 1, sharex=True)\n",
    "fig.suptitle(\"Feature importance based on ANOVA F stat\")\n",
    "sns.barplot(x=X_inp.columns, y=k_best_selector_f.scores_, ax=axes[0])\n",
    "sns.barplot(x=X_inp.columns, y=k_best_selector_f.pvalues_, ax=axes[1])\n",
    "plt.xticks(rotation=60)\n",
    "plt.xlabel(\"Features\")\n",
    "axes[0].set_ylabel(\"Scores\")\n",
    "axes[1].set_ylabel(\"p-values\")\n",
    "plt.show()"
   ]
  },
  {
   "cell_type": "code",
   "execution_count": 62,
   "id": "6134ddb1-994f-42ee-8a68-7111540b6481",
   "metadata": {
    "execution": {
     "iopub.execute_input": "2022-11-22T20:04:45.533560Z",
     "iopub.status.busy": "2022-11-22T20:04:45.532921Z",
     "iopub.status.idle": "2022-11-22T20:04:45.539778Z",
     "shell.execute_reply": "2022-11-22T20:04:45.538887Z"
    }
   },
   "outputs": [
    {
     "data": {
      "text/plain": [
       "{0, 1, 2}"
      ]
     },
     "execution_count": 62,
     "metadata": {},
     "output_type": "execute_result"
    }
   ],
   "source": [
    "top_mi = k_best_selector_mi.scores_.argsort()[-3:][::-1]\n",
    "top_anova = k_best_selector_f.scores_.argsort()[-3:][::-1]\n",
    "union = set(top_mi).union(set(top_anova))\n",
    "union"
   ]
  },
  {
   "cell_type": "code",
   "execution_count": 63,
   "id": "2d5a9368-bfaf-4348-b140-13e6d725f59c",
   "metadata": {
    "execution": {
     "iopub.execute_input": "2022-11-22T20:04:45.543495Z",
     "iopub.status.busy": "2022-11-22T20:04:45.543198Z",
     "iopub.status.idle": "2022-11-22T20:04:45.551524Z",
     "shell.execute_reply": "2022-11-22T20:04:45.550608Z"
    }
   },
   "outputs": [
    {
     "data": {
      "text/plain": [
       "['changed_files_number', 'body_size', 'commits_number']"
      ]
     },
     "execution_count": 63,
     "metadata": {},
     "output_type": "execute_result"
    }
   ],
   "source": [
    "selected_num_features = [numerical_features[i] for i in union]\n",
    "selected_num_features"
   ]
  },
  {
   "cell_type": "code",
   "execution_count": 64,
   "id": "cc984a01",
   "metadata": {
    "execution": {
     "iopub.execute_input": "2022-11-22T20:04:45.555214Z",
     "iopub.status.busy": "2022-11-22T20:04:45.554952Z",
     "iopub.status.idle": "2022-11-22T20:04:45.558682Z",
     "shell.execute_reply": "2022-11-22T20:04:45.557775Z"
    }
   },
   "outputs": [],
   "source": [
    "# update list of features to keep for training\n",
    "selected_features += selected_num_features"
   ]
  },
  {
   "cell_type": "markdown",
   "id": "11a86b36",
   "metadata": {},
   "source": [
    "### Count Vector Type Features\n",
    "\n",
    "Finally, lets determine the most important features from the count vector type columns."
   ]
  },
  {
   "cell_type": "code",
   "execution_count": 65,
   "id": "f07d0334",
   "metadata": {
    "execution": {
     "iopub.execute_input": "2022-11-22T20:04:45.562625Z",
     "iopub.status.busy": "2022-11-22T20:04:45.562349Z",
     "iopub.status.idle": "2022-11-22T20:04:45.567923Z",
     "shell.execute_reply": "2022-11-22T20:04:45.566974Z"
    },
    "scrolled": true
   },
   "outputs": [],
   "source": [
    "# explode the list column so that there is 1 column representing frequency of each file type\n",
    "filetype_df = pd.DataFrame(feature_df.changed_file_type_vec.to_list())\n",
    "filetype_df.index = feature_df.index\n",
    "filetype_df.columns = [f\"filetype_{f}\" for f in top_fileextensions]"
   ]
  },
  {
   "cell_type": "code",
   "execution_count": 66,
   "id": "35f93d4e",
   "metadata": {
    "execution": {
     "iopub.execute_input": "2022-11-22T20:04:45.572046Z",
     "iopub.status.busy": "2022-11-22T20:04:45.571723Z",
     "iopub.status.idle": "2022-11-22T20:04:45.582228Z",
     "shell.execute_reply": "2022-11-22T20:04:45.581305Z"
    }
   },
   "outputs": [
    {
     "data": {
      "text/plain": [
       "filetype_.txt          0.447338\n",
       "filetype_.ipynb        0.364933\n",
       "filetype_.yml         -0.329257\n",
       "filetype_.yaml        -0.364933\n",
       "filetype_Dockerfile   -0.809793\n",
       "dtype: float64"
      ]
     },
     "execution_count": 66,
     "metadata": {},
     "output_type": "execute_result"
    }
   ],
   "source": [
    "# compute correlation with ttm\n",
    "corr = filetype_df.corrwith(feature_df[\"ttm_class\"])\n",
    "corr.sort_values(ascending=False)"
   ]
  },
  {
   "cell_type": "code",
   "execution_count": 67,
   "id": "d5ae2981",
   "metadata": {
    "execution": {
     "iopub.execute_input": "2022-11-22T20:04:45.587038Z",
     "iopub.status.busy": "2022-11-22T20:04:45.586759Z",
     "iopub.status.idle": "2022-11-22T20:04:45.593851Z",
     "shell.execute_reply": "2022-11-22T20:04:45.592747Z"
    }
   },
   "outputs": [
    {
     "data": {
      "text/plain": [
       "filetype_.yaml        -0.364933\n",
       "filetype_.ipynb        0.364933\n",
       "filetype_.txt          0.447338\n",
       "filetype_.yml         -0.329257\n",
       "filetype_Dockerfile   -0.809793\n",
       "dtype: float64"
      ]
     },
     "execution_count": 67,
     "metadata": {},
     "output_type": "execute_result"
    }
   ],
   "source": [
    "corr[corr.abs() > 0.01]"
   ]
  },
  {
   "cell_type": "code",
   "execution_count": 68,
   "id": "9d5e19bd",
   "metadata": {
    "execution": {
     "iopub.execute_input": "2022-11-22T20:04:45.598590Z",
     "iopub.status.busy": "2022-11-22T20:04:45.598299Z",
     "iopub.status.idle": "2022-11-22T20:04:45.604567Z",
     "shell.execute_reply": "2022-11-22T20:04:45.602990Z"
    }
   },
   "outputs": [],
   "source": [
    "# update list of features to keep for training\n",
    "# take everything that has more than 0.01 correlation magnitude\n",
    "filetype_keep_cols = corr[corr.abs() > 0.01].index.tolist()\n",
    "selected_features += filetype_keep_cols\n",
    "\n",
    "# only keep the relevant columns now\n",
    "filetype_df = filetype_df[filetype_keep_cols]"
   ]
  },
  {
   "cell_type": "code",
   "execution_count": 69,
   "id": "2eab2fb8-ee9e-4a4e-9d2e-7629f9c56cb9",
   "metadata": {
    "execution": {
     "iopub.execute_input": "2022-11-22T20:04:45.609317Z",
     "iopub.status.busy": "2022-11-22T20:04:45.607979Z",
     "iopub.status.idle": "2022-11-22T20:04:45.615087Z",
     "shell.execute_reply": "2022-11-22T20:04:45.614189Z"
    }
   },
   "outputs": [
    {
     "data": {
      "text/plain": [
       "['.yaml', '.ipynb', '.txt', '.yml', 'Dockerfile']"
      ]
     },
     "execution_count": 69,
     "metadata": {},
     "output_type": "execute_result"
    }
   ],
   "source": [
    "filetype_keep_cols = [i[9:] for i in filetype_keep_cols]\n",
    "filetype_keep_cols"
   ]
  },
  {
   "cell_type": "code",
   "execution_count": 70,
   "id": "2b2da9ab-de61-44f5-91f1-a897e8f7a962",
   "metadata": {
    "execution": {
     "iopub.execute_input": "2022-11-22T20:04:45.619013Z",
     "iopub.status.busy": "2022-11-22T20:04:45.618705Z",
     "iopub.status.idle": "2022-11-22T20:04:45.623219Z",
     "shell.execute_reply": "2022-11-22T20:04:45.622278Z"
    }
   },
   "outputs": [],
   "source": [
    "filetype_keep_cols_df = pd.DataFrame(filetype_keep_cols, columns=[\"filetype\"])"
   ]
  },
  {
   "cell_type": "code",
   "execution_count": 71,
   "id": "773682ad-cda8-42ec-9275-dc611004d913",
   "metadata": {
    "execution": {
     "iopub.execute_input": "2022-11-22T20:04:45.628037Z",
     "iopub.status.busy": "2022-11-22T20:04:45.627691Z",
     "iopub.status.idle": "2022-11-22T20:04:45.635506Z",
     "shell.execute_reply": "2022-11-22T20:04:45.634567Z"
    }
   },
   "outputs": [
    {
     "data": {
      "text/html": [
       "<div>\n",
       "<style scoped>\n",
       "    .dataframe tbody tr th:only-of-type {\n",
       "        vertical-align: middle;\n",
       "    }\n",
       "\n",
       "    .dataframe tbody tr th {\n",
       "        vertical-align: top;\n",
       "    }\n",
       "\n",
       "    .dataframe thead th {\n",
       "        text-align: right;\n",
       "    }\n",
       "</style>\n",
       "<table border=\"1\" class=\"dataframe\">\n",
       "  <thead>\n",
       "    <tr style=\"text-align: right;\">\n",
       "      <th></th>\n",
       "      <th>filetype</th>\n",
       "    </tr>\n",
       "  </thead>\n",
       "  <tbody>\n",
       "    <tr>\n",
       "      <th>0</th>\n",
       "      <td>.yaml</td>\n",
       "    </tr>\n",
       "    <tr>\n",
       "      <th>1</th>\n",
       "      <td>.ipynb</td>\n",
       "    </tr>\n",
       "    <tr>\n",
       "      <th>2</th>\n",
       "      <td>.txt</td>\n",
       "    </tr>\n",
       "    <tr>\n",
       "      <th>3</th>\n",
       "      <td>.yml</td>\n",
       "    </tr>\n",
       "    <tr>\n",
       "      <th>4</th>\n",
       "      <td>Dockerfile</td>\n",
       "    </tr>\n",
       "  </tbody>\n",
       "</table>\n",
       "</div>"
      ],
      "text/plain": [
       "     filetype\n",
       "0       .yaml\n",
       "1      .ipynb\n",
       "2        .txt\n",
       "3        .yml\n",
       "4  Dockerfile"
      ]
     },
     "execution_count": 71,
     "metadata": {},
     "output_type": "execute_result"
    }
   ],
   "source": [
    "filetype_keep_cols_df"
   ]
  },
  {
   "cell_type": "code",
   "execution_count": 72,
   "id": "7333e449-4e2a-42aa-b728-3f36d205ed1f",
   "metadata": {
    "execution": {
     "iopub.execute_input": "2022-11-22T20:04:45.639932Z",
     "iopub.status.busy": "2022-11-22T20:04:45.639617Z",
     "iopub.status.idle": "2022-11-22T20:04:45.848290Z",
     "shell.execute_reply": "2022-11-22T20:04:45.847289Z"
    }
   },
   "outputs": [
    {
     "data": {
      "text/plain": [
       "{'ResponseMetadata': {'RequestId': 'lasnbenr-cbgvvm-15k',\n",
       "  'HostId': 'lasnbenr-cbgvvm-15k',\n",
       "  'HTTPStatusCode': 200,\n",
       "  'HTTPHeaders': {'x-amz-request-id': 'lasnbenr-cbgvvm-15k',\n",
       "   'x-amz-id-2': 'lasnbenr-cbgvvm-15k',\n",
       "   'access-control-allow-origin': '*',\n",
       "   'access-control-allow-credentials': 'true',\n",
       "   'access-control-allow-methods': 'GET,POST,PUT,DELETE,OPTIONS',\n",
       "   'access-control-allow-headers': 'Content-Type,Content-MD5,Authorization,X-Amz-User-Agent,X-Amz-Date,ETag,X-Amz-Content-Sha256',\n",
       "   'access-control-expose-headers': 'ETag,X-Amz-Version-Id',\n",
       "   'etag': '\"6e62eb8f02ed5c0cc9ed79bcd50adb51\"',\n",
       "   'date': 'Tue, 22 Nov 2022 20:04:45 GMT',\n",
       "   'keep-alive': 'timeout=5',\n",
       "   'content-length': '0',\n",
       "   'set-cookie': '1a4aa612fe797ac8466d7ee00e5520d5=b9a4e3efe932781180a9a8945a639f83; path=/; HttpOnly; Secure; SameSite=None'},\n",
       "  'RetryAttempts': 0},\n",
       " 'ETag': '\"6e62eb8f02ed5c0cc9ed79bcd50adb51\"'}"
      ]
     },
     "execution_count": 72,
     "metadata": {},
     "output_type": "execute_result"
    }
   ],
   "source": [
    "FILETYPE_FEATURES_FILENAME = os.path.join(ORG + REPO + \"FILETYPE.parquet\")\n",
    "FILETYPE_FEATURES_KEY = os.path.join(s3_input_data_path, ORG, REPO, \"features\")\n",
    "cc.upload_to_ceph(\n",
    "    filetype_keep_cols_df, FILETYPE_FEATURES_KEY, FILETYPE_FEATURES_FILENAME\n",
    ")"
   ]
  },
  {
   "cell_type": "code",
   "execution_count": 73,
   "id": "618842b5",
   "metadata": {
    "execution": {
     "iopub.execute_input": "2022-11-22T20:04:45.852665Z",
     "iopub.status.busy": "2022-11-22T20:04:45.852370Z",
     "iopub.status.idle": "2022-11-22T20:04:45.858389Z",
     "shell.execute_reply": "2022-11-22T20:04:45.857480Z"
    }
   },
   "outputs": [],
   "source": [
    "# explode the list column so that there is 1 column representing frequency of each word\n",
    "title_wordcount_df = pd.DataFrame(feature_df.title_word_counts_vec.to_list())\n",
    "\n",
    "title_wordcount_df.index = feature_df.index\n",
    "title_wordcount_df.columns = [f\"title_wordcount_{w}\" for w in unique_words]"
   ]
  },
  {
   "cell_type": "code",
   "execution_count": 74,
   "id": "457f28ed",
   "metadata": {
    "execution": {
     "iopub.execute_input": "2022-11-22T20:04:45.861727Z",
     "iopub.status.busy": "2022-11-22T20:04:45.861444Z",
     "iopub.status.idle": "2022-11-22T20:04:45.872853Z",
     "shell.execute_reply": "2022-11-22T20:04:45.871924Z"
    },
    "scrolled": true
   },
   "outputs": [
    {
     "data": {
      "text/plain": [
       "title_wordcount_comment        0.364933\n",
       "title_wordcount_inference      0.364933\n",
       "title_wordcount_pr             0.364933\n",
       "title_wordcount_two            0.364933\n",
       "title_wordcount_one            0.231369\n",
       "title_wordcount_test          -0.617959\n",
       "title_wordcount_marketplace   -0.818982\n",
       "title_wordcount_workflow      -0.894675\n",
       "dtype: float64"
      ]
     },
     "execution_count": 74,
     "metadata": {},
     "output_type": "execute_result"
    }
   ],
   "source": [
    "# compute correlation with ttm\n",
    "corr = title_wordcount_df.corrwith(feature_df[\"ttm_class\"])\n",
    "corr = corr.dropna()\n",
    "corr.sort_values(ascending=False)"
   ]
  },
  {
   "cell_type": "code",
   "execution_count": 75,
   "id": "0f1495a6",
   "metadata": {
    "execution": {
     "iopub.execute_input": "2022-11-22T20:04:45.876527Z",
     "iopub.status.busy": "2022-11-22T20:04:45.876228Z",
     "iopub.status.idle": "2022-11-22T20:04:45.885254Z",
     "shell.execute_reply": "2022-11-22T20:04:45.884341Z"
    }
   },
   "outputs": [
    {
     "data": {
      "text/plain": [
       "title_wordcount_comment        0.364933\n",
       "title_wordcount_inference      0.364933\n",
       "title_wordcount_marketplace   -0.818982\n",
       "title_wordcount_one            0.231369\n",
       "title_wordcount_pr             0.364933\n",
       "title_wordcount_test          -0.617959\n",
       "title_wordcount_two            0.364933\n",
       "title_wordcount_workflow      -0.894675\n",
       "dtype: float64"
      ]
     },
     "execution_count": 75,
     "metadata": {},
     "output_type": "execute_result"
    }
   ],
   "source": [
    "corr[corr.abs() > 0.04]"
   ]
  },
  {
   "cell_type": "code",
   "execution_count": 76,
   "id": "624b3504",
   "metadata": {
    "execution": {
     "iopub.execute_input": "2022-11-22T20:04:45.888869Z",
     "iopub.status.busy": "2022-11-22T20:04:45.888587Z",
     "iopub.status.idle": "2022-11-22T20:04:45.894297Z",
     "shell.execute_reply": "2022-11-22T20:04:45.893413Z"
    }
   },
   "outputs": [],
   "source": [
    "# update list of features to keep for training\n",
    "# take everything that has more than 0.01 correlation magnitude\n",
    "title_word_keep_cols = corr[corr.abs() > 0.04].index.tolist()\n",
    "selected_features += title_word_keep_cols\n",
    "\n",
    "title_wordcount_df = title_wordcount_df[title_word_keep_cols]"
   ]
  },
  {
   "cell_type": "code",
   "execution_count": 77,
   "id": "45cd6a78-361c-444f-8065-4127f2e29313",
   "metadata": {
    "execution": {
     "iopub.execute_input": "2022-11-22T20:04:45.898233Z",
     "iopub.status.busy": "2022-11-22T20:04:45.897937Z",
     "iopub.status.idle": "2022-11-22T20:04:45.903717Z",
     "shell.execute_reply": "2022-11-22T20:04:45.902882Z"
    }
   },
   "outputs": [
    {
     "data": {
      "text/plain": [
       "['comment', 'inference', 'marketplace', 'one', 'pr', 'test', 'two', 'workflow']"
      ]
     },
     "execution_count": 77,
     "metadata": {},
     "output_type": "execute_result"
    }
   ],
   "source": [
    "title_word_keep_cols = [i[16:] for i in title_word_keep_cols]\n",
    "title_word_keep_cols"
   ]
  },
  {
   "cell_type": "code",
   "execution_count": 78,
   "id": "8b937135-f983-4d6c-961e-f9c7158d108c",
   "metadata": {
    "execution": {
     "iopub.execute_input": "2022-11-22T20:04:45.907221Z",
     "iopub.status.busy": "2022-11-22T20:04:45.906933Z",
     "iopub.status.idle": "2022-11-22T20:04:45.911611Z",
     "shell.execute_reply": "2022-11-22T20:04:45.910722Z"
    }
   },
   "outputs": [],
   "source": [
    "title_word_keep_cols_df = pd.DataFrame(title_word_keep_cols, columns=[\"title\"])"
   ]
  },
  {
   "cell_type": "code",
   "execution_count": 79,
   "id": "63f382a4-5826-4d65-aa9f-5f3b56f1aad9",
   "metadata": {
    "execution": {
     "iopub.execute_input": "2022-11-22T20:04:45.915324Z",
     "iopub.status.busy": "2022-11-22T20:04:45.915026Z",
     "iopub.status.idle": "2022-11-22T20:04:45.925338Z",
     "shell.execute_reply": "2022-11-22T20:04:45.924406Z"
    }
   },
   "outputs": [
    {
     "data": {
      "text/html": [
       "<div>\n",
       "<style scoped>\n",
       "    .dataframe tbody tr th:only-of-type {\n",
       "        vertical-align: middle;\n",
       "    }\n",
       "\n",
       "    .dataframe tbody tr th {\n",
       "        vertical-align: top;\n",
       "    }\n",
       "\n",
       "    .dataframe thead th {\n",
       "        text-align: right;\n",
       "    }\n",
       "</style>\n",
       "<table border=\"1\" class=\"dataframe\">\n",
       "  <thead>\n",
       "    <tr style=\"text-align: right;\">\n",
       "      <th></th>\n",
       "      <th>title</th>\n",
       "    </tr>\n",
       "  </thead>\n",
       "  <tbody>\n",
       "    <tr>\n",
       "      <th>0</th>\n",
       "      <td>comment</td>\n",
       "    </tr>\n",
       "    <tr>\n",
       "      <th>1</th>\n",
       "      <td>inference</td>\n",
       "    </tr>\n",
       "    <tr>\n",
       "      <th>2</th>\n",
       "      <td>marketplace</td>\n",
       "    </tr>\n",
       "    <tr>\n",
       "      <th>3</th>\n",
       "      <td>one</td>\n",
       "    </tr>\n",
       "    <tr>\n",
       "      <th>4</th>\n",
       "      <td>pr</td>\n",
       "    </tr>\n",
       "    <tr>\n",
       "      <th>5</th>\n",
       "      <td>test</td>\n",
       "    </tr>\n",
       "    <tr>\n",
       "      <th>6</th>\n",
       "      <td>two</td>\n",
       "    </tr>\n",
       "    <tr>\n",
       "      <th>7</th>\n",
       "      <td>workflow</td>\n",
       "    </tr>\n",
       "  </tbody>\n",
       "</table>\n",
       "</div>"
      ],
      "text/plain": [
       "         title\n",
       "0      comment\n",
       "1    inference\n",
       "2  marketplace\n",
       "3          one\n",
       "4           pr\n",
       "5         test\n",
       "6          two\n",
       "7     workflow"
      ]
     },
     "execution_count": 79,
     "metadata": {},
     "output_type": "execute_result"
    }
   ],
   "source": [
    "title_word_keep_cols_df"
   ]
  },
  {
   "cell_type": "code",
   "execution_count": 80,
   "id": "2c67ed79-0555-4f0d-9557-3e6d335baeac",
   "metadata": {
    "execution": {
     "iopub.execute_input": "2022-11-22T20:04:45.929103Z",
     "iopub.status.busy": "2022-11-22T20:04:45.928822Z",
     "iopub.status.idle": "2022-11-22T20:04:46.205715Z",
     "shell.execute_reply": "2022-11-22T20:04:46.204723Z"
    }
   },
   "outputs": [
    {
     "data": {
      "text/plain": [
       "{'ResponseMetadata': {'RequestId': 'lasnbevt-ksolw-4dc',\n",
       "  'HostId': 'lasnbevt-ksolw-4dc',\n",
       "  'HTTPStatusCode': 200,\n",
       "  'HTTPHeaders': {'x-amz-request-id': 'lasnbevt-ksolw-4dc',\n",
       "   'x-amz-id-2': 'lasnbevt-ksolw-4dc',\n",
       "   'access-control-allow-origin': '*',\n",
       "   'access-control-allow-credentials': 'true',\n",
       "   'access-control-allow-methods': 'GET,POST,PUT,DELETE,OPTIONS',\n",
       "   'access-control-allow-headers': 'Content-Type,Content-MD5,Authorization,X-Amz-User-Agent,X-Amz-Date,ETag,X-Amz-Content-Sha256',\n",
       "   'access-control-expose-headers': 'ETag,X-Amz-Version-Id',\n",
       "   'etag': '\"559d2f86206f0e3fbf9ad22bbcee025b\"',\n",
       "   'date': 'Tue, 22 Nov 2022 20:04:46 GMT',\n",
       "   'keep-alive': 'timeout=5',\n",
       "   'content-length': '0',\n",
       "   'set-cookie': '1a4aa612fe797ac8466d7ee00e5520d5=b9a4e3efe932781180a9a8945a639f83; path=/; HttpOnly; Secure; SameSite=None',\n",
       "   'connection': 'close'},\n",
       "  'RetryAttempts': 0},\n",
       " 'ETag': '\"559d2f86206f0e3fbf9ad22bbcee025b\"'}"
      ]
     },
     "execution_count": 80,
     "metadata": {},
     "output_type": "execute_result"
    }
   ],
   "source": [
    "TITLE_FEATURES_FILENAME = os.path.join(ORG + REPO + \"titlewords.parquet\")\n",
    "TITLE_FEATURES_KEY = os.path.join(s3_input_data_path, ORG, REPO, \"features\")\n",
    "cc.upload_to_ceph(title_word_keep_cols_df, TITLE_FEATURES_KEY, TITLE_FEATURES_FILENAME)"
   ]
  },
  {
   "cell_type": "markdown",
   "id": "105e4b18",
   "metadata": {},
   "source": [
    "Using various feature importance scores such as chi-squared, mutual information statistic, correlation values, we have selected the most relevant features amongst all of our features. "
   ]
  },
  {
   "cell_type": "code",
   "execution_count": 81,
   "id": "4cdafdae",
   "metadata": {
    "execution": {
     "iopub.execute_input": "2022-11-22T20:04:46.210631Z",
     "iopub.status.busy": "2022-11-22T20:04:46.210328Z",
     "iopub.status.idle": "2022-11-22T20:04:46.218481Z",
     "shell.execute_reply": "2022-11-22T20:04:46.217324Z"
    },
    "tags": []
   },
   "outputs": [
    {
     "data": {
      "text/plain": [
       "['size',\n",
       " 'created_at_day',\n",
       " 'created_at_month',\n",
       " 'created_at_weekday',\n",
       " 'created_at_hour',\n",
       " 'changed_files_number',\n",
       " 'body_size',\n",
       " 'commits_number',\n",
       " 'filetype_.yaml',\n",
       " 'filetype_.ipynb',\n",
       " 'filetype_.txt',\n",
       " 'filetype_.yml',\n",
       " 'filetype_Dockerfile',\n",
       " 'title_wordcount_comment',\n",
       " 'title_wordcount_inference',\n",
       " 'title_wordcount_marketplace',\n",
       " 'title_wordcount_one',\n",
       " 'title_wordcount_pr',\n",
       " 'title_wordcount_test',\n",
       " 'title_wordcount_two',\n",
       " 'title_wordcount_workflow']"
      ]
     },
     "execution_count": 81,
     "metadata": {},
     "output_type": "execute_result"
    }
   ],
   "source": [
    "selected_features"
   ]
  },
  {
   "cell_type": "markdown",
   "id": "ddda4924",
   "metadata": {},
   "source": [
    "## Save Feature Engineered Dataset"
   ]
  },
  {
   "cell_type": "code",
   "execution_count": 82,
   "id": "894941f7-9815-44af-867a-9e206502cd7a",
   "metadata": {
    "execution": {
     "iopub.execute_input": "2022-11-22T20:04:46.222887Z",
     "iopub.status.busy": "2022-11-22T20:04:46.222558Z",
     "iopub.status.idle": "2022-11-22T20:04:46.242497Z",
     "shell.execute_reply": "2022-11-22T20:04:46.241603Z"
    }
   },
   "outputs": [
    {
     "data": {
      "text/html": [
       "<div>\n",
       "<style scoped>\n",
       "    .dataframe tbody tr th:only-of-type {\n",
       "        vertical-align: middle;\n",
       "    }\n",
       "\n",
       "    .dataframe tbody tr th {\n",
       "        vertical-align: top;\n",
       "    }\n",
       "\n",
       "    .dataframe thead th {\n",
       "        text-align: right;\n",
       "    }\n",
       "</style>\n",
       "<table border=\"1\" class=\"dataframe\">\n",
       "  <thead>\n",
       "    <tr style=\"text-align: right;\">\n",
       "      <th></th>\n",
       "      <th>size</th>\n",
       "      <th>created_at_day</th>\n",
       "      <th>created_at_month</th>\n",
       "      <th>created_at_weekday</th>\n",
       "      <th>created_at_hour</th>\n",
       "      <th>changed_files_number</th>\n",
       "      <th>body_size</th>\n",
       "      <th>commits_number</th>\n",
       "      <th>filetype_.yaml</th>\n",
       "      <th>filetype_.ipynb</th>\n",
       "      <th>...</th>\n",
       "      <th>title_wordcount_comment</th>\n",
       "      <th>title_wordcount_inference</th>\n",
       "      <th>title_wordcount_marketplace</th>\n",
       "      <th>title_wordcount_one</th>\n",
       "      <th>title_wordcount_pr</th>\n",
       "      <th>title_wordcount_test</th>\n",
       "      <th>title_wordcount_two</th>\n",
       "      <th>title_wordcount_workflow</th>\n",
       "      <th>ttm_class</th>\n",
       "      <th>time_to_merge</th>\n",
       "    </tr>\n",
       "  </thead>\n",
       "  <tbody>\n",
       "    <tr>\n",
       "      <th>0</th>\n",
       "      <td>0</td>\n",
       "      <td>11</td>\n",
       "      <td>11</td>\n",
       "      <td>4</td>\n",
       "      <td>19</td>\n",
       "      <td>2</td>\n",
       "      <td>0</td>\n",
       "      <td>4</td>\n",
       "      <td>1</td>\n",
       "      <td>0</td>\n",
       "      <td>...</td>\n",
       "      <td>0</td>\n",
       "      <td>0</td>\n",
       "      <td>1</td>\n",
       "      <td>0</td>\n",
       "      <td>0</td>\n",
       "      <td>0</td>\n",
       "      <td>0</td>\n",
       "      <td>0</td>\n",
       "      <td>6</td>\n",
       "      <td>96.0</td>\n",
       "    </tr>\n",
       "    <tr>\n",
       "      <th>1</th>\n",
       "      <td>1</td>\n",
       "      <td>11</td>\n",
       "      <td>11</td>\n",
       "      <td>4</td>\n",
       "      <td>18</td>\n",
       "      <td>3</td>\n",
       "      <td>0</td>\n",
       "      <td>1</td>\n",
       "      <td>1</td>\n",
       "      <td>0</td>\n",
       "      <td>...</td>\n",
       "      <td>0</td>\n",
       "      <td>0</td>\n",
       "      <td>1</td>\n",
       "      <td>0</td>\n",
       "      <td>0</td>\n",
       "      <td>1</td>\n",
       "      <td>0</td>\n",
       "      <td>1</td>\n",
       "      <td>1</td>\n",
       "      <td>7.0</td>\n",
       "    </tr>\n",
       "    <tr>\n",
       "      <th>2</th>\n",
       "      <td>0</td>\n",
       "      <td>11</td>\n",
       "      <td>11</td>\n",
       "      <td>4</td>\n",
       "      <td>18</td>\n",
       "      <td>2</td>\n",
       "      <td>0</td>\n",
       "      <td>1</td>\n",
       "      <td>1</td>\n",
       "      <td>0</td>\n",
       "      <td>...</td>\n",
       "      <td>0</td>\n",
       "      <td>0</td>\n",
       "      <td>1</td>\n",
       "      <td>0</td>\n",
       "      <td>0</td>\n",
       "      <td>1</td>\n",
       "      <td>0</td>\n",
       "      <td>1</td>\n",
       "      <td>0</td>\n",
       "      <td>6.0</td>\n",
       "    </tr>\n",
       "    <tr>\n",
       "      <th>3</th>\n",
       "      <td>0</td>\n",
       "      <td>11</td>\n",
       "      <td>11</td>\n",
       "      <td>4</td>\n",
       "      <td>18</td>\n",
       "      <td>1</td>\n",
       "      <td>0</td>\n",
       "      <td>1</td>\n",
       "      <td>1</td>\n",
       "      <td>0</td>\n",
       "      <td>...</td>\n",
       "      <td>0</td>\n",
       "      <td>0</td>\n",
       "      <td>1</td>\n",
       "      <td>0</td>\n",
       "      <td>0</td>\n",
       "      <td>1</td>\n",
       "      <td>0</td>\n",
       "      <td>1</td>\n",
       "      <td>3</td>\n",
       "      <td>35.0</td>\n",
       "    </tr>\n",
       "    <tr>\n",
       "      <th>4</th>\n",
       "      <td>0</td>\n",
       "      <td>9</td>\n",
       "      <td>11</td>\n",
       "      <td>2</td>\n",
       "      <td>16</td>\n",
       "      <td>0</td>\n",
       "      <td>9</td>\n",
       "      <td>0</td>\n",
       "      <td>0</td>\n",
       "      <td>0</td>\n",
       "      <td>...</td>\n",
       "      <td>1</td>\n",
       "      <td>1</td>\n",
       "      <td>0</td>\n",
       "      <td>0</td>\n",
       "      <td>1</td>\n",
       "      <td>1</td>\n",
       "      <td>0</td>\n",
       "      <td>0</td>\n",
       "      <td>9</td>\n",
       "      <td>165391.0</td>\n",
       "    </tr>\n",
       "  </tbody>\n",
       "</table>\n",
       "<p>5 rows × 23 columns</p>\n",
       "</div>"
      ],
      "text/plain": [
       "   size  created_at_day  created_at_month  created_at_weekday  \\\n",
       "0     0              11                11                   4   \n",
       "1     1              11                11                   4   \n",
       "2     0              11                11                   4   \n",
       "3     0              11                11                   4   \n",
       "4     0               9                11                   2   \n",
       "\n",
       "   created_at_hour  changed_files_number  body_size  commits_number  \\\n",
       "0               19                     2          0               4   \n",
       "1               18                     3          0               1   \n",
       "2               18                     2          0               1   \n",
       "3               18                     1          0               1   \n",
       "4               16                     0          9               0   \n",
       "\n",
       "   filetype_.yaml  filetype_.ipynb  ...  title_wordcount_comment  \\\n",
       "0               1                0  ...                        0   \n",
       "1               1                0  ...                        0   \n",
       "2               1                0  ...                        0   \n",
       "3               1                0  ...                        0   \n",
       "4               0                0  ...                        1   \n",
       "\n",
       "   title_wordcount_inference  title_wordcount_marketplace  \\\n",
       "0                          0                            1   \n",
       "1                          0                            1   \n",
       "2                          0                            1   \n",
       "3                          0                            1   \n",
       "4                          1                            0   \n",
       "\n",
       "   title_wordcount_one  title_wordcount_pr  title_wordcount_test  \\\n",
       "0                    0                   0                     0   \n",
       "1                    0                   0                     1   \n",
       "2                    0                   0                     1   \n",
       "3                    0                   0                     1   \n",
       "4                    0                   1                     1   \n",
       "\n",
       "   title_wordcount_two  title_wordcount_workflow  ttm_class  time_to_merge  \n",
       "0                    0                         0          6           96.0  \n",
       "1                    0                         1          1            7.0  \n",
       "2                    0                         1          0            6.0  \n",
       "3                    0                         1          3           35.0  \n",
       "4                    0                         0          9       165391.0  \n",
       "\n",
       "[5 rows x 23 columns]"
      ]
     },
     "execution_count": 82,
     "metadata": {},
     "output_type": "execute_result"
    }
   ],
   "source": [
    "# join all types of features\n",
    "ttm_dataset = pd.concat(\n",
    "    [feature_df, filetype_df, title_wordcount_df], axis=1, ignore_index=False\n",
    ")\n",
    "\n",
    "# keep only the selected features and the prediction label\n",
    "ttm_dataset = ttm_dataset[selected_features + [\"ttm_class\", \"time_to_merge\"]]\n",
    "\n",
    "ttm_dataset.head()"
   ]
  },
  {
   "cell_type": "code",
   "execution_count": 83,
   "id": "4fd9e422-eaf1-4c80-9375-5d71ac985171",
   "metadata": {
    "execution": {
     "iopub.execute_input": "2022-11-22T20:04:46.246255Z",
     "iopub.status.busy": "2022-11-22T20:04:46.246002Z",
     "iopub.status.idle": "2022-11-22T20:04:46.260701Z",
     "shell.execute_reply": "2022-11-22T20:04:46.259713Z"
    }
   },
   "outputs": [
    {
     "name": "stdout",
     "output_type": "stream",
     "text": [
      "<class 'pandas.core.frame.DataFrame'>\n",
      "RangeIndex: 9 entries, 0 to 8\n",
      "Data columns (total 23 columns):\n",
      " #   Column                       Non-Null Count  Dtype  \n",
      "---  ------                       --------------  -----  \n",
      " 0   size                         9 non-null      int64  \n",
      " 1   created_at_day               9 non-null      int64  \n",
      " 2   created_at_month             9 non-null      int64  \n",
      " 3   created_at_weekday           9 non-null      int64  \n",
      " 4   created_at_hour              9 non-null      int64  \n",
      " 5   changed_files_number         9 non-null      int64  \n",
      " 6   body_size                    9 non-null      int64  \n",
      " 7   commits_number               9 non-null      int64  \n",
      " 8   filetype_.yaml               9 non-null      int64  \n",
      " 9   filetype_.ipynb              9 non-null      int64  \n",
      " 10  filetype_.txt                9 non-null      int64  \n",
      " 11  filetype_.yml                9 non-null      int64  \n",
      " 12  filetype_Dockerfile          9 non-null      int64  \n",
      " 13  title_wordcount_comment      9 non-null      int64  \n",
      " 14  title_wordcount_inference    9 non-null      int64  \n",
      " 15  title_wordcount_marketplace  9 non-null      int64  \n",
      " 16  title_wordcount_one          9 non-null      int64  \n",
      " 17  title_wordcount_pr           9 non-null      int64  \n",
      " 18  title_wordcount_test         9 non-null      int64  \n",
      " 19  title_wordcount_two          9 non-null      int64  \n",
      " 20  title_wordcount_workflow     9 non-null      int64  \n",
      " 21  ttm_class                    9 non-null      int64  \n",
      " 22  time_to_merge                7 non-null      float64\n",
      "dtypes: float64(1), int64(22)\n",
      "memory usage: 1.7 KB\n"
     ]
    }
   ],
   "source": [
    "ttm_dataset.info()"
   ]
  },
  {
   "cell_type": "markdown",
   "id": "4a949795",
   "metadata": {},
   "source": [
    "## Save results to Ceph or locally\n",
    "\n",
    "Using the helper function to save the data frame in a parquet format on the Ceph bucket if we are running in automation, and locally if not."
   ]
  },
  {
   "cell_type": "code",
   "execution_count": 84,
   "id": "ecd03940-1b27-4472-ae97-469a4ad8a25a",
   "metadata": {
    "execution": {
     "iopub.execute_input": "2022-11-22T20:04:46.264751Z",
     "iopub.status.busy": "2022-11-22T20:04:46.264446Z",
     "iopub.status.idle": "2022-11-22T20:04:46.270435Z",
     "shell.execute_reply": "2022-11-22T20:04:46.269433Z"
    }
   },
   "outputs": [],
   "source": [
    "TTM_DATASET_PATH = os.path.join(s3_input_data_path, ORG, REPO)"
   ]
  },
  {
   "cell_type": "code",
   "execution_count": 85,
   "id": "adfdfb1b",
   "metadata": {
    "execution": {
     "iopub.execute_input": "2022-11-22T20:04:46.273885Z",
     "iopub.status.busy": "2022-11-22T20:04:46.273589Z",
     "iopub.status.idle": "2022-11-22T20:04:46.771418Z",
     "shell.execute_reply": "2022-11-22T20:04:46.770399Z"
    }
   },
   "outputs": [],
   "source": [
    "## Sanity check to see if the dataset is the same\n",
    "\n",
    "try:\n",
    "    cc.upload_to_ceph(\n",
    "        ttm_dataset,\n",
    "        TTM_DATASET_PATH,\n",
    "        \"ttm_feature_engineered_dataset.parquet\",\n",
    "    )\n",
    "except ValueError as ve:\n",
    "    print(ve)\n",
    "    print(\"Files already uploaded to S3\")"
   ]
  },
  {
   "cell_type": "markdown",
   "id": "165910c8",
   "metadata": {},
   "source": [
    "# Conclusion\n",
    "\n",
    "This notebook walked through how to access saved raw Pull Requests data from the previous data collection notebook and we engineered some possible features which can be used to predict time to merge of a PR. \n",
    "\n",
    "The features we engineered are as following:\n",
    "\n",
    "- time_to_merge: time taken to merge a PR in seconds, this is feature we will try to predict\n",
    "- changed_files_number: integer indicating the number of files changed, this is an available column\n",
    "- body_size: integer indicating the number of words in the body of the PR, derived from body\n",
    "- size: integer corresponding to a categorical label generated by GitHub which summarizes the size of the changes made to the code base \n",
    "- title_word_counts_vec: vector or list indicating how many times each word appeared in the title\n",
    "- created_at_day: categorical variable indicating the day of month the PR has been created, derived from created_at\n",
    "- created_at_month: categorical variable indicating the month of the year that the PR has been created, derived from created_at\n",
    "- created_at_weekday: categorical variable indicating the day of the week the PR has been created, derived from created_at\n",
    "- created_at_hour: categorical variable indicating the hour of the day the PR has been created, derived from created_at\n",
    "- commits_number: integer indicating the number of commits in the PR\n",
    "- changed_file_type_vec:  vector or list consisting of number of files changed for the top 100 most frequently occurring data types, derived from changed_files\n",
    "\n",
    "\n",
    "# Next Step\n",
    "\n",
    "In the next [notebook](./03_model_training.ipynb), we will train a classifier to predict time to merge of a PR using the features."
   ]
  }
 ],
 "metadata": {
  "kernelspec": {
   "display_name": "Python 3 (ipykernel)",
   "language": "python",
   "name": "python3"
  },
  "language_info": {
   "codemirror_mode": {
    "name": "ipython",
    "version": 3
   },
   "file_extension": ".py",
   "mimetype": "text/x-python",
   "name": "python",
   "nbconvert_exporter": "python",
   "pygments_lexer": "ipython3",
   "version": "3.8.8"
  }
 },
 "nbformat": 4,
 "nbformat_minor": 5
}
