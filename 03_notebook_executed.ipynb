{
 "cells": [
  {
   "cell_type": "markdown",
   "id": "3c31ddd8-bdcf-473d-95c1-5fed70b7fe51",
   "metadata": {},
   "source": [
    "# Train a model on features engineered from Pull Requests data\n",
    "\n",
    "\n",
    "## What we did previously\n",
    "\n",
    "In the previous [notebook](./02_feature_engineering.ipynb) we explored the various fields in the PR dataset and derived some features from them in order to frame an a Machine Learning where we predict the time taken to merge a PR.\n",
    "\n",
    "## In this step\n",
    "\n",
    "In this notebook, we will first create transformer objects (based on the feature explorations in the previous notebook) to extract features from raw PR data. Then, we will train machine learning models to classify a PR's `time_to_merge` into one of the above 10 bins (or \"classes\")."
   ]
  },
  {
   "cell_type": "code",
   "execution_count": 1,
   "id": "e2bb1e73",
   "metadata": {
    "execution": {
     "iopub.execute_input": "2022-11-22T20:16:48.653899Z",
     "iopub.status.busy": "2022-11-22T20:16:48.653353Z",
     "iopub.status.idle": "2022-11-22T20:16:50.353746Z",
     "shell.execute_reply": "2022-11-22T20:16:50.353056Z"
    }
   },
   "outputs": [
    {
     "data": {
      "text/plain": [
       "True"
      ]
     },
     "execution_count": 1,
     "metadata": {},
     "output_type": "execute_result"
    }
   ],
   "source": [
    "import os\n",
    "import gzip\n",
    "import json\n",
    "import boto3\n",
    "import tempfile\n",
    "\n",
    "import joblib\n",
    "import warnings\n",
    "from io import BytesIO\n",
    "from copy import deepcopy\n",
    "\n",
    "import numpy as np\n",
    "import pandas as pd\n",
    "\n",
    "import seaborn as sns\n",
    "import matplotlib.pyplot as plt\n",
    "\n",
    "from sklearn.compose import ColumnTransformer\n",
    "from sklearn.preprocessing import PowerTransformer, OrdinalEncoder\n",
    "\n",
    "from sklearn.feature_selection import RFE\n",
    "from sklearn.model_selection import train_test_split\n",
    "\n",
    "from sklearn.svm import SVC\n",
    "from xgboost import XGBClassifier\n",
    "from sklearn.naive_bayes import GaussianNB\n",
    "from sklearn.ensemble import RandomForestClassifier\n",
    "\n",
    "from sklearn.pipeline import Pipeline\n",
    "\n",
    "from sklearn.metrics import confusion_matrix\n",
    "from sklearn.metrics import classification_report\n",
    "\n",
    "from dotenv import load_dotenv, find_dotenv\n",
    "\n",
    "from src.features.build_features import (\n",
    "    DateTimeDetailsTransformer,\n",
    "    NumChangedFilesTransformer,\n",
    "    StringLenTransformer,\n",
    "    FileTypeCountTransformer,\n",
    "    TitleWordCountTransformer,\n",
    ")\n",
    "\n",
    "import ceph_comm\n",
    "\n",
    "warnings.filterwarnings(\"ignore\")\n",
    "load_dotenv(find_dotenv(), override=True)"
   ]
  },
  {
   "cell_type": "markdown",
   "id": "3c4e04bb-a8fc-4bc9-a91d-ffe389212f0e",
   "metadata": {},
   "source": [
    "## Get Raw Data"
   ]
  },
  {
   "cell_type": "code",
   "execution_count": 2,
   "id": "f6d138f3",
   "metadata": {
    "execution": {
     "iopub.execute_input": "2022-11-22T20:16:50.358532Z",
     "iopub.status.busy": "2022-11-22T20:16:50.357658Z",
     "iopub.status.idle": "2022-11-22T20:16:50.363201Z",
     "shell.execute_reply": "2022-11-22T20:16:50.362515Z"
    }
   },
   "outputs": [],
   "source": [
    "## CEPH Bucket variables\n",
    "## Create a .env file on your local with the correct configs,\n",
    "\n",
    "ORG = os.getenv(\"GITHUB_ORG\")\n",
    "REPO = os.getenv(\"GITHUB_REPO\")\n",
    "\n",
    "## S3 bucket credentials\n",
    "s3_endpoint_url = os.getenv(\"S3_ENDPOINT_URL\")\n",
    "s3_access_key = os.getenv(\"S3_ACCESS_KEY\")\n",
    "s3_secret_key = os.getenv(\"S3_SECRET_KEY\")\n",
    "s3_bucket = os.getenv(\"S3_BUCKET\")\n",
    "\n",
    "REMOTE = os.getenv(\"REMOTE\")\n",
    "\n",
    "s3_input_data_path = os.getenv(\"CEPH_BUCKET_PREFIX\")\n",
    "\n",
    "RAW_DATA_PATH = os.path.join(\n",
    "    s3_input_data_path, ORG, REPO, \"PullRequest.json\"\n",
    ")\n",
    "\n",
    "CHOSEN_MODEL = os.getenv(\"CHOSEN_MODEL\")"
   ]
  },
  {
   "cell_type": "code",
   "execution_count": 3,
   "id": "f7ddbfc0-53a7-4d76-a64e-975c89fa1e59",
   "metadata": {
    "execution": {
     "iopub.execute_input": "2022-11-22T20:16:50.366512Z",
     "iopub.status.busy": "2022-11-22T20:16:50.366273Z",
     "iopub.status.idle": "2022-11-22T20:16:50.636832Z",
     "shell.execute_reply": "2022-11-22T20:16:50.636210Z"
    }
   },
   "outputs": [
    {
     "name": "stdout",
     "output_type": "stream",
     "text": [
      "getting dataset from ceph\n"
     ]
    }
   ],
   "source": [
    "# Collect PRs and combine them\n",
    "cc = ceph_comm.CephCommunication(s3_endpoint_url, s3_access_key, s3_secret_key, s3_bucket)\n",
    "\n",
    "print(\"getting dataset from ceph\")\n",
    "pr_df = cc.get_json_from_ceph(RAW_DATA_PATH)\n",
    "# pr_df = pr_df.dropna(axis=0)"
   ]
  },
  {
   "cell_type": "code",
   "execution_count": 4,
   "id": "0978bbf8-2da1-4e66-bfa8-5cfa1af2f3e2",
   "metadata": {
    "execution": {
     "iopub.execute_input": "2022-11-22T20:16:50.640406Z",
     "iopub.status.busy": "2022-11-22T20:16:50.639855Z",
     "iopub.status.idle": "2022-11-22T20:16:50.663707Z",
     "shell.execute_reply": "2022-11-22T20:16:50.662965Z"
    }
   },
   "outputs": [
    {
     "data": {
      "text/html": [
       "<div>\n",
       "<style scoped>\n",
       "    .dataframe tbody tr th:only-of-type {\n",
       "        vertical-align: middle;\n",
       "    }\n",
       "\n",
       "    .dataframe tbody tr th {\n",
       "        vertical-align: top;\n",
       "    }\n",
       "\n",
       "    .dataframe thead th {\n",
       "        text-align: right;\n",
       "    }\n",
       "</style>\n",
       "<table border=\"1\" class=\"dataframe\">\n",
       "  <thead>\n",
       "    <tr style=\"text-align: right;\">\n",
       "      <th></th>\n",
       "      <th>title</th>\n",
       "      <th>body</th>\n",
       "      <th>size</th>\n",
       "      <th>created_by</th>\n",
       "      <th>created_at</th>\n",
       "      <th>closed_at</th>\n",
       "      <th>closed_by</th>\n",
       "      <th>merged_at</th>\n",
       "      <th>merged_by</th>\n",
       "      <th>commits_number</th>\n",
       "      <th>changed_files_number</th>\n",
       "      <th>interactions</th>\n",
       "      <th>reviews</th>\n",
       "      <th>labels</th>\n",
       "      <th>commits</th>\n",
       "      <th>changed_files</th>\n",
       "      <th>first_review_at</th>\n",
       "      <th>first_approve_at</th>\n",
       "    </tr>\n",
       "  </thead>\n",
       "  <tbody>\n",
       "    <tr>\n",
       "      <th>0</th>\n",
       "      <td>Marketplace</td>\n",
       "      <td>None</td>\n",
       "      <td>XS</td>\n",
       "      <td>MichaelClifford</td>\n",
       "      <td>1668193936</td>\n",
       "      <td>1668194032</td>\n",
       "      <td>MichaelClifford</td>\n",
       "      <td>1.668194e+09</td>\n",
       "      <td>MichaelClifford</td>\n",
       "      <td>4</td>\n",
       "      <td>2</td>\n",
       "      <td>{}</td>\n",
       "      <td>{}</td>\n",
       "      <td>[]</td>\n",
       "      <td>[b51980240df014abfd5cbda4527ce15cdcf99901, 67b...</td>\n",
       "      <td>[.github/workflows/inference.yaml, action.yml]</td>\n",
       "      <td>NaN</td>\n",
       "      <td>None</td>\n",
       "    </tr>\n",
       "    <tr>\n",
       "      <th>1</th>\n",
       "      <td>test marketplace workflow</td>\n",
       "      <td>None</td>\n",
       "      <td>S</td>\n",
       "      <td>MichaelClifford</td>\n",
       "      <td>1668191744</td>\n",
       "      <td>1668191751</td>\n",
       "      <td>MichaelClifford</td>\n",
       "      <td>1.668192e+09</td>\n",
       "      <td>MichaelClifford</td>\n",
       "      <td>1</td>\n",
       "      <td>3</td>\n",
       "      <td>{}</td>\n",
       "      <td>{}</td>\n",
       "      <td>[]</td>\n",
       "      <td>[b51980240df014abfd5cbda4527ce15cdcf99901]</td>\n",
       "      <td>[.github/workflows/inference.yaml, Dockerfile,...</td>\n",
       "      <td>NaN</td>\n",
       "      <td>None</td>\n",
       "    </tr>\n",
       "    <tr>\n",
       "      <th>2</th>\n",
       "      <td>test marketplace workflow</td>\n",
       "      <td>None</td>\n",
       "      <td>XS</td>\n",
       "      <td>MichaelClifford</td>\n",
       "      <td>1668191213</td>\n",
       "      <td>1668191219</td>\n",
       "      <td>MichaelClifford</td>\n",
       "      <td>1.668191e+09</td>\n",
       "      <td>MichaelClifford</td>\n",
       "      <td>1</td>\n",
       "      <td>2</td>\n",
       "      <td>{}</td>\n",
       "      <td>{}</td>\n",
       "      <td>[]</td>\n",
       "      <td>[54577f445e3e254af0b979c75712f903d75ed741]</td>\n",
       "      <td>[.github/workflows/inference.yaml, Dockerfile]</td>\n",
       "      <td>NaN</td>\n",
       "      <td>None</td>\n",
       "    </tr>\n",
       "    <tr>\n",
       "      <th>3</th>\n",
       "      <td>test marketplace workflow</td>\n",
       "      <td>None</td>\n",
       "      <td>XS</td>\n",
       "      <td>MichaelClifford</td>\n",
       "      <td>1668190948</td>\n",
       "      <td>1668190983</td>\n",
       "      <td>MichaelClifford</td>\n",
       "      <td>1.668191e+09</td>\n",
       "      <td>MichaelClifford</td>\n",
       "      <td>1</td>\n",
       "      <td>1</td>\n",
       "      <td>{}</td>\n",
       "      <td>{}</td>\n",
       "      <td>[]</td>\n",
       "      <td>[5675d0f2e74c50301c7437d88396940807a7b382]</td>\n",
       "      <td>[.github/workflows/inference.yaml]</td>\n",
       "      <td>NaN</td>\n",
       "      <td>None</td>\n",
       "    </tr>\n",
       "    <tr>\n",
       "      <th>4</th>\n",
       "      <td>pr inference comment test 1</td>\n",
       "      <td>This is a test of the PR inference capabilities!</td>\n",
       "      <td>XS</td>\n",
       "      <td>MichaelClifford</td>\n",
       "      <td>1668012029</td>\n",
       "      <td>1668177420</td>\n",
       "      <td>MichaelClifford</td>\n",
       "      <td>1.668177e+09</td>\n",
       "      <td>MichaelClifford</td>\n",
       "      <td>0</td>\n",
       "      <td>0</td>\n",
       "      <td>{'review-notebook-app[bot]': 29, 'github-actio...</td>\n",
       "      <td>{}</td>\n",
       "      <td>[]</td>\n",
       "      <td>[]</td>\n",
       "      <td>[]</td>\n",
       "      <td>NaN</td>\n",
       "      <td>None</td>\n",
       "    </tr>\n",
       "  </tbody>\n",
       "</table>\n",
       "</div>"
      ],
      "text/plain": [
       "                         title  \\\n",
       "0                  Marketplace   \n",
       "1    test marketplace workflow   \n",
       "2    test marketplace workflow   \n",
       "3    test marketplace workflow   \n",
       "4  pr inference comment test 1   \n",
       "\n",
       "                                                body size       created_by  \\\n",
       "0                                               None   XS  MichaelClifford   \n",
       "1                                               None    S  MichaelClifford   \n",
       "2                                               None   XS  MichaelClifford   \n",
       "3                                               None   XS  MichaelClifford   \n",
       "4  This is a test of the PR inference capabilities!    XS  MichaelClifford   \n",
       "\n",
       "   created_at   closed_at        closed_by     merged_at        merged_by  \\\n",
       "0  1668193936  1668194032  MichaelClifford  1.668194e+09  MichaelClifford   \n",
       "1  1668191744  1668191751  MichaelClifford  1.668192e+09  MichaelClifford   \n",
       "2  1668191213  1668191219  MichaelClifford  1.668191e+09  MichaelClifford   \n",
       "3  1668190948  1668190983  MichaelClifford  1.668191e+09  MichaelClifford   \n",
       "4  1668012029  1668177420  MichaelClifford  1.668177e+09  MichaelClifford   \n",
       "\n",
       "   commits_number  changed_files_number  \\\n",
       "0               4                     2   \n",
       "1               1                     3   \n",
       "2               1                     2   \n",
       "3               1                     1   \n",
       "4               0                     0   \n",
       "\n",
       "                                        interactions reviews labels  \\\n",
       "0                                                 {}      {}     []   \n",
       "1                                                 {}      {}     []   \n",
       "2                                                 {}      {}     []   \n",
       "3                                                 {}      {}     []   \n",
       "4  {'review-notebook-app[bot]': 29, 'github-actio...      {}     []   \n",
       "\n",
       "                                             commits  \\\n",
       "0  [b51980240df014abfd5cbda4527ce15cdcf99901, 67b...   \n",
       "1         [b51980240df014abfd5cbda4527ce15cdcf99901]   \n",
       "2         [54577f445e3e254af0b979c75712f903d75ed741]   \n",
       "3         [5675d0f2e74c50301c7437d88396940807a7b382]   \n",
       "4                                                 []   \n",
       "\n",
       "                                       changed_files  first_review_at  \\\n",
       "0     [.github/workflows/inference.yaml, action.yml]              NaN   \n",
       "1  [.github/workflows/inference.yaml, Dockerfile,...              NaN   \n",
       "2     [.github/workflows/inference.yaml, Dockerfile]              NaN   \n",
       "3                 [.github/workflows/inference.yaml]              NaN   \n",
       "4                                                 []              NaN   \n",
       "\n",
       "  first_approve_at  \n",
       "0             None  \n",
       "1             None  \n",
       "2             None  \n",
       "3             None  \n",
       "4             None  "
      ]
     },
     "execution_count": 4,
     "metadata": {},
     "output_type": "execute_result"
    }
   ],
   "source": [
    "pr_df.head()"
   ]
  },
  {
   "cell_type": "markdown",
   "id": "0eb8188c-d835-4913-a77b-1524fa04eeef",
   "metadata": {},
   "source": [
    "## Extract Labels from Raw Data"
   ]
  },
  {
   "cell_type": "code",
   "execution_count": 5,
   "id": "8bf8212d-82bd-4600-a615-1e150272146f",
   "metadata": {
    "execution": {
     "iopub.execute_input": "2022-11-22T20:16:50.667243Z",
     "iopub.status.busy": "2022-11-22T20:16:50.666764Z",
     "iopub.status.idle": "2022-11-22T20:16:50.674326Z",
     "shell.execute_reply": "2022-11-22T20:16:50.673423Z"
    }
   },
   "outputs": [
    {
     "data": {
      "text/plain": [
       "0        96.0\n",
       "1         7.0\n",
       "2         6.0\n",
       "3        35.0\n",
       "4    165391.0\n",
       "6       549.0\n",
       "7        72.0\n",
       "dtype: float64"
      ]
     },
     "execution_count": 5,
     "metadata": {},
     "output_type": "execute_result"
    }
   ],
   "source": [
    "y = (pr_df[\"merged_at\"] - pr_df[\"created_at\"]).astype(\"float\")\n",
    "y = y.dropna()\n",
    "y"
   ]
  },
  {
   "cell_type": "code",
   "execution_count": 6,
   "id": "5ddc1177-ac15-494a-8c49-0d49e3e5d7e8",
   "metadata": {
    "execution": {
     "iopub.execute_input": "2022-11-22T20:16:50.678653Z",
     "iopub.status.busy": "2022-11-22T20:16:50.678004Z",
     "iopub.status.idle": "2022-11-22T20:16:50.685742Z",
     "shell.execute_reply": "2022-11-22T20:16:50.684984Z"
    }
   },
   "outputs": [
    {
     "data": {
      "text/plain": [
       "0.0        6.0\n",
       "0.1        6.6\n",
       "0.2       12.6\n",
       "0.3       29.4\n",
       "0.4       49.8\n",
       "0.5       72.0\n",
       "0.6       86.4\n",
       "0.7      186.6\n",
       "0.8      458.4\n",
       "0.9    66485.8\n",
       "dtype: float64"
      ]
     },
     "execution_count": 6,
     "metadata": {},
     "output_type": "execute_result"
    }
   ],
   "source": [
    "n_buckets = 10\n",
    "\n",
    "quantiles = y.quantile(q=np.arange(0, 1 + 1e-100, 1 / n_buckets))\n",
    "quantiles"
   ]
  },
  {
   "cell_type": "code",
   "execution_count": 7,
   "id": "97a47fdd-f513-4428-a4a1-6affe1899eae",
   "metadata": {
    "execution": {
     "iopub.execute_input": "2022-11-22T20:16:50.689123Z",
     "iopub.status.busy": "2022-11-22T20:16:50.688631Z",
     "iopub.status.idle": "2022-11-22T20:16:50.695841Z",
     "shell.execute_reply": "2022-11-22T20:16:50.695123Z"
    }
   },
   "outputs": [
    {
     "data": {
      "text/plain": [
       "0    6\n",
       "1    1\n",
       "2    0\n",
       "3    3\n",
       "4    9\n",
       "6    8\n",
       "7    5\n",
       "dtype: int64"
      ]
     },
     "execution_count": 7,
     "metadata": {},
     "output_type": "execute_result"
    }
   ],
   "source": [
    "def get_ttm_class(ttm):\n",
    "\n",
    "    for rownum, (indx, val) in enumerate(quantiles.iteritems()):\n",
    "        if ttm < val:\n",
    "            return rownum - 1\n",
    "    return 9\n",
    "\n",
    "\n",
    "y = y.apply(get_ttm_class)\n",
    "y"
   ]
  },
  {
   "cell_type": "markdown",
   "id": "4e9efc4d-f5ee-4a18-aef6-df840395a55a",
   "metadata": {},
   "source": [
    "## Extract Features from Raw Data\n",
    "\n",
    "In this section, we will create transformer objects to process raw data as per the feature extraction methods that were found to be the most effective in the previous EDA notebook.\n",
    "\n",
    "To ensure that joblib serializes the custom transformer objects correctly, we will write their definitions in [`src/features/build_features.py`](../../src/features/build_features.py) instead of this notebook, and import them from the `src` package. This way, the `src` package can be listed as a dependency wherever these objects need to be deserialized (for example, Seldon server for model deployment)."
   ]
  },
  {
   "cell_type": "markdown",
   "id": "28bdc89e-0a62-41b8-8b70-caf958bb6a2d",
   "metadata": {},
   "source": [
    "#### size"
   ]
  },
  {
   "cell_type": "code",
   "execution_count": 8,
   "id": "f769e3cb-e140-4855-8161-0c72bf6403a8",
   "metadata": {
    "execution": {
     "iopub.execute_input": "2022-11-22T20:16:50.699737Z",
     "iopub.status.busy": "2022-11-22T20:16:50.699265Z",
     "iopub.status.idle": "2022-11-22T20:16:50.703054Z",
     "shell.execute_reply": "2022-11-22T20:16:50.702296Z"
    }
   },
   "outputs": [],
   "source": [
    "# map values to 0,1,2,3,4,5\n",
    "pr_size_encoder = OrdinalEncoder(categories=[[\"XS\", \"S\", \"M\", \"L\", \"XL\", \"XXL\"]])"
   ]
  },
  {
   "cell_type": "markdown",
   "id": "f893270d-0525-4bff-900c-7e630f1197c0",
   "metadata": {},
   "source": [
    "#### created_at"
   ]
  },
  {
   "cell_type": "code",
   "execution_count": 9,
   "id": "7d2ab3c3-caed-4971-ba1d-4c484088a057",
   "metadata": {
    "execution": {
     "iopub.execute_input": "2022-11-22T20:16:50.706628Z",
     "iopub.status.busy": "2022-11-22T20:16:50.706008Z",
     "iopub.status.idle": "2022-11-22T20:16:50.709372Z",
     "shell.execute_reply": "2022-11-22T20:16:50.708630Z"
    }
   },
   "outputs": [],
   "source": [
    "# get day, month, date, etc. from a unix timestamp\n",
    "dt_details_transf = DateTimeDetailsTransformer()"
   ]
  },
  {
   "cell_type": "markdown",
   "id": "3b637c29-df8f-43cf-ba10-7be54e0fc018",
   "metadata": {},
   "source": [
    "#### changed_files_number"
   ]
  },
  {
   "cell_type": "code",
   "execution_count": 10,
   "id": "2ad7979f-afd8-40b2-8c03-929129908953",
   "metadata": {
    "execution": {
     "iopub.execute_input": "2022-11-22T20:16:50.713049Z",
     "iopub.status.busy": "2022-11-22T20:16:50.712365Z",
     "iopub.status.idle": "2022-11-22T20:16:50.715721Z",
     "shell.execute_reply": "2022-11-22T20:16:50.715023Z"
    }
   },
   "outputs": [],
   "source": [
    "# number of files changed in PR\n",
    "n_changed_files_transf = NumChangedFilesTransformer()"
   ]
  },
  {
   "cell_type": "markdown",
   "id": "dc2fc0cf-ab56-4b53-a190-7b5770bfebbd",
   "metadata": {},
   "source": [
    "#### body_size"
   ]
  },
  {
   "cell_type": "code",
   "execution_count": 11,
   "id": "b74d3d4d-ba0c-43c3-8506-23ed49c6dce8",
   "metadata": {
    "execution": {
     "iopub.execute_input": "2022-11-22T20:16:50.718957Z",
     "iopub.status.busy": "2022-11-22T20:16:50.718563Z",
     "iopub.status.idle": "2022-11-22T20:16:50.722493Z",
     "shell.execute_reply": "2022-11-22T20:16:50.721256Z"
    }
   },
   "outputs": [],
   "source": [
    "# number of characters in PR description\n",
    "body_size_transf = StringLenTransformer(\"body\")"
   ]
  },
  {
   "cell_type": "markdown",
   "id": "5840645a-56dc-4658-b91a-782739e8de09",
   "metadata": {},
   "source": [
    "#### filetype_\\<type>"
   ]
  },
  {
   "cell_type": "code",
   "execution_count": 12,
   "id": "71d6e5c3-eaf3-4cfe-9fe6-ef3f9b9edcfe",
   "metadata": {
    "execution": {
     "iopub.execute_input": "2022-11-22T20:16:50.726229Z",
     "iopub.status.busy": "2022-11-22T20:16:50.725845Z",
     "iopub.status.idle": "2022-11-22T20:16:50.864370Z",
     "shell.execute_reply": "2022-11-22T20:16:50.862861Z"
    }
   },
   "outputs": [],
   "source": [
    "# how many files of the given extension were changed in PR\n",
    "FILETYPE_FEATURES_FILENAME = os.path.join(ORG + REPO + \"FILETYPE.parquet\")\n",
    "FILETYPE_FEATURES_KEY = os.path.join(s3_input_data_path, ORG, REPO, \"features\")\n",
    "filetype_df = cc.read_from_ceph(FILETYPE_FEATURES_KEY, FILETYPE_FEATURES_FILENAME)"
   ]
  },
  {
   "cell_type": "code",
   "execution_count": 13,
   "id": "977a1fba-c867-4feb-848d-5456d168e940",
   "metadata": {
    "execution": {
     "iopub.execute_input": "2022-11-22T20:16:50.868516Z",
     "iopub.status.busy": "2022-11-22T20:16:50.867990Z",
     "iopub.status.idle": "2022-11-22T20:16:50.875174Z",
     "shell.execute_reply": "2022-11-22T20:16:50.874598Z"
    }
   },
   "outputs": [
    {
     "data": {
      "text/html": [
       "<div>\n",
       "<style scoped>\n",
       "    .dataframe tbody tr th:only-of-type {\n",
       "        vertical-align: middle;\n",
       "    }\n",
       "\n",
       "    .dataframe tbody tr th {\n",
       "        vertical-align: top;\n",
       "    }\n",
       "\n",
       "    .dataframe thead th {\n",
       "        text-align: right;\n",
       "    }\n",
       "</style>\n",
       "<table border=\"1\" class=\"dataframe\">\n",
       "  <thead>\n",
       "    <tr style=\"text-align: right;\">\n",
       "      <th></th>\n",
       "      <th>filetype</th>\n",
       "    </tr>\n",
       "  </thead>\n",
       "  <tbody>\n",
       "    <tr>\n",
       "      <th>0</th>\n",
       "      <td>.yaml</td>\n",
       "    </tr>\n",
       "    <tr>\n",
       "      <th>1</th>\n",
       "      <td>.ipynb</td>\n",
       "    </tr>\n",
       "    <tr>\n",
       "      <th>2</th>\n",
       "      <td>.txt</td>\n",
       "    </tr>\n",
       "    <tr>\n",
       "      <th>3</th>\n",
       "      <td>.yml</td>\n",
       "    </tr>\n",
       "    <tr>\n",
       "      <th>4</th>\n",
       "      <td>Dockerfile</td>\n",
       "    </tr>\n",
       "  </tbody>\n",
       "</table>\n",
       "</div>"
      ],
      "text/plain": [
       "     filetype\n",
       "0       .yaml\n",
       "1      .ipynb\n",
       "2        .txt\n",
       "3        .yml\n",
       "4  Dockerfile"
      ]
     },
     "execution_count": 13,
     "metadata": {},
     "output_type": "execute_result"
    }
   ],
   "source": [
    "filetype_df.head()"
   ]
  },
  {
   "cell_type": "code",
   "execution_count": 14,
   "id": "c987e49d-d5ab-48ec-b369-6bc5c883d976",
   "metadata": {
    "execution": {
     "iopub.execute_input": "2022-11-22T20:16:50.878777Z",
     "iopub.status.busy": "2022-11-22T20:16:50.878508Z",
     "iopub.status.idle": "2022-11-22T20:16:50.883197Z",
     "shell.execute_reply": "2022-11-22T20:16:50.882068Z"
    }
   },
   "outputs": [],
   "source": [
    "FILE_EXTENSIONS_TO_COUNT = list(filetype_df[\"filetype\"])\n",
    "\n",
    "ftype_count_transf = FileTypeCountTransformer(file_extensions=FILE_EXTENSIONS_TO_COUNT)"
   ]
  },
  {
   "cell_type": "markdown",
   "id": "8797c05d-bc9a-497e-bbca-d9ed6b444f44",
   "metadata": {},
   "source": [
    "#### title_wordcount_\\<word>"
   ]
  },
  {
   "cell_type": "code",
   "execution_count": 15,
   "id": "952d3564-c7a9-4707-9117-b4ccfaf0065c",
   "metadata": {
    "execution": {
     "iopub.execute_input": "2022-11-22T20:16:50.887262Z",
     "iopub.status.busy": "2022-11-22T20:16:50.886858Z",
     "iopub.status.idle": "2022-11-22T20:16:51.013790Z",
     "shell.execute_reply": "2022-11-22T20:16:51.012959Z"
    }
   },
   "outputs": [],
   "source": [
    "TITLE_FEATURES_FILENAME = os.path.join(ORG + REPO + \"titlewords.parquet\")\n",
    "TITLE_FEATURES_KEY = os.path.join(s3_input_data_path, ORG, REPO, \"features\")\n",
    "title_word_keep_cols_df = cc.read_from_ceph(TITLE_FEATURES_KEY, TITLE_FEATURES_FILENAME)"
   ]
  },
  {
   "cell_type": "code",
   "execution_count": 16,
   "id": "0534487e-f064-49ef-a0a2-15f6022dfcab",
   "metadata": {
    "execution": {
     "iopub.execute_input": "2022-11-22T20:16:51.018302Z",
     "iopub.status.busy": "2022-11-22T20:16:51.017828Z",
     "iopub.status.idle": "2022-11-22T20:16:51.024484Z",
     "shell.execute_reply": "2022-11-22T20:16:51.023937Z"
    }
   },
   "outputs": [
    {
     "data": {
      "text/html": [
       "<div>\n",
       "<style scoped>\n",
       "    .dataframe tbody tr th:only-of-type {\n",
       "        vertical-align: middle;\n",
       "    }\n",
       "\n",
       "    .dataframe tbody tr th {\n",
       "        vertical-align: top;\n",
       "    }\n",
       "\n",
       "    .dataframe thead th {\n",
       "        text-align: right;\n",
       "    }\n",
       "</style>\n",
       "<table border=\"1\" class=\"dataframe\">\n",
       "  <thead>\n",
       "    <tr style=\"text-align: right;\">\n",
       "      <th></th>\n",
       "      <th>title</th>\n",
       "    </tr>\n",
       "  </thead>\n",
       "  <tbody>\n",
       "    <tr>\n",
       "      <th>0</th>\n",
       "      <td>comment</td>\n",
       "    </tr>\n",
       "    <tr>\n",
       "      <th>1</th>\n",
       "      <td>inference</td>\n",
       "    </tr>\n",
       "    <tr>\n",
       "      <th>2</th>\n",
       "      <td>marketplace</td>\n",
       "    </tr>\n",
       "    <tr>\n",
       "      <th>3</th>\n",
       "      <td>one</td>\n",
       "    </tr>\n",
       "    <tr>\n",
       "      <th>4</th>\n",
       "      <td>pr</td>\n",
       "    </tr>\n",
       "  </tbody>\n",
       "</table>\n",
       "</div>"
      ],
      "text/plain": [
       "         title\n",
       "0      comment\n",
       "1    inference\n",
       "2  marketplace\n",
       "3          one\n",
       "4           pr"
      ]
     },
     "execution_count": 16,
     "metadata": {},
     "output_type": "execute_result"
    }
   ],
   "source": [
    "title_word_keep_cols_df.head()"
   ]
  },
  {
   "cell_type": "code",
   "execution_count": 17,
   "id": "1be7c50c-dc47-483f-b695-a9c02d6cb51b",
   "metadata": {
    "execution": {
     "iopub.execute_input": "2022-11-22T20:16:51.027819Z",
     "iopub.status.busy": "2022-11-22T20:16:51.027303Z",
     "iopub.status.idle": "2022-11-22T20:16:51.032483Z",
     "shell.execute_reply": "2022-11-22T20:16:51.031862Z"
    }
   },
   "outputs": [],
   "source": [
    "# how many times these words appeared in PR title\n",
    "WORDS_TO_COUNT = list(title_word_keep_cols_df[\"title\"])\n",
    "\n",
    "title_wc_transf = TitleWordCountTransformer(words=WORDS_TO_COUNT)"
   ]
  },
  {
   "cell_type": "markdown",
   "id": "11932e2c-ffb2-4a98-9bb9-63a8a4984403",
   "metadata": {},
   "source": [
    "## Apply Transforms"
   ]
  },
  {
   "cell_type": "code",
   "execution_count": 18,
   "id": "c4ee7eb8-62d6-452f-b548-1a884e63ce4c",
   "metadata": {
    "execution": {
     "iopub.execute_input": "2022-11-22T20:16:51.040394Z",
     "iopub.status.busy": "2022-11-22T20:16:51.038199Z",
     "iopub.status.idle": "2022-11-22T20:16:51.045068Z",
     "shell.execute_reply": "2022-11-22T20:16:51.044086Z"
    }
   },
   "outputs": [],
   "source": [
    "# transformer objects compiled into one columntransformer\n",
    "raw_data_processor = ColumnTransformer(\n",
    "    [\n",
    "        (\"pr_size\", pr_size_encoder, [\"size\"]),  # 1 cols generated\n",
    "        (\"created_at_details\", dt_details_transf, [\"created_at\"]),  # 4 cols generated\n",
    "        (\n",
    "            \"n_changed_files\",\n",
    "            n_changed_files_transf,\n",
    "            [\"changed_files_number\"],\n",
    "        ),  # 1 cols generated\n",
    "        (\"body_size\", body_size_transf, [\"body\"]),  # 1 cols generated\n",
    "        (\"n_commits\", \"passthrough\", [\"commits_number\"]),  # 1 cols generated\n",
    "        (\n",
    "            \"filetype_counter\",\n",
    "            ftype_count_transf,\n",
    "            [\"changed_files\"],\n",
    "        ),\n",
    "        (\"title_word_counter\", title_wc_transf, [\"title\"]),\n",
    "    ],\n",
    "    remainder=\"drop\",\n",
    ")"
   ]
  },
  {
   "cell_type": "code",
   "execution_count": 19,
   "id": "7fa84a70-dab6-4a48-90fc-844c29d38263",
   "metadata": {
    "execution": {
     "iopub.execute_input": "2022-11-22T20:16:51.048797Z",
     "iopub.status.busy": "2022-11-22T20:16:51.048121Z",
     "iopub.status.idle": "2022-11-22T20:16:51.052612Z",
     "shell.execute_reply": "2022-11-22T20:16:51.051804Z"
    }
   },
   "outputs": [],
   "source": [
    "# column names. this is needed because sklearn forcefully converts df to ndarray,\n",
    "# thus losing column information. this is a hack to retain that info. look for alternatives\n",
    "cols = (\n",
    "    [\n",
    "        \"size\",\n",
    "        \"created_at_day\",\n",
    "        \"created_at_month\",\n",
    "        \"created_at_weekday\",\n",
    "        \"created_at_hour\",\n",
    "    ]\n",
    "    + [\n",
    "        \"changed_files_number\",\n",
    "        \"body_size\",\n",
    "        \"commits_number\",\n",
    "    ]\n",
    "    + [f\"filetype_{f}\" for f in FILE_EXTENSIONS_TO_COUNT]\n",
    "    + [f\"title_wordcount_{w}\" for w in WORDS_TO_COUNT]\n",
    ")"
   ]
  },
  {
   "cell_type": "code",
   "execution_count": 20,
   "id": "92ddff9e-fb93-477d-ab17-b54ce13185a4",
   "metadata": {
    "execution": {
     "iopub.execute_input": "2022-11-22T20:16:51.056349Z",
     "iopub.status.busy": "2022-11-22T20:16:51.055862Z",
     "iopub.status.idle": "2022-11-22T20:16:51.077223Z",
     "shell.execute_reply": "2022-11-22T20:16:51.076441Z"
    }
   },
   "outputs": [
    {
     "data": {
      "text/html": [
       "<div>\n",
       "<style scoped>\n",
       "    .dataframe tbody tr th:only-of-type {\n",
       "        vertical-align: middle;\n",
       "    }\n",
       "\n",
       "    .dataframe tbody tr th {\n",
       "        vertical-align: top;\n",
       "    }\n",
       "\n",
       "    .dataframe thead th {\n",
       "        text-align: right;\n",
       "    }\n",
       "</style>\n",
       "<table border=\"1\" class=\"dataframe\">\n",
       "  <thead>\n",
       "    <tr style=\"text-align: right;\">\n",
       "      <th></th>\n",
       "      <th>title</th>\n",
       "      <th>body</th>\n",
       "      <th>size</th>\n",
       "      <th>created_by</th>\n",
       "      <th>created_at</th>\n",
       "      <th>closed_at</th>\n",
       "      <th>closed_by</th>\n",
       "      <th>merged_at</th>\n",
       "      <th>merged_by</th>\n",
       "      <th>commits_number</th>\n",
       "      <th>changed_files_number</th>\n",
       "      <th>interactions</th>\n",
       "      <th>reviews</th>\n",
       "      <th>labels</th>\n",
       "      <th>commits</th>\n",
       "      <th>changed_files</th>\n",
       "      <th>first_review_at</th>\n",
       "      <th>first_approve_at</th>\n",
       "    </tr>\n",
       "  </thead>\n",
       "  <tbody>\n",
       "    <tr>\n",
       "      <th>0</th>\n",
       "      <td>Marketplace</td>\n",
       "      <td>None</td>\n",
       "      <td>XS</td>\n",
       "      <td>MichaelClifford</td>\n",
       "      <td>1668193936</td>\n",
       "      <td>1668194032</td>\n",
       "      <td>MichaelClifford</td>\n",
       "      <td>1.668194e+09</td>\n",
       "      <td>MichaelClifford</td>\n",
       "      <td>4</td>\n",
       "      <td>2</td>\n",
       "      <td>{}</td>\n",
       "      <td>{}</td>\n",
       "      <td>[]</td>\n",
       "      <td>[b51980240df014abfd5cbda4527ce15cdcf99901, 67b...</td>\n",
       "      <td>[.github/workflows/inference.yaml, action.yml]</td>\n",
       "      <td>NaN</td>\n",
       "      <td>None</td>\n",
       "    </tr>\n",
       "    <tr>\n",
       "      <th>1</th>\n",
       "      <td>test marketplace workflow</td>\n",
       "      <td>None</td>\n",
       "      <td>S</td>\n",
       "      <td>MichaelClifford</td>\n",
       "      <td>1668191744</td>\n",
       "      <td>1668191751</td>\n",
       "      <td>MichaelClifford</td>\n",
       "      <td>1.668192e+09</td>\n",
       "      <td>MichaelClifford</td>\n",
       "      <td>1</td>\n",
       "      <td>3</td>\n",
       "      <td>{}</td>\n",
       "      <td>{}</td>\n",
       "      <td>[]</td>\n",
       "      <td>[b51980240df014abfd5cbda4527ce15cdcf99901]</td>\n",
       "      <td>[.github/workflows/inference.yaml, Dockerfile,...</td>\n",
       "      <td>NaN</td>\n",
       "      <td>None</td>\n",
       "    </tr>\n",
       "    <tr>\n",
       "      <th>2</th>\n",
       "      <td>test marketplace workflow</td>\n",
       "      <td>None</td>\n",
       "      <td>XS</td>\n",
       "      <td>MichaelClifford</td>\n",
       "      <td>1668191213</td>\n",
       "      <td>1668191219</td>\n",
       "      <td>MichaelClifford</td>\n",
       "      <td>1.668191e+09</td>\n",
       "      <td>MichaelClifford</td>\n",
       "      <td>1</td>\n",
       "      <td>2</td>\n",
       "      <td>{}</td>\n",
       "      <td>{}</td>\n",
       "      <td>[]</td>\n",
       "      <td>[54577f445e3e254af0b979c75712f903d75ed741]</td>\n",
       "      <td>[.github/workflows/inference.yaml, Dockerfile]</td>\n",
       "      <td>NaN</td>\n",
       "      <td>None</td>\n",
       "    </tr>\n",
       "    <tr>\n",
       "      <th>3</th>\n",
       "      <td>test marketplace workflow</td>\n",
       "      <td>None</td>\n",
       "      <td>XS</td>\n",
       "      <td>MichaelClifford</td>\n",
       "      <td>1668190948</td>\n",
       "      <td>1668190983</td>\n",
       "      <td>MichaelClifford</td>\n",
       "      <td>1.668191e+09</td>\n",
       "      <td>MichaelClifford</td>\n",
       "      <td>1</td>\n",
       "      <td>1</td>\n",
       "      <td>{}</td>\n",
       "      <td>{}</td>\n",
       "      <td>[]</td>\n",
       "      <td>[5675d0f2e74c50301c7437d88396940807a7b382]</td>\n",
       "      <td>[.github/workflows/inference.yaml]</td>\n",
       "      <td>NaN</td>\n",
       "      <td>None</td>\n",
       "    </tr>\n",
       "    <tr>\n",
       "      <th>4</th>\n",
       "      <td>pr inference comment test 1</td>\n",
       "      <td>This is a test of the PR inference capabilities!</td>\n",
       "      <td>XS</td>\n",
       "      <td>MichaelClifford</td>\n",
       "      <td>1668012029</td>\n",
       "      <td>1668177420</td>\n",
       "      <td>MichaelClifford</td>\n",
       "      <td>1.668177e+09</td>\n",
       "      <td>MichaelClifford</td>\n",
       "      <td>0</td>\n",
       "      <td>0</td>\n",
       "      <td>{'review-notebook-app[bot]': 29, 'github-actio...</td>\n",
       "      <td>{}</td>\n",
       "      <td>[]</td>\n",
       "      <td>[]</td>\n",
       "      <td>[]</td>\n",
       "      <td>NaN</td>\n",
       "      <td>None</td>\n",
       "    </tr>\n",
       "  </tbody>\n",
       "</table>\n",
       "</div>"
      ],
      "text/plain": [
       "                         title  \\\n",
       "0                  Marketplace   \n",
       "1    test marketplace workflow   \n",
       "2    test marketplace workflow   \n",
       "3    test marketplace workflow   \n",
       "4  pr inference comment test 1   \n",
       "\n",
       "                                                body size       created_by  \\\n",
       "0                                               None   XS  MichaelClifford   \n",
       "1                                               None    S  MichaelClifford   \n",
       "2                                               None   XS  MichaelClifford   \n",
       "3                                               None   XS  MichaelClifford   \n",
       "4  This is a test of the PR inference capabilities!    XS  MichaelClifford   \n",
       "\n",
       "   created_at   closed_at        closed_by     merged_at        merged_by  \\\n",
       "0  1668193936  1668194032  MichaelClifford  1.668194e+09  MichaelClifford   \n",
       "1  1668191744  1668191751  MichaelClifford  1.668192e+09  MichaelClifford   \n",
       "2  1668191213  1668191219  MichaelClifford  1.668191e+09  MichaelClifford   \n",
       "3  1668190948  1668190983  MichaelClifford  1.668191e+09  MichaelClifford   \n",
       "4  1668012029  1668177420  MichaelClifford  1.668177e+09  MichaelClifford   \n",
       "\n",
       "   commits_number  changed_files_number  \\\n",
       "0               4                     2   \n",
       "1               1                     3   \n",
       "2               1                     2   \n",
       "3               1                     1   \n",
       "4               0                     0   \n",
       "\n",
       "                                        interactions reviews labels  \\\n",
       "0                                                 {}      {}     []   \n",
       "1                                                 {}      {}     []   \n",
       "2                                                 {}      {}     []   \n",
       "3                                                 {}      {}     []   \n",
       "4  {'review-notebook-app[bot]': 29, 'github-actio...      {}     []   \n",
       "\n",
       "                                             commits  \\\n",
       "0  [b51980240df014abfd5cbda4527ce15cdcf99901, 67b...   \n",
       "1         [b51980240df014abfd5cbda4527ce15cdcf99901]   \n",
       "2         [54577f445e3e254af0b979c75712f903d75ed741]   \n",
       "3         [5675d0f2e74c50301c7437d88396940807a7b382]   \n",
       "4                                                 []   \n",
       "\n",
       "                                       changed_files  first_review_at  \\\n",
       "0     [.github/workflows/inference.yaml, action.yml]              NaN   \n",
       "1  [.github/workflows/inference.yaml, Dockerfile,...              NaN   \n",
       "2     [.github/workflows/inference.yaml, Dockerfile]              NaN   \n",
       "3                 [.github/workflows/inference.yaml]              NaN   \n",
       "4                                                 []              NaN   \n",
       "\n",
       "  first_approve_at  \n",
       "0             None  \n",
       "1             None  \n",
       "2             None  \n",
       "3             None  \n",
       "4             None  "
      ]
     },
     "execution_count": 20,
     "metadata": {},
     "output_type": "execute_result"
    }
   ],
   "source": [
    "pr_df.head()"
   ]
  },
  {
   "cell_type": "code",
   "execution_count": 21,
   "id": "6960ca90-c8d9-4298-a1b8-2971aede7234",
   "metadata": {
    "execution": {
     "iopub.execute_input": "2022-11-22T20:16:51.080657Z",
     "iopub.status.busy": "2022-11-22T20:16:51.080171Z",
     "iopub.status.idle": "2022-11-22T20:16:51.291534Z",
     "shell.execute_reply": "2022-11-22T20:16:51.290598Z"
    },
    "tags": []
   },
   "outputs": [],
   "source": [
    "X = raw_data_processor.fit_transform(pr_df)"
   ]
  },
  {
   "cell_type": "code",
   "execution_count": 22,
   "id": "8be37f9c-a814-4788-aead-fe6c51c8e557",
   "metadata": {
    "execution": {
     "iopub.execute_input": "2022-11-22T20:16:51.296203Z",
     "iopub.status.busy": "2022-11-22T20:16:51.295545Z",
     "iopub.status.idle": "2022-11-22T20:16:51.320583Z",
     "shell.execute_reply": "2022-11-22T20:16:51.319741Z"
    },
    "tags": []
   },
   "outputs": [
    {
     "data": {
      "text/html": [
       "<div>\n",
       "<style scoped>\n",
       "    .dataframe tbody tr th:only-of-type {\n",
       "        vertical-align: middle;\n",
       "    }\n",
       "\n",
       "    .dataframe tbody tr th {\n",
       "        vertical-align: top;\n",
       "    }\n",
       "\n",
       "    .dataframe thead th {\n",
       "        text-align: right;\n",
       "    }\n",
       "</style>\n",
       "<table border=\"1\" class=\"dataframe\">\n",
       "  <thead>\n",
       "    <tr style=\"text-align: right;\">\n",
       "      <th></th>\n",
       "      <th>size</th>\n",
       "      <th>created_at_day</th>\n",
       "      <th>created_at_month</th>\n",
       "      <th>created_at_weekday</th>\n",
       "      <th>created_at_hour</th>\n",
       "      <th>changed_files_number</th>\n",
       "      <th>body_size</th>\n",
       "      <th>commits_number</th>\n",
       "      <th>filetype_.yaml</th>\n",
       "      <th>filetype_.ipynb</th>\n",
       "      <th>...</th>\n",
       "      <th>filetype_.yml</th>\n",
       "      <th>filetype_Dockerfile</th>\n",
       "      <th>title_wordcount_comment</th>\n",
       "      <th>title_wordcount_inference</th>\n",
       "      <th>title_wordcount_marketplace</th>\n",
       "      <th>title_wordcount_one</th>\n",
       "      <th>title_wordcount_pr</th>\n",
       "      <th>title_wordcount_test</th>\n",
       "      <th>title_wordcount_two</th>\n",
       "      <th>title_wordcount_workflow</th>\n",
       "    </tr>\n",
       "  </thead>\n",
       "  <tbody>\n",
       "    <tr>\n",
       "      <th>0</th>\n",
       "      <td>0.0</td>\n",
       "      <td>11.0</td>\n",
       "      <td>11.0</td>\n",
       "      <td>4.0</td>\n",
       "      <td>19.0</td>\n",
       "      <td>2.0</td>\n",
       "      <td>0.0</td>\n",
       "      <td>4.0</td>\n",
       "      <td>1.0</td>\n",
       "      <td>0.0</td>\n",
       "      <td>...</td>\n",
       "      <td>1.0</td>\n",
       "      <td>0.0</td>\n",
       "      <td>0.0</td>\n",
       "      <td>0.0</td>\n",
       "      <td>1.0</td>\n",
       "      <td>0.0</td>\n",
       "      <td>0.0</td>\n",
       "      <td>0.0</td>\n",
       "      <td>0.0</td>\n",
       "      <td>0.0</td>\n",
       "    </tr>\n",
       "    <tr>\n",
       "      <th>1</th>\n",
       "      <td>1.0</td>\n",
       "      <td>11.0</td>\n",
       "      <td>11.0</td>\n",
       "      <td>4.0</td>\n",
       "      <td>18.0</td>\n",
       "      <td>3.0</td>\n",
       "      <td>0.0</td>\n",
       "      <td>1.0</td>\n",
       "      <td>1.0</td>\n",
       "      <td>0.0</td>\n",
       "      <td>...</td>\n",
       "      <td>1.0</td>\n",
       "      <td>1.0</td>\n",
       "      <td>0.0</td>\n",
       "      <td>0.0</td>\n",
       "      <td>1.0</td>\n",
       "      <td>0.0</td>\n",
       "      <td>0.0</td>\n",
       "      <td>1.0</td>\n",
       "      <td>0.0</td>\n",
       "      <td>1.0</td>\n",
       "    </tr>\n",
       "    <tr>\n",
       "      <th>2</th>\n",
       "      <td>0.0</td>\n",
       "      <td>11.0</td>\n",
       "      <td>11.0</td>\n",
       "      <td>4.0</td>\n",
       "      <td>18.0</td>\n",
       "      <td>2.0</td>\n",
       "      <td>0.0</td>\n",
       "      <td>1.0</td>\n",
       "      <td>1.0</td>\n",
       "      <td>0.0</td>\n",
       "      <td>...</td>\n",
       "      <td>0.0</td>\n",
       "      <td>1.0</td>\n",
       "      <td>0.0</td>\n",
       "      <td>0.0</td>\n",
       "      <td>1.0</td>\n",
       "      <td>0.0</td>\n",
       "      <td>0.0</td>\n",
       "      <td>1.0</td>\n",
       "      <td>0.0</td>\n",
       "      <td>1.0</td>\n",
       "    </tr>\n",
       "    <tr>\n",
       "      <th>3</th>\n",
       "      <td>0.0</td>\n",
       "      <td>11.0</td>\n",
       "      <td>11.0</td>\n",
       "      <td>4.0</td>\n",
       "      <td>18.0</td>\n",
       "      <td>1.0</td>\n",
       "      <td>0.0</td>\n",
       "      <td>1.0</td>\n",
       "      <td>1.0</td>\n",
       "      <td>0.0</td>\n",
       "      <td>...</td>\n",
       "      <td>0.0</td>\n",
       "      <td>0.0</td>\n",
       "      <td>0.0</td>\n",
       "      <td>0.0</td>\n",
       "      <td>1.0</td>\n",
       "      <td>0.0</td>\n",
       "      <td>0.0</td>\n",
       "      <td>1.0</td>\n",
       "      <td>0.0</td>\n",
       "      <td>1.0</td>\n",
       "    </tr>\n",
       "    <tr>\n",
       "      <th>4</th>\n",
       "      <td>0.0</td>\n",
       "      <td>9.0</td>\n",
       "      <td>11.0</td>\n",
       "      <td>2.0</td>\n",
       "      <td>16.0</td>\n",
       "      <td>0.0</td>\n",
       "      <td>9.0</td>\n",
       "      <td>0.0</td>\n",
       "      <td>0.0</td>\n",
       "      <td>0.0</td>\n",
       "      <td>...</td>\n",
       "      <td>0.0</td>\n",
       "      <td>0.0</td>\n",
       "      <td>1.0</td>\n",
       "      <td>1.0</td>\n",
       "      <td>0.0</td>\n",
       "      <td>0.0</td>\n",
       "      <td>1.0</td>\n",
       "      <td>1.0</td>\n",
       "      <td>0.0</td>\n",
       "      <td>0.0</td>\n",
       "    </tr>\n",
       "  </tbody>\n",
       "</table>\n",
       "<p>5 rows × 21 columns</p>\n",
       "</div>"
      ],
      "text/plain": [
       "   size  created_at_day  created_at_month  created_at_weekday  \\\n",
       "0   0.0            11.0              11.0                 4.0   \n",
       "1   1.0            11.0              11.0                 4.0   \n",
       "2   0.0            11.0              11.0                 4.0   \n",
       "3   0.0            11.0              11.0                 4.0   \n",
       "4   0.0             9.0              11.0                 2.0   \n",
       "\n",
       "   created_at_hour  changed_files_number  body_size  commits_number  \\\n",
       "0             19.0                   2.0        0.0             4.0   \n",
       "1             18.0                   3.0        0.0             1.0   \n",
       "2             18.0                   2.0        0.0             1.0   \n",
       "3             18.0                   1.0        0.0             1.0   \n",
       "4             16.0                   0.0        9.0             0.0   \n",
       "\n",
       "   filetype_.yaml  filetype_.ipynb  ...  filetype_.yml  filetype_Dockerfile  \\\n",
       "0             1.0              0.0  ...            1.0                  0.0   \n",
       "1             1.0              0.0  ...            1.0                  1.0   \n",
       "2             1.0              0.0  ...            0.0                  1.0   \n",
       "3             1.0              0.0  ...            0.0                  0.0   \n",
       "4             0.0              0.0  ...            0.0                  0.0   \n",
       "\n",
       "   title_wordcount_comment  title_wordcount_inference  \\\n",
       "0                      0.0                        0.0   \n",
       "1                      0.0                        0.0   \n",
       "2                      0.0                        0.0   \n",
       "3                      0.0                        0.0   \n",
       "4                      1.0                        1.0   \n",
       "\n",
       "   title_wordcount_marketplace  title_wordcount_one  title_wordcount_pr  \\\n",
       "0                          1.0                  0.0                 0.0   \n",
       "1                          1.0                  0.0                 0.0   \n",
       "2                          1.0                  0.0                 0.0   \n",
       "3                          1.0                  0.0                 0.0   \n",
       "4                          0.0                  0.0                 1.0   \n",
       "\n",
       "   title_wordcount_test  title_wordcount_two  title_wordcount_workflow  \n",
       "0                   0.0                  0.0                       0.0  \n",
       "1                   1.0                  0.0                       1.0  \n",
       "2                   1.0                  0.0                       1.0  \n",
       "3                   1.0                  0.0                       1.0  \n",
       "4                   1.0                  0.0                       0.0  \n",
       "\n",
       "[5 rows x 21 columns]"
      ]
     },
     "execution_count": 22,
     "metadata": {},
     "output_type": "execute_result"
    }
   ],
   "source": [
    "X = pd.DataFrame(X, index=pr_df.index, columns=cols)\n",
    "X.head()"
   ]
  },
  {
   "cell_type": "code",
   "execution_count": 23,
   "id": "b3760786-b04a-4216-a690-c60cd19bb454",
   "metadata": {
    "execution": {
     "iopub.execute_input": "2022-11-22T20:16:51.325455Z",
     "iopub.status.busy": "2022-11-22T20:16:51.324647Z",
     "iopub.status.idle": "2022-11-22T20:16:51.355302Z",
     "shell.execute_reply": "2022-11-22T20:16:51.354462Z"
    }
   },
   "outputs": [
    {
     "data": {
      "text/html": [
       "<div>\n",
       "<style scoped>\n",
       "    .dataframe tbody tr th:only-of-type {\n",
       "        vertical-align: middle;\n",
       "    }\n",
       "\n",
       "    .dataframe tbody tr th {\n",
       "        vertical-align: top;\n",
       "    }\n",
       "\n",
       "    .dataframe thead th {\n",
       "        text-align: right;\n",
       "    }\n",
       "</style>\n",
       "<table border=\"1\" class=\"dataframe\">\n",
       "  <thead>\n",
       "    <tr style=\"text-align: right;\">\n",
       "      <th></th>\n",
       "      <th>size</th>\n",
       "      <th>created_at_day</th>\n",
       "      <th>created_at_month</th>\n",
       "      <th>created_at_weekday</th>\n",
       "      <th>created_at_hour</th>\n",
       "      <th>changed_files_number</th>\n",
       "      <th>body_size</th>\n",
       "      <th>commits_number</th>\n",
       "      <th>filetype_.yaml</th>\n",
       "      <th>filetype_.ipynb</th>\n",
       "      <th>...</th>\n",
       "      <th>filetype_.yml</th>\n",
       "      <th>filetype_Dockerfile</th>\n",
       "      <th>title_wordcount_comment</th>\n",
       "      <th>title_wordcount_inference</th>\n",
       "      <th>title_wordcount_marketplace</th>\n",
       "      <th>title_wordcount_one</th>\n",
       "      <th>title_wordcount_pr</th>\n",
       "      <th>title_wordcount_test</th>\n",
       "      <th>title_wordcount_two</th>\n",
       "      <th>title_wordcount_workflow</th>\n",
       "    </tr>\n",
       "  </thead>\n",
       "  <tbody>\n",
       "    <tr>\n",
       "      <th>0</th>\n",
       "      <td>0.0</td>\n",
       "      <td>11.0</td>\n",
       "      <td>11.0</td>\n",
       "      <td>4.0</td>\n",
       "      <td>19.0</td>\n",
       "      <td>2.0</td>\n",
       "      <td>0.0</td>\n",
       "      <td>4.0</td>\n",
       "      <td>1.0</td>\n",
       "      <td>0.0</td>\n",
       "      <td>...</td>\n",
       "      <td>1.0</td>\n",
       "      <td>0.0</td>\n",
       "      <td>0.0</td>\n",
       "      <td>0.0</td>\n",
       "      <td>1.0</td>\n",
       "      <td>0.0</td>\n",
       "      <td>0.0</td>\n",
       "      <td>0.0</td>\n",
       "      <td>0.0</td>\n",
       "      <td>0.0</td>\n",
       "    </tr>\n",
       "    <tr>\n",
       "      <th>1</th>\n",
       "      <td>1.0</td>\n",
       "      <td>11.0</td>\n",
       "      <td>11.0</td>\n",
       "      <td>4.0</td>\n",
       "      <td>18.0</td>\n",
       "      <td>3.0</td>\n",
       "      <td>0.0</td>\n",
       "      <td>1.0</td>\n",
       "      <td>1.0</td>\n",
       "      <td>0.0</td>\n",
       "      <td>...</td>\n",
       "      <td>1.0</td>\n",
       "      <td>1.0</td>\n",
       "      <td>0.0</td>\n",
       "      <td>0.0</td>\n",
       "      <td>1.0</td>\n",
       "      <td>0.0</td>\n",
       "      <td>0.0</td>\n",
       "      <td>1.0</td>\n",
       "      <td>0.0</td>\n",
       "      <td>1.0</td>\n",
       "    </tr>\n",
       "    <tr>\n",
       "      <th>2</th>\n",
       "      <td>0.0</td>\n",
       "      <td>11.0</td>\n",
       "      <td>11.0</td>\n",
       "      <td>4.0</td>\n",
       "      <td>18.0</td>\n",
       "      <td>2.0</td>\n",
       "      <td>0.0</td>\n",
       "      <td>1.0</td>\n",
       "      <td>1.0</td>\n",
       "      <td>0.0</td>\n",
       "      <td>...</td>\n",
       "      <td>0.0</td>\n",
       "      <td>1.0</td>\n",
       "      <td>0.0</td>\n",
       "      <td>0.0</td>\n",
       "      <td>1.0</td>\n",
       "      <td>0.0</td>\n",
       "      <td>0.0</td>\n",
       "      <td>1.0</td>\n",
       "      <td>0.0</td>\n",
       "      <td>1.0</td>\n",
       "    </tr>\n",
       "    <tr>\n",
       "      <th>3</th>\n",
       "      <td>0.0</td>\n",
       "      <td>11.0</td>\n",
       "      <td>11.0</td>\n",
       "      <td>4.0</td>\n",
       "      <td>18.0</td>\n",
       "      <td>1.0</td>\n",
       "      <td>0.0</td>\n",
       "      <td>1.0</td>\n",
       "      <td>1.0</td>\n",
       "      <td>0.0</td>\n",
       "      <td>...</td>\n",
       "      <td>0.0</td>\n",
       "      <td>0.0</td>\n",
       "      <td>0.0</td>\n",
       "      <td>0.0</td>\n",
       "      <td>1.0</td>\n",
       "      <td>0.0</td>\n",
       "      <td>0.0</td>\n",
       "      <td>1.0</td>\n",
       "      <td>0.0</td>\n",
       "      <td>1.0</td>\n",
       "    </tr>\n",
       "    <tr>\n",
       "      <th>4</th>\n",
       "      <td>0.0</td>\n",
       "      <td>9.0</td>\n",
       "      <td>11.0</td>\n",
       "      <td>2.0</td>\n",
       "      <td>16.0</td>\n",
       "      <td>0.0</td>\n",
       "      <td>9.0</td>\n",
       "      <td>0.0</td>\n",
       "      <td>0.0</td>\n",
       "      <td>0.0</td>\n",
       "      <td>...</td>\n",
       "      <td>0.0</td>\n",
       "      <td>0.0</td>\n",
       "      <td>1.0</td>\n",
       "      <td>1.0</td>\n",
       "      <td>0.0</td>\n",
       "      <td>0.0</td>\n",
       "      <td>1.0</td>\n",
       "      <td>1.0</td>\n",
       "      <td>0.0</td>\n",
       "      <td>0.0</td>\n",
       "    </tr>\n",
       "    <tr>\n",
       "      <th>5</th>\n",
       "      <td>5.0</td>\n",
       "      <td>4.0</td>\n",
       "      <td>11.0</td>\n",
       "      <td>4.0</td>\n",
       "      <td>19.0</td>\n",
       "      <td>6.0</td>\n",
       "      <td>0.0</td>\n",
       "      <td>12.0</td>\n",
       "      <td>1.0</td>\n",
       "      <td>4.0</td>\n",
       "      <td>...</td>\n",
       "      <td>0.0</td>\n",
       "      <td>0.0</td>\n",
       "      <td>0.0</td>\n",
       "      <td>0.0</td>\n",
       "      <td>0.0</td>\n",
       "      <td>0.0</td>\n",
       "      <td>0.0</td>\n",
       "      <td>0.0</td>\n",
       "      <td>1.0</td>\n",
       "      <td>0.0</td>\n",
       "    </tr>\n",
       "    <tr>\n",
       "      <th>6</th>\n",
       "      <td>0.0</td>\n",
       "      <td>4.0</td>\n",
       "      <td>11.0</td>\n",
       "      <td>4.0</td>\n",
       "      <td>19.0</td>\n",
       "      <td>1.0</td>\n",
       "      <td>0.0</td>\n",
       "      <td>1.0</td>\n",
       "      <td>1.0</td>\n",
       "      <td>0.0</td>\n",
       "      <td>...</td>\n",
       "      <td>0.0</td>\n",
       "      <td>0.0</td>\n",
       "      <td>0.0</td>\n",
       "      <td>0.0</td>\n",
       "      <td>0.0</td>\n",
       "      <td>0.0</td>\n",
       "      <td>0.0</td>\n",
       "      <td>0.0</td>\n",
       "      <td>0.0</td>\n",
       "      <td>0.0</td>\n",
       "    </tr>\n",
       "    <tr>\n",
       "      <th>7</th>\n",
       "      <td>1.0</td>\n",
       "      <td>4.0</td>\n",
       "      <td>11.0</td>\n",
       "      <td>4.0</td>\n",
       "      <td>18.0</td>\n",
       "      <td>2.0</td>\n",
       "      <td>0.0</td>\n",
       "      <td>2.0</td>\n",
       "      <td>1.0</td>\n",
       "      <td>0.0</td>\n",
       "      <td>...</td>\n",
       "      <td>0.0</td>\n",
       "      <td>0.0</td>\n",
       "      <td>0.0</td>\n",
       "      <td>0.0</td>\n",
       "      <td>0.0</td>\n",
       "      <td>1.0</td>\n",
       "      <td>0.0</td>\n",
       "      <td>0.0</td>\n",
       "      <td>0.0</td>\n",
       "      <td>0.0</td>\n",
       "    </tr>\n",
       "    <tr>\n",
       "      <th>8</th>\n",
       "      <td>1.0</td>\n",
       "      <td>4.0</td>\n",
       "      <td>11.0</td>\n",
       "      <td>4.0</td>\n",
       "      <td>16.0</td>\n",
       "      <td>2.0</td>\n",
       "      <td>0.0</td>\n",
       "      <td>2.0</td>\n",
       "      <td>1.0</td>\n",
       "      <td>0.0</td>\n",
       "      <td>...</td>\n",
       "      <td>0.0</td>\n",
       "      <td>0.0</td>\n",
       "      <td>0.0</td>\n",
       "      <td>0.0</td>\n",
       "      <td>0.0</td>\n",
       "      <td>1.0</td>\n",
       "      <td>0.0</td>\n",
       "      <td>0.0</td>\n",
       "      <td>0.0</td>\n",
       "      <td>0.0</td>\n",
       "    </tr>\n",
       "  </tbody>\n",
       "</table>\n",
       "<p>9 rows × 21 columns</p>\n",
       "</div>"
      ],
      "text/plain": [
       "   size  created_at_day  created_at_month  created_at_weekday  \\\n",
       "0   0.0            11.0              11.0                 4.0   \n",
       "1   1.0            11.0              11.0                 4.0   \n",
       "2   0.0            11.0              11.0                 4.0   \n",
       "3   0.0            11.0              11.0                 4.0   \n",
       "4   0.0             9.0              11.0                 2.0   \n",
       "5   5.0             4.0              11.0                 4.0   \n",
       "6   0.0             4.0              11.0                 4.0   \n",
       "7   1.0             4.0              11.0                 4.0   \n",
       "8   1.0             4.0              11.0                 4.0   \n",
       "\n",
       "   created_at_hour  changed_files_number  body_size  commits_number  \\\n",
       "0             19.0                   2.0        0.0             4.0   \n",
       "1             18.0                   3.0        0.0             1.0   \n",
       "2             18.0                   2.0        0.0             1.0   \n",
       "3             18.0                   1.0        0.0             1.0   \n",
       "4             16.0                   0.0        9.0             0.0   \n",
       "5             19.0                   6.0        0.0            12.0   \n",
       "6             19.0                   1.0        0.0             1.0   \n",
       "7             18.0                   2.0        0.0             2.0   \n",
       "8             16.0                   2.0        0.0             2.0   \n",
       "\n",
       "   filetype_.yaml  filetype_.ipynb  ...  filetype_.yml  filetype_Dockerfile  \\\n",
       "0             1.0              0.0  ...            1.0                  0.0   \n",
       "1             1.0              0.0  ...            1.0                  1.0   \n",
       "2             1.0              0.0  ...            0.0                  1.0   \n",
       "3             1.0              0.0  ...            0.0                  0.0   \n",
       "4             0.0              0.0  ...            0.0                  0.0   \n",
       "5             1.0              4.0  ...            0.0                  0.0   \n",
       "6             1.0              0.0  ...            0.0                  0.0   \n",
       "7             1.0              0.0  ...            0.0                  0.0   \n",
       "8             1.0              0.0  ...            0.0                  0.0   \n",
       "\n",
       "   title_wordcount_comment  title_wordcount_inference  \\\n",
       "0                      0.0                        0.0   \n",
       "1                      0.0                        0.0   \n",
       "2                      0.0                        0.0   \n",
       "3                      0.0                        0.0   \n",
       "4                      1.0                        1.0   \n",
       "5                      0.0                        0.0   \n",
       "6                      0.0                        0.0   \n",
       "7                      0.0                        0.0   \n",
       "8                      0.0                        0.0   \n",
       "\n",
       "   title_wordcount_marketplace  title_wordcount_one  title_wordcount_pr  \\\n",
       "0                          1.0                  0.0                 0.0   \n",
       "1                          1.0                  0.0                 0.0   \n",
       "2                          1.0                  0.0                 0.0   \n",
       "3                          1.0                  0.0                 0.0   \n",
       "4                          0.0                  0.0                 1.0   \n",
       "5                          0.0                  0.0                 0.0   \n",
       "6                          0.0                  0.0                 0.0   \n",
       "7                          0.0                  1.0                 0.0   \n",
       "8                          0.0                  1.0                 0.0   \n",
       "\n",
       "   title_wordcount_test  title_wordcount_two  title_wordcount_workflow  \n",
       "0                   0.0                  0.0                       0.0  \n",
       "1                   1.0                  0.0                       1.0  \n",
       "2                   1.0                  0.0                       1.0  \n",
       "3                   1.0                  0.0                       1.0  \n",
       "4                   1.0                  0.0                       0.0  \n",
       "5                   0.0                  1.0                       0.0  \n",
       "6                   0.0                  0.0                       0.0  \n",
       "7                   0.0                  0.0                       0.0  \n",
       "8                   0.0                  0.0                       0.0  \n",
       "\n",
       "[9 rows x 21 columns]"
      ]
     },
     "execution_count": 23,
     "metadata": {},
     "output_type": "execute_result"
    }
   ],
   "source": [
    "X"
   ]
  },
  {
   "cell_type": "markdown",
   "id": "756725bc-85c4-45b0-8f24-08cba0f57113",
   "metadata": {},
   "source": [
    "## Drop NA + Train/Test Split"
   ]
  },
  {
   "cell_type": "code",
   "execution_count": 24,
   "id": "da703bc5-696f-4f63-b471-018c18557ac6",
   "metadata": {
    "execution": {
     "iopub.execute_input": "2022-11-22T20:16:51.359206Z",
     "iopub.status.busy": "2022-11-22T20:16:51.358637Z",
     "iopub.status.idle": "2022-11-22T20:16:51.363648Z",
     "shell.execute_reply": "2022-11-22T20:16:51.362808Z"
    }
   },
   "outputs": [],
   "source": [
    "# drop entries for which labels are unknown\n",
    "# also make sure labels and features are consistent\n",
    "X = X.reindex(y.index)"
   ]
  },
  {
   "cell_type": "code",
   "execution_count": 25,
   "id": "86235437",
   "metadata": {
    "execution": {
     "iopub.execute_input": "2022-11-22T20:16:51.367231Z",
     "iopub.status.busy": "2022-11-22T20:16:51.366658Z",
     "iopub.status.idle": "2022-11-22T20:16:51.372436Z",
     "shell.execute_reply": "2022-11-22T20:16:51.371818Z"
    }
   },
   "outputs": [],
   "source": [
    "# split into train and test sets\n",
    "X_train, X_test, y_train, y_test = train_test_split(\n",
    "    X, y, test_size=0.2, random_state=42\n",
    ")"
   ]
  },
  {
   "cell_type": "code",
   "execution_count": 26,
   "id": "82ac1a13-b294-4414-906b-271e72ac091f",
   "metadata": {
    "execution": {
     "iopub.execute_input": "2022-11-22T20:16:51.376205Z",
     "iopub.status.busy": "2022-11-22T20:16:51.375550Z",
     "iopub.status.idle": "2022-11-22T20:16:51.396112Z",
     "shell.execute_reply": "2022-11-22T20:16:51.395513Z"
    }
   },
   "outputs": [
    {
     "data": {
      "text/html": [
       "<div>\n",
       "<style scoped>\n",
       "    .dataframe tbody tr th:only-of-type {\n",
       "        vertical-align: middle;\n",
       "    }\n",
       "\n",
       "    .dataframe tbody tr th {\n",
       "        vertical-align: top;\n",
       "    }\n",
       "\n",
       "    .dataframe thead th {\n",
       "        text-align: right;\n",
       "    }\n",
       "</style>\n",
       "<table border=\"1\" class=\"dataframe\">\n",
       "  <thead>\n",
       "    <tr style=\"text-align: right;\">\n",
       "      <th></th>\n",
       "      <th>size</th>\n",
       "      <th>created_at_day</th>\n",
       "      <th>created_at_month</th>\n",
       "      <th>created_at_weekday</th>\n",
       "      <th>created_at_hour</th>\n",
       "      <th>changed_files_number</th>\n",
       "      <th>body_size</th>\n",
       "      <th>commits_number</th>\n",
       "      <th>filetype_.yaml</th>\n",
       "      <th>filetype_.ipynb</th>\n",
       "      <th>...</th>\n",
       "      <th>filetype_.yml</th>\n",
       "      <th>filetype_Dockerfile</th>\n",
       "      <th>title_wordcount_comment</th>\n",
       "      <th>title_wordcount_inference</th>\n",
       "      <th>title_wordcount_marketplace</th>\n",
       "      <th>title_wordcount_one</th>\n",
       "      <th>title_wordcount_pr</th>\n",
       "      <th>title_wordcount_test</th>\n",
       "      <th>title_wordcount_two</th>\n",
       "      <th>title_wordcount_workflow</th>\n",
       "    </tr>\n",
       "  </thead>\n",
       "  <tbody>\n",
       "    <tr>\n",
       "      <th>0</th>\n",
       "      <td>0.0</td>\n",
       "      <td>11.0</td>\n",
       "      <td>11.0</td>\n",
       "      <td>4.0</td>\n",
       "      <td>19.0</td>\n",
       "      <td>2.0</td>\n",
       "      <td>0.0</td>\n",
       "      <td>4.0</td>\n",
       "      <td>1.0</td>\n",
       "      <td>0.0</td>\n",
       "      <td>...</td>\n",
       "      <td>1.0</td>\n",
       "      <td>0.0</td>\n",
       "      <td>0.0</td>\n",
       "      <td>0.0</td>\n",
       "      <td>1.0</td>\n",
       "      <td>0.0</td>\n",
       "      <td>0.0</td>\n",
       "      <td>0.0</td>\n",
       "      <td>0.0</td>\n",
       "      <td>0.0</td>\n",
       "    </tr>\n",
       "    <tr>\n",
       "      <th>1</th>\n",
       "      <td>1.0</td>\n",
       "      <td>11.0</td>\n",
       "      <td>11.0</td>\n",
       "      <td>4.0</td>\n",
       "      <td>18.0</td>\n",
       "      <td>3.0</td>\n",
       "      <td>0.0</td>\n",
       "      <td>1.0</td>\n",
       "      <td>1.0</td>\n",
       "      <td>0.0</td>\n",
       "      <td>...</td>\n",
       "      <td>1.0</td>\n",
       "      <td>1.0</td>\n",
       "      <td>0.0</td>\n",
       "      <td>0.0</td>\n",
       "      <td>1.0</td>\n",
       "      <td>0.0</td>\n",
       "      <td>0.0</td>\n",
       "      <td>1.0</td>\n",
       "      <td>0.0</td>\n",
       "      <td>1.0</td>\n",
       "    </tr>\n",
       "  </tbody>\n",
       "</table>\n",
       "<p>2 rows × 21 columns</p>\n",
       "</div>"
      ],
      "text/plain": [
       "   size  created_at_day  created_at_month  created_at_weekday  \\\n",
       "0   0.0            11.0              11.0                 4.0   \n",
       "1   1.0            11.0              11.0                 4.0   \n",
       "\n",
       "   created_at_hour  changed_files_number  body_size  commits_number  \\\n",
       "0             19.0                   2.0        0.0             4.0   \n",
       "1             18.0                   3.0        0.0             1.0   \n",
       "\n",
       "   filetype_.yaml  filetype_.ipynb  ...  filetype_.yml  filetype_Dockerfile  \\\n",
       "0             1.0              0.0  ...            1.0                  0.0   \n",
       "1             1.0              0.0  ...            1.0                  1.0   \n",
       "\n",
       "   title_wordcount_comment  title_wordcount_inference  \\\n",
       "0                      0.0                        0.0   \n",
       "1                      0.0                        0.0   \n",
       "\n",
       "   title_wordcount_marketplace  title_wordcount_one  title_wordcount_pr  \\\n",
       "0                          1.0                  0.0                 0.0   \n",
       "1                          1.0                  0.0                 0.0   \n",
       "\n",
       "   title_wordcount_test  title_wordcount_two  title_wordcount_workflow  \n",
       "0                   0.0                  0.0                       0.0  \n",
       "1                   1.0                  0.0                       1.0  \n",
       "\n",
       "[2 rows x 21 columns]"
      ]
     },
     "execution_count": 26,
     "metadata": {},
     "output_type": "execute_result"
    }
   ],
   "source": [
    "X_test"
   ]
  },
  {
   "cell_type": "code",
   "execution_count": 27,
   "id": "fbbbd016",
   "metadata": {
    "execution": {
     "iopub.execute_input": "2022-11-22T20:16:51.399718Z",
     "iopub.status.busy": "2022-11-22T20:16:51.399088Z",
     "iopub.status.idle": "2022-11-22T20:16:51.838724Z",
     "shell.execute_reply": "2022-11-22T20:16:51.837754Z"
    }
   },
   "outputs": [
    {
     "name": "stdout",
     "output_type": "stream",
     "text": [
      "200\n",
      "200\n"
     ]
    }
   ],
   "source": [
    "TEST_DATA_PATH = os.path.join(s3_input_data_path, ORG, REPO, \"test-data\")\n",
    "\n",
    "# upload X_test and y_test to S3 bucket for testing / running sanity check on the model inference service\n",
    "\n",
    "ret = cc.upload_to_ceph(X_test, TEST_DATA_PATH, \"X_test.parquet\")\n",
    "print(ret[\"ResponseMetadata\"][\"HTTPStatusCode\"])\n",
    "\n",
    "ret = cc.upload_to_ceph(y_test.to_frame(\"ttm_class\"), TEST_DATA_PATH, \"y_test.parquet\")\n",
    "print(ret[\"ResponseMetadata\"][\"HTTPStatusCode\"])"
   ]
  },
  {
   "cell_type": "code",
   "execution_count": 28,
   "id": "4ee74938",
   "metadata": {
    "execution": {
     "iopub.execute_input": "2022-11-22T20:16:51.842802Z",
     "iopub.status.busy": "2022-11-22T20:16:51.841977Z",
     "iopub.status.idle": "2022-11-22T20:16:51.846251Z",
     "shell.execute_reply": "2022-11-22T20:16:51.845470Z"
    }
   },
   "outputs": [],
   "source": [
    "# convert from pandas series to lists to avoid warnings during training\n",
    "y_train = y_train.to_list()\n",
    "y_test = y_test.to_list()"
   ]
  },
  {
   "cell_type": "markdown",
   "id": "98107599",
   "metadata": {},
   "source": [
    "## Scale data"
   ]
  },
  {
   "cell_type": "code",
   "execution_count": 29,
   "id": "47bb3149",
   "metadata": {
    "execution": {
     "iopub.execute_input": "2022-11-22T20:16:51.849665Z",
     "iopub.status.busy": "2022-11-22T20:16:51.849265Z",
     "iopub.status.idle": "2022-11-22T20:16:51.897826Z",
     "shell.execute_reply": "2022-11-22T20:16:51.897106Z"
    }
   },
   "outputs": [],
   "source": [
    "# lets apply a yeo johnson transform to try to make the data more gaussian\n",
    "scaler = PowerTransformer()\n",
    "\n",
    "X_train_scaled = scaler.fit_transform(X_train)\n",
    "X_test_scaled = scaler.transform(X_test)"
   ]
  },
  {
   "cell_type": "markdown",
   "id": "4d0dd02f",
   "metadata": {},
   "source": [
    "## Define Training and Evaluation Pipeline"
   ]
  },
  {
   "cell_type": "markdown",
   "id": "e7ab12e4",
   "metadata": {},
   "source": [
    "Here, we will define a function to train a given classifier on the training set and then evaluate it on the test set. "
   ]
  },
  {
   "cell_type": "code",
   "execution_count": 30,
   "id": "2cacd2c8",
   "metadata": {
    "execution": {
     "iopub.execute_input": "2022-11-22T20:16:51.901747Z",
     "iopub.status.busy": "2022-11-22T20:16:51.901139Z",
     "iopub.status.idle": "2022-11-22T20:16:51.910014Z",
     "shell.execute_reply": "2022-11-22T20:16:51.909336Z"
    }
   },
   "outputs": [],
   "source": [
    "dict_accuracy = {}\n",
    "def train_evaluate_classifier(clf, xtrain, ytrain, xtest, ytest):\n",
    "    # Train our classifier\n",
    "    clf.fit(xtrain, ytrain)\n",
    "\n",
    "    # Make predictions\n",
    "    preds = clf.predict(xtest)\n",
    "\n",
    "    # View classification report\n",
    "    report = (classification_report(ytest, preds, output_dict=True))\n",
    "#     exec(\"Accuracy\" + str(clf)+ \"= 'report[accuracy]'\")\n",
    "    accuracy = report['accuracy']\n",
    "    print(\"Accuracy :\", accuracy)\n",
    "    dict_accuracy[str(type(clf)).split(\".\")[-1][:-2]] = accuracy\n",
    "\n",
    "    # Plot confusion matrix heatmap\n",
    "    plt.figure(figsize=(16, 12))\n",
    "    cf_matrix = confusion_matrix(ytest, preds)\n",
    "    group_counts = [\"{0:0.0f}\\n\".format(value) for value in cf_matrix.flatten()]\n",
    "    group_percentages = [\n",
    "        \"{0:.2%}\".format(value) for value in cf_matrix.flatten() / np.sum(cf_matrix)\n",
    "    ]\n",
    "    box_labels = [\n",
    "        f\"{v1}{v2}\".strip() for v1, v2 in zip(group_counts, group_percentages)\n",
    "    ]\n",
    "    box_labels = np.asarray(box_labels).reshape(cf_matrix.shape[0], cf_matrix.shape[1])\n",
    "\n",
    "    sns.heatmap(cf_matrix, cmap=\"OrRd\", annot=box_labels, fmt=\"\")\n",
    "    plt.xlabel(\"Predicted TTM Label\")\n",
    "    plt.ylabel(\"True TTM Label\")\n",
    "    plt.title(\"Confusion Matrix Heatmap\")"
   ]
  },
  {
   "cell_type": "markdown",
   "id": "8add6423",
   "metadata": {},
   "source": [
    "## Define Models and Parameters\n",
    "\n",
    "Next, we will define and initialize the classifiers that we will be exploring for the time-to-merge prediction task."
   ]
  },
  {
   "cell_type": "markdown",
   "id": "55c72681",
   "metadata": {},
   "source": [
    "### Gaussian Naive Bayes"
   ]
  },
  {
   "cell_type": "code",
   "execution_count": 31,
   "id": "e6d48ea1",
   "metadata": {
    "execution": {
     "iopub.execute_input": "2022-11-22T20:16:51.913706Z",
     "iopub.status.busy": "2022-11-22T20:16:51.913177Z",
     "iopub.status.idle": "2022-11-22T20:16:51.917917Z",
     "shell.execute_reply": "2022-11-22T20:16:51.917110Z"
    }
   },
   "outputs": [],
   "source": [
    "# Initialize classifier\n",
    "gnb = GaussianNB()"
   ]
  },
  {
   "cell_type": "markdown",
   "id": "804ae1e0",
   "metadata": {},
   "source": [
    "### SVM"
   ]
  },
  {
   "cell_type": "code",
   "execution_count": 32,
   "id": "6c4bfaa2",
   "metadata": {
    "execution": {
     "iopub.execute_input": "2022-11-22T20:16:51.921689Z",
     "iopub.status.busy": "2022-11-22T20:16:51.921255Z",
     "iopub.status.idle": "2022-11-22T20:16:51.925579Z",
     "shell.execute_reply": "2022-11-22T20:16:51.924964Z"
    }
   },
   "outputs": [],
   "source": [
    "# Initialize classifier\n",
    "svc = SVC(random_state=42)"
   ]
  },
  {
   "cell_type": "markdown",
   "id": "ed3b3017",
   "metadata": {},
   "source": [
    "### Random Forest"
   ]
  },
  {
   "cell_type": "code",
   "execution_count": 33,
   "id": "1e623025",
   "metadata": {
    "execution": {
     "iopub.execute_input": "2022-11-22T20:16:51.928904Z",
     "iopub.status.busy": "2022-11-22T20:16:51.928542Z",
     "iopub.status.idle": "2022-11-22T20:16:51.933040Z",
     "shell.execute_reply": "2022-11-22T20:16:51.932406Z"
    }
   },
   "outputs": [],
   "source": [
    "# Initialize classifier\n",
    "rf = RandomForestClassifier(\n",
    "    n_estimators=200,\n",
    "    max_features=0.75,\n",
    "    random_state=42,\n",
    "    n_jobs=-1,\n",
    ")"
   ]
  },
  {
   "cell_type": "markdown",
   "id": "7687a4e0",
   "metadata": {},
   "source": [
    "### XGBoost"
   ]
  },
  {
   "cell_type": "code",
   "execution_count": 34,
   "id": "d8eb71ce",
   "metadata": {
    "execution": {
     "iopub.execute_input": "2022-11-22T20:16:51.936589Z",
     "iopub.status.busy": "2022-11-22T20:16:51.936195Z",
     "iopub.status.idle": "2022-11-22T20:16:51.940996Z",
     "shell.execute_reply": "2022-11-22T20:16:51.940328Z"
    },
    "tags": []
   },
   "outputs": [],
   "source": [
    "# Initialize classifier\n",
    "xgbc = XGBClassifier(\n",
    "    n_estimators=125,\n",
    "    learning_rate=0.1,\n",
    "    random_state=42,\n",
    "    verbosity=1,\n",
    "    n_jobs=-1,\n",
    ")"
   ]
  },
  {
   "cell_type": "markdown",
   "id": "b57aa765",
   "metadata": {},
   "source": [
    "## Compare Model Results\n",
    "\n",
    "Finally, we will run the train all of the classifiers defined above and evaluate their performance. "
   ]
  },
  {
   "cell_type": "markdown",
   "id": "216dd1b2",
   "metadata": {},
   "source": [
    "### Train using all features\n",
    "\n",
    "First, lets train the classifiers using all the engineered features as input."
   ]
  },
  {
   "cell_type": "code",
   "execution_count": 35,
   "id": "e72772aa",
   "metadata": {
    "execution": {
     "iopub.execute_input": "2022-11-22T20:16:51.944692Z",
     "iopub.status.busy": "2022-11-22T20:16:51.944305Z",
     "iopub.status.idle": "2022-11-22T20:16:52.177842Z",
     "shell.execute_reply": "2022-11-22T20:16:52.177129Z"
    }
   },
   "outputs": [
    {
     "name": "stdout",
     "output_type": "stream",
     "text": [
      "Accuracy : 0.0\n"
     ]
    },
    {
     "data": {
      "image/png": "[encoded data removed]",
      "text/plain": [
       "<Figure size 1152x864 with 2 Axes>"
      ]
     },
     "metadata": {
      "needs_background": "light"
     },
     "output_type": "display_data"
    }
   ],
   "source": [
    "try:\n",
    "    train_evaluate_classifier(gnb, X_train_scaled, y_train, X_test_scaled, y_test)\n",
    "except:\n",
    "    print(\"Naive Bayes Model cannot be trained correctly with current dataset\")"
   ]
  },
  {
   "cell_type": "code",
   "execution_count": 36,
   "id": "c3f8cc61",
   "metadata": {
    "execution": {
     "iopub.execute_input": "2022-11-22T20:16:52.181269Z",
     "iopub.status.busy": "2022-11-22T20:16:52.180992Z",
     "iopub.status.idle": "2022-11-22T20:16:52.397914Z",
     "shell.execute_reply": "2022-11-22T20:16:52.395780Z"
    }
   },
   "outputs": [
    {
     "name": "stdout",
     "output_type": "stream",
     "text": [
      "Accuracy : 0.0\n"
     ]
    },
    {
     "data": {
      "image/png": "[encoded data removed]",
      "text/plain": [
       "<Figure size 1152x864 with 2 Axes>"
      ]
     },
     "metadata": {
      "needs_background": "light"
     },
     "output_type": "display_data"
    }
   ],
   "source": [
    "try:    \n",
    "    train_evaluate_classifier(svc, X_train_scaled, y_train, X_test_scaled, y_test)\n",
    "except:\n",
    "    print(\"Support Vector Machine Model cannot be trained correctly with current dataset\")"
   ]
  },
  {
   "cell_type": "code",
   "execution_count": 37,
   "id": "8b961727",
   "metadata": {
    "execution": {
     "iopub.execute_input": "2022-11-22T20:16:52.401520Z",
     "iopub.status.busy": "2022-11-22T20:16:52.401211Z",
     "iopub.status.idle": "2022-11-22T20:16:52.937251Z",
     "shell.execute_reply": "2022-11-22T20:16:52.936440Z"
    }
   },
   "outputs": [
    {
     "name": "stdout",
     "output_type": "stream",
     "text": [
      "Accuracy : 0.0\n"
     ]
    },
    {
     "data": {
      "image/png": "[encoded data removed]",
      "text/plain": [
       "<Figure size 1152x864 with 2 Axes>"
      ]
     },
     "metadata": {
      "needs_background": "light"
     },
     "output_type": "display_data"
    }
   ],
   "source": [
    "try:\n",
    "    train_evaluate_classifier(rf, X_train_scaled, y_train, X_test_scaled, y_test)\n",
    "except:\n",
    "    print(\"RandomForest Model cannot be trained correctly with current dataset\")"
   ]
  },
  {
   "cell_type": "code",
   "execution_count": 38,
   "id": "14249146",
   "metadata": {
    "execution": {
     "iopub.execute_input": "2022-11-22T20:16:52.941064Z",
     "iopub.status.busy": "2022-11-22T20:16:52.940381Z",
     "iopub.status.idle": "2022-11-22T20:16:52.947785Z",
     "shell.execute_reply": "2022-11-22T20:16:52.946923Z"
    }
   },
   "outputs": [
    {
     "name": "stdout",
     "output_type": "stream",
     "text": [
      "XGboost Model cannot be trained correctly with current dataset\n"
     ]
    }
   ],
   "source": [
    "try:\n",
    "    train_evaluate_classifier(xgbc, X_train_scaled, y_train, X_test_scaled, y_test)\n",
    "except:\n",
    "    print(\"XGboost Model cannot be trained correctly with current dataset\")"
   ]
  },
  {
   "cell_type": "code",
   "execution_count": 39,
   "id": "8985b82e-7d89-4b69-b063-db05943458c1",
   "metadata": {
    "execution": {
     "iopub.execute_input": "2022-11-22T20:16:52.952014Z",
     "iopub.status.busy": "2022-11-22T20:16:52.951334Z",
     "iopub.status.idle": "2022-11-22T20:16:52.956962Z",
     "shell.execute_reply": "2022-11-22T20:16:52.956125Z"
    }
   },
   "outputs": [
    {
     "data": {
      "text/plain": [
       "{'GaussianNB': 0.0, 'SVC': 0.0, 'RandomForestClassifier': 0.0}"
      ]
     },
     "execution_count": 39,
     "metadata": {},
     "output_type": "execute_result"
    }
   ],
   "source": [
    "dict_accuracy"
   ]
  },
  {
   "cell_type": "code",
   "execution_count": 40,
   "id": "79eebe0e-4254-4b02-8c33-bee3ddc75e15",
   "metadata": {
    "execution": {
     "iopub.execute_input": "2022-11-22T20:16:52.961258Z",
     "iopub.status.busy": "2022-11-22T20:16:52.960553Z",
     "iopub.status.idle": "2022-11-22T20:16:52.964303Z",
     "shell.execute_reply": "2022-11-22T20:16:52.963646Z"
    }
   },
   "outputs": [],
   "source": [
    "best_accuracy = max(dict_accuracy.values())"
   ]
  },
  {
   "cell_type": "code",
   "execution_count": 41,
   "id": "afaacc68-b887-48cc-9673-04c482f37169",
   "metadata": {
    "execution": {
     "iopub.execute_input": "2022-11-22T20:16:52.967836Z",
     "iopub.status.busy": "2022-11-22T20:16:52.967409Z",
     "iopub.status.idle": "2022-11-22T20:16:52.971032Z",
     "shell.execute_reply": "2022-11-22T20:16:52.970290Z"
    }
   },
   "outputs": [],
   "source": [
    "best_model = max(dict_accuracy, key = dict_accuracy.get)"
   ]
  },
  {
   "cell_type": "code",
   "execution_count": 42,
   "id": "65b42b90-5014-429a-a8f2-7477c7d91335",
   "metadata": {
    "execution": {
     "iopub.execute_input": "2022-11-22T20:16:52.974247Z",
     "iopub.status.busy": "2022-11-22T20:16:52.973839Z",
     "iopub.status.idle": "2022-11-22T20:16:52.978975Z",
     "shell.execute_reply": "2022-11-22T20:16:52.978192Z"
    }
   },
   "outputs": [
    {
     "data": {
      "text/plain": [
       "'GaussianNB'"
      ]
     },
     "execution_count": 42,
     "metadata": {},
     "output_type": "execute_result"
    }
   ],
   "source": [
    "best_model"
   ]
  },
  {
   "cell_type": "markdown",
   "id": "b40309a3",
   "metadata": {},
   "source": [
    "Note that for model deployment (which is the eventual goal), we will also need to include any scaler or preprocessor objects. This is because the input to the inference service will be raw unscaled data. We plan to address this issue by using `sklearn.Pipeline` object to package the preprocessor(s) and model as one \"combined\" model. \n",
    "\n",
    "In the step below, we create a copy of the best performing model that is the Random Forest Classifier, so that we can save it to S3 later on and use it for model deployment.\n",
    "\n",
    "From your explorations, if you wish to save another better performing model to the pipeline set `best_model` as one of rf, xgbc, svc or gnb"
   ]
  },
  {
   "cell_type": "code",
   "execution_count": 43,
   "id": "987a23d4-2e8d-4d4d-8e5c-f3f4230f4b12",
   "metadata": {
    "execution": {
     "iopub.execute_input": "2022-11-22T20:16:52.983068Z",
     "iopub.status.busy": "2022-11-22T20:16:52.982646Z",
     "iopub.status.idle": "2022-11-22T20:16:52.986709Z",
     "shell.execute_reply": "2022-11-22T20:16:52.985948Z"
    }
   },
   "outputs": [],
   "source": [
    "models = {\"RandomForestClassifier\": rf, \"XGBClassifier\": xgbc, \"SVC\": svc, \"GaussianNB\": gnb}"
   ]
  },
  {
   "cell_type": "code",
   "execution_count": 44,
   "id": "647eb700",
   "metadata": {
    "execution": {
     "iopub.execute_input": "2022-11-22T20:16:52.989858Z",
     "iopub.status.busy": "2022-11-22T20:16:52.989454Z",
     "iopub.status.idle": "2022-11-22T20:16:52.993347Z",
     "shell.execute_reply": "2022-11-22T20:16:52.992523Z"
    }
   },
   "outputs": [],
   "source": [
    "# create a clone (create a copy of the object with the learned weights)\n",
    "selected_model = deepcopy(models[best_model])"
   ]
  },
  {
   "cell_type": "code",
   "execution_count": 45,
   "id": "2d739cb2",
   "metadata": {
    "execution": {
     "iopub.execute_input": "2022-11-22T20:16:52.996604Z",
     "iopub.status.busy": "2022-11-22T20:16:52.996187Z",
     "iopub.status.idle": "2022-11-22T20:16:53.004564Z",
     "shell.execute_reply": "2022-11-22T20:16:53.003792Z"
    }
   },
   "outputs": [
    {
     "name": "stdout",
     "output_type": "stream",
     "text": [
      "              precision    recall  f1-score   support\n",
      "\n",
      "           0       0.00      0.00      0.00       0.0\n",
      "           1       0.00      0.00      0.00       1.0\n",
      "           6       0.00      0.00      0.00       1.0\n",
      "           8       0.00      0.00      0.00       0.0\n",
      "\n",
      "    accuracy                           0.00       2.0\n",
      "   macro avg       0.00      0.00      0.00       2.0\n",
      "weighted avg       0.00      0.00      0.00       2.0\n",
      "\n"
     ]
    }
   ],
   "source": [
    "# sanity check\n",
    "print(classification_report(y_test, selected_model.predict(X_test_scaled)))"
   ]
  },
  {
   "cell_type": "markdown",
   "id": "7741b21e",
   "metadata": {},
   "source": [
    "## Create sklearn Pipeline"
   ]
  },
  {
   "cell_type": "markdown",
   "id": "20053832",
   "metadata": {},
   "source": [
    "Here, we will create an sklearn pipeline consisting of 2 steps, scaling of the input features and the classifier itself. We will then save this Pipeline as a `model.joblib` file on S3 for serving the model pipeline using the Seldon Sklearn Server."
   ]
  },
  {
   "cell_type": "code",
   "execution_count": 46,
   "id": "1c581342",
   "metadata": {
    "execution": {
     "iopub.execute_input": "2022-11-22T20:16:53.008397Z",
     "iopub.status.busy": "2022-11-22T20:16:53.007782Z",
     "iopub.status.idle": "2022-11-22T20:16:53.012171Z",
     "shell.execute_reply": "2022-11-22T20:16:53.011326Z"
    }
   },
   "outputs": [],
   "source": [
    "pipe = Pipeline(\n",
    "    steps=[\n",
    "        (\"extract_features\", raw_data_processor),\n",
    "        (\"scale\", scaler),\n",
    "        (\"rf\", selected_model),\n",
    "    ]\n",
    ")"
   ]
  },
  {
   "cell_type": "markdown",
   "id": "74e1bf4b",
   "metadata": {},
   "source": [
    "## Write Model to S3"
   ]
  },
  {
   "cell_type": "code",
   "execution_count": 47,
   "id": "8fb0ba41",
   "metadata": {
    "execution": {
     "iopub.execute_input": "2022-11-22T20:16:53.015668Z",
     "iopub.status.busy": "2022-11-22T20:16:53.015259Z",
     "iopub.status.idle": "2022-11-22T20:16:53.607238Z",
     "shell.execute_reply": "2022-11-22T20:16:53.606250Z"
    },
    "tags": []
   },
   "outputs": [],
   "source": [
    "MODEL_KEY = os.path.join(s3_input_data_path, ORG, REPO, \"ttm-model\")\n",
    "MODEL_FILENAME = \"model.joblib\"\n",
    "\n",
    "s3_resource = boto3.resource(\n",
    "    \"s3\",\n",
    "    endpoint_url=s3_endpoint_url,\n",
    "    aws_access_key_id=s3_access_key,\n",
    "    aws_secret_access_key=s3_secret_key,\n",
    ")\n",
    "\n",
    "with tempfile.TemporaryFile() as fp:\n",
    "    joblib.dump(pipe, fp)\n",
    "    fp.seek(0)\n",
    "    s3_obj = s3_resource.Object(s3_bucket, f\"{MODEL_KEY}/{MODEL_FILENAME}\")\n",
    "    s3_obj.put(Body=fp.read())"
   ]
  },
  {
   "cell_type": "code",
   "execution_count": 48,
   "id": "9392bb4d",
   "metadata": {
    "execution": {
     "iopub.execute_input": "2022-11-22T20:16:53.613562Z",
     "iopub.status.busy": "2022-11-22T20:16:53.612976Z",
     "iopub.status.idle": "2022-11-22T20:16:53.818528Z",
     "shell.execute_reply": "2022-11-22T20:16:53.817568Z"
    }
   },
   "outputs": [
    {
     "data": {
      "text/html": [
       "<style>#sk-container-id-1 {color: black;background-color: white;}#sk-container-id-1 pre{padding: 0;}#sk-container-id-1 div.sk-toggleable {background-color: white;}#sk-container-id-1 label.sk-toggleable__label {cursor: pointer;display: block;width: 100%;margin-bottom: 0;padding: 0.3em;box-sizing: border-box;text-align: center;}#sk-container-id-1 label.sk-toggleable__label-arrow:before {content: \"▸\";float: left;margin-right: 0.25em;color: #696969;}#sk-container-id-1 label.sk-toggleable__label-arrow:hover:before {color: black;}#sk-container-id-1 div.sk-estimator:hover label.sk-toggleable__label-arrow:before {color: black;}#sk-container-id-1 div.sk-toggleable__content {max-height: 0;max-width: 0;overflow: hidden;text-align: left;background-color: #f0f8ff;}#sk-container-id-1 div.sk-toggleable__content pre {margin: 0.2em;color: black;border-radius: 0.25em;background-color: #f0f8ff;}#sk-container-id-1 input.sk-toggleable__control:checked~div.sk-toggleable__content {max-height: 200px;max-width: 100%;overflow: auto;}#sk-container-id-1 input.sk-toggleable__control:checked~label.sk-toggleable__label-arrow:before {content: \"▾\";}#sk-container-id-1 div.sk-estimator input.sk-toggleable__control:checked~label.sk-toggleable__label {background-color: #d4ebff;}#sk-container-id-1 div.sk-label input.sk-toggleable__control:checked~label.sk-toggleable__label {background-color: #d4ebff;}#sk-container-id-1 input.sk-hidden--visually {border: 0;clip: rect(1px 1px 1px 1px);clip: rect(1px, 1px, 1px, 1px);height: 1px;margin: -1px;overflow: hidden;padding: 0;position: absolute;width: 1px;}#sk-container-id-1 div.sk-estimator {font-family: monospace;background-color: #f0f8ff;border: 1px dotted black;border-radius: 0.25em;box-sizing: border-box;margin-bottom: 0.5em;}#sk-container-id-1 div.sk-estimator:hover {background-color: #d4ebff;}#sk-container-id-1 div.sk-parallel-item::after {content: \"\";width: 100%;border-bottom: 1px solid gray;flex-grow: 1;}#sk-container-id-1 div.sk-label:hover label.sk-toggleable__label {background-color: #d4ebff;}#sk-container-id-1 div.sk-serial::before {content: \"\";position: absolute;border-left: 1px solid gray;box-sizing: border-box;top: 0;bottom: 0;left: 50%;z-index: 0;}#sk-container-id-1 div.sk-serial {display: flex;flex-direction: column;align-items: center;background-color: white;padding-right: 0.2em;padding-left: 0.2em;position: relative;}#sk-container-id-1 div.sk-item {position: relative;z-index: 1;}#sk-container-id-1 div.sk-parallel {display: flex;align-items: stretch;justify-content: center;background-color: white;position: relative;}#sk-container-id-1 div.sk-item::before, #sk-container-id-1 div.sk-parallel-item::before {content: \"\";position: absolute;border-left: 1px solid gray;box-sizing: border-box;top: 0;bottom: 0;left: 50%;z-index: -1;}#sk-container-id-1 div.sk-parallel-item {display: flex;flex-direction: column;z-index: 1;position: relative;background-color: white;}#sk-container-id-1 div.sk-parallel-item:first-child::after {align-self: flex-end;width: 50%;}#sk-container-id-1 div.sk-parallel-item:last-child::after {align-self: flex-start;width: 50%;}#sk-container-id-1 div.sk-parallel-item:only-child::after {width: 0;}#sk-container-id-1 div.sk-dashed-wrapped {border: 1px dashed gray;margin: 0 0.4em 0.5em 0.4em;box-sizing: border-box;padding-bottom: 0.4em;background-color: white;}#sk-container-id-1 div.sk-label label {font-family: monospace;font-weight: bold;display: inline-block;line-height: 1.2em;}#sk-container-id-1 div.sk-label-container {text-align: center;}#sk-container-id-1 div.sk-container {/* jupyter's `normalize.less` sets `[hidden] { display: none; }` but bootstrap.min.css set `[hidden] { display: none !important; }` so we also need the `!important` here to be able to override the default hidden behavior on the sphinx rendered scikit-learn.org. See: https://github.com/scikit-learn/scikit-learn/issues/21755 */display: inline-block !important;position: relative;}#sk-container-id-1 div.sk-text-repr-fallback {display: none;}</style><div id=\"sk-container-id-1\" class=\"sk-top-container\"><div class=\"sk-text-repr-fallback\"><pre>Pipeline(steps=[(&#x27;extract_features&#x27;,\n",
       "                 ColumnTransformer(transformers=[(&#x27;pr_size&#x27;,\n",
       "                                                  OrdinalEncoder(categories=[[&#x27;XS&#x27;,\n",
       "                                                                              &#x27;S&#x27;,\n",
       "                                                                              &#x27;M&#x27;,\n",
       "                                                                              &#x27;L&#x27;,\n",
       "                                                                              &#x27;XL&#x27;,\n",
       "                                                                              &#x27;XXL&#x27;]]),\n",
       "                                                  [&#x27;size&#x27;]),\n",
       "                                                 (&#x27;created_at_details&#x27;,\n",
       "                                                  DateTimeDetailsTransformer(),\n",
       "                                                  [&#x27;created_at&#x27;]),\n",
       "                                                 (&#x27;n_changed_files&#x27;,\n",
       "                                                  NumChangedFilesTransformer(),\n",
       "                                                  [&#x27;changed_files_number&#x27;]),\n",
       "                                                 (&#x27;body_size&#x27;,\n",
       "                                                  StringLenTransformer(),\n",
       "                                                  [&#x27;body&#x27;]),\n",
       "                                                 (&#x27;n_commits&#x27;, &#x27;passthrough&#x27;,\n",
       "                                                  [&#x27;commits_number&#x27;]),\n",
       "                                                 (&#x27;filetype_counter&#x27;,\n",
       "                                                  FileTypeCountTransformer(file_extensions=[&#x27;.yaml&#x27;,\n",
       "                                                                                            &#x27;.ipynb&#x27;,\n",
       "                                                                                            &#x27;.txt&#x27;,\n",
       "                                                                                            &#x27;.yml&#x27;,\n",
       "                                                                                            &#x27;Dockerfile&#x27;]),\n",
       "                                                  [&#x27;changed_files&#x27;]),\n",
       "                                                 (&#x27;title_word_counter&#x27;,\n",
       "                                                  TitleWordCountTransformer(words=[&#x27;comment&#x27;,\n",
       "                                                                                   &#x27;inference&#x27;,\n",
       "                                                                                   &#x27;marketplace&#x27;,\n",
       "                                                                                   &#x27;one&#x27;,\n",
       "                                                                                   &#x27;pr&#x27;,\n",
       "                                                                                   &#x27;test&#x27;,\n",
       "                                                                                   &#x27;two&#x27;,\n",
       "                                                                                   &#x27;workflow&#x27;]),\n",
       "                                                  [&#x27;title&#x27;])])),\n",
       "                (&#x27;scale&#x27;, PowerTransformer()), (&#x27;rf&#x27;, GaussianNB())])</pre><b>In a Jupyter environment, please rerun this cell to show the HTML representation or trust the notebook. <br />On GitHub, the HTML representation is unable to render, please try loading this page with nbviewer.org.</b></div><div class=\"sk-container\" hidden><div class=\"sk-item sk-dashed-wrapped\"><div class=\"sk-label-container\"><div class=\"sk-label sk-toggleable\"><input class=\"sk-toggleable__control sk-hidden--visually\" id=\"sk-estimator-id-1\" type=\"checkbox\" ><label for=\"sk-estimator-id-1\" class=\"sk-toggleable__label sk-toggleable__label-arrow\">Pipeline</label><div class=\"sk-toggleable__content\"><pre>Pipeline(steps=[(&#x27;extract_features&#x27;,\n",
       "                 ColumnTransformer(transformers=[(&#x27;pr_size&#x27;,\n",
       "                                                  OrdinalEncoder(categories=[[&#x27;XS&#x27;,\n",
       "                                                                              &#x27;S&#x27;,\n",
       "                                                                              &#x27;M&#x27;,\n",
       "                                                                              &#x27;L&#x27;,\n",
       "                                                                              &#x27;XL&#x27;,\n",
       "                                                                              &#x27;XXL&#x27;]]),\n",
       "                                                  [&#x27;size&#x27;]),\n",
       "                                                 (&#x27;created_at_details&#x27;,\n",
       "                                                  DateTimeDetailsTransformer(),\n",
       "                                                  [&#x27;created_at&#x27;]),\n",
       "                                                 (&#x27;n_changed_files&#x27;,\n",
       "                                                  NumChangedFilesTransformer(),\n",
       "                                                  [&#x27;changed_files_number&#x27;]),\n",
       "                                                 (&#x27;body_size&#x27;,\n",
       "                                                  StringLenTransformer(),\n",
       "                                                  [&#x27;body&#x27;]),\n",
       "                                                 (&#x27;n_commits&#x27;, &#x27;passthrough&#x27;,\n",
       "                                                  [&#x27;commits_number&#x27;]),\n",
       "                                                 (&#x27;filetype_counter&#x27;,\n",
       "                                                  FileTypeCountTransformer(file_extensions=[&#x27;.yaml&#x27;,\n",
       "                                                                                            &#x27;.ipynb&#x27;,\n",
       "                                                                                            &#x27;.txt&#x27;,\n",
       "                                                                                            &#x27;.yml&#x27;,\n",
       "                                                                                            &#x27;Dockerfile&#x27;]),\n",
       "                                                  [&#x27;changed_files&#x27;]),\n",
       "                                                 (&#x27;title_word_counter&#x27;,\n",
       "                                                  TitleWordCountTransformer(words=[&#x27;comment&#x27;,\n",
       "                                                                                   &#x27;inference&#x27;,\n",
       "                                                                                   &#x27;marketplace&#x27;,\n",
       "                                                                                   &#x27;one&#x27;,\n",
       "                                                                                   &#x27;pr&#x27;,\n",
       "                                                                                   &#x27;test&#x27;,\n",
       "                                                                                   &#x27;two&#x27;,\n",
       "                                                                                   &#x27;workflow&#x27;]),\n",
       "                                                  [&#x27;title&#x27;])])),\n",
       "                (&#x27;scale&#x27;, PowerTransformer()), (&#x27;rf&#x27;, GaussianNB())])</pre></div></div></div><div class=\"sk-serial\"><div class=\"sk-item sk-dashed-wrapped\"><div class=\"sk-label-container\"><div class=\"sk-label sk-toggleable\"><input class=\"sk-toggleable__control sk-hidden--visually\" id=\"sk-estimator-id-2\" type=\"checkbox\" ><label for=\"sk-estimator-id-2\" class=\"sk-toggleable__label sk-toggleable__label-arrow\">extract_features: ColumnTransformer</label><div class=\"sk-toggleable__content\"><pre>ColumnTransformer(transformers=[(&#x27;pr_size&#x27;,\n",
       "                                 OrdinalEncoder(categories=[[&#x27;XS&#x27;, &#x27;S&#x27;, &#x27;M&#x27;,\n",
       "                                                             &#x27;L&#x27;, &#x27;XL&#x27;,\n",
       "                                                             &#x27;XXL&#x27;]]),\n",
       "                                 [&#x27;size&#x27;]),\n",
       "                                (&#x27;created_at_details&#x27;,\n",
       "                                 DateTimeDetailsTransformer(), [&#x27;created_at&#x27;]),\n",
       "                                (&#x27;n_changed_files&#x27;,\n",
       "                                 NumChangedFilesTransformer(),\n",
       "                                 [&#x27;changed_files_number&#x27;]),\n",
       "                                (&#x27;body_size&#x27;, StringLenTransformer(), [&#x27;body&#x27;]),\n",
       "                                (&#x27;n_commits&#x27;, &#x27;passthrough&#x27;,\n",
       "                                 [&#x27;commits_number&#x27;]),\n",
       "                                (&#x27;filetype_counter&#x27;,\n",
       "                                 FileTypeCountTransformer(file_extensions=[&#x27;.yaml&#x27;,\n",
       "                                                                           &#x27;.ipynb&#x27;,\n",
       "                                                                           &#x27;.txt&#x27;,\n",
       "                                                                           &#x27;.yml&#x27;,\n",
       "                                                                           &#x27;Dockerfile&#x27;]),\n",
       "                                 [&#x27;changed_files&#x27;]),\n",
       "                                (&#x27;title_word_counter&#x27;,\n",
       "                                 TitleWordCountTransformer(words=[&#x27;comment&#x27;,\n",
       "                                                                  &#x27;inference&#x27;,\n",
       "                                                                  &#x27;marketplace&#x27;,\n",
       "                                                                  &#x27;one&#x27;, &#x27;pr&#x27;,\n",
       "                                                                  &#x27;test&#x27;, &#x27;two&#x27;,\n",
       "                                                                  &#x27;workflow&#x27;]),\n",
       "                                 [&#x27;title&#x27;])])</pre></div></div></div><div class=\"sk-parallel\"><div class=\"sk-parallel-item\"><div class=\"sk-item\"><div class=\"sk-label-container\"><div class=\"sk-label sk-toggleable\"><input class=\"sk-toggleable__control sk-hidden--visually\" id=\"sk-estimator-id-3\" type=\"checkbox\" ><label for=\"sk-estimator-id-3\" class=\"sk-toggleable__label sk-toggleable__label-arrow\">pr_size</label><div class=\"sk-toggleable__content\"><pre>[&#x27;size&#x27;]</pre></div></div></div><div class=\"sk-serial\"><div class=\"sk-item\"><div class=\"sk-estimator sk-toggleable\"><input class=\"sk-toggleable__control sk-hidden--visually\" id=\"sk-estimator-id-4\" type=\"checkbox\" ><label for=\"sk-estimator-id-4\" class=\"sk-toggleable__label sk-toggleable__label-arrow\">OrdinalEncoder</label><div class=\"sk-toggleable__content\"><pre>OrdinalEncoder(categories=[[&#x27;XS&#x27;, &#x27;S&#x27;, &#x27;M&#x27;, &#x27;L&#x27;, &#x27;XL&#x27;, &#x27;XXL&#x27;]])</pre></div></div></div></div></div></div><div class=\"sk-parallel-item\"><div class=\"sk-item\"><div class=\"sk-label-container\"><div class=\"sk-label sk-toggleable\"><input class=\"sk-toggleable__control sk-hidden--visually\" id=\"sk-estimator-id-5\" type=\"checkbox\" ><label for=\"sk-estimator-id-5\" class=\"sk-toggleable__label sk-toggleable__label-arrow\">created_at_details</label><div class=\"sk-toggleable__content\"><pre>[&#x27;created_at&#x27;]</pre></div></div></div><div class=\"sk-serial\"><div class=\"sk-item\"><div class=\"sk-estimator sk-toggleable\"><input class=\"sk-toggleable__control sk-hidden--visually\" id=\"sk-estimator-id-6\" type=\"checkbox\" ><label for=\"sk-estimator-id-6\" class=\"sk-toggleable__label sk-toggleable__label-arrow\">DateTimeDetailsTransformer</label><div class=\"sk-toggleable__content\"><pre>DateTimeDetailsTransformer()</pre></div></div></div></div></div></div><div class=\"sk-parallel-item\"><div class=\"sk-item\"><div class=\"sk-label-container\"><div class=\"sk-label sk-toggleable\"><input class=\"sk-toggleable__control sk-hidden--visually\" id=\"sk-estimator-id-7\" type=\"checkbox\" ><label for=\"sk-estimator-id-7\" class=\"sk-toggleable__label sk-toggleable__label-arrow\">n_changed_files</label><div class=\"sk-toggleable__content\"><pre>[&#x27;changed_files_number&#x27;]</pre></div></div></div><div class=\"sk-serial\"><div class=\"sk-item\"><div class=\"sk-estimator sk-toggleable\"><input class=\"sk-toggleable__control sk-hidden--visually\" id=\"sk-estimator-id-8\" type=\"checkbox\" ><label for=\"sk-estimator-id-8\" class=\"sk-toggleable__label sk-toggleable__label-arrow\">NumChangedFilesTransformer</label><div class=\"sk-toggleable__content\"><pre>NumChangedFilesTransformer()</pre></div></div></div></div></div></div><div class=\"sk-parallel-item\"><div class=\"sk-item\"><div class=\"sk-label-container\"><div class=\"sk-label sk-toggleable\"><input class=\"sk-toggleable__control sk-hidden--visually\" id=\"sk-estimator-id-9\" type=\"checkbox\" ><label for=\"sk-estimator-id-9\" class=\"sk-toggleable__label sk-toggleable__label-arrow\">body_size</label><div class=\"sk-toggleable__content\"><pre>[&#x27;body&#x27;]</pre></div></div></div><div class=\"sk-serial\"><div class=\"sk-item\"><div class=\"sk-estimator sk-toggleable\"><input class=\"sk-toggleable__control sk-hidden--visually\" id=\"sk-estimator-id-10\" type=\"checkbox\" ><label for=\"sk-estimator-id-10\" class=\"sk-toggleable__label sk-toggleable__label-arrow\">StringLenTransformer</label><div class=\"sk-toggleable__content\"><pre>StringLenTransformer()</pre></div></div></div></div></div></div><div class=\"sk-parallel-item\"><div class=\"sk-item\"><div class=\"sk-label-container\"><div class=\"sk-label sk-toggleable\"><input class=\"sk-toggleable__control sk-hidden--visually\" id=\"sk-estimator-id-11\" type=\"checkbox\" ><label for=\"sk-estimator-id-11\" class=\"sk-toggleable__label sk-toggleable__label-arrow\">n_commits</label><div class=\"sk-toggleable__content\"><pre>[&#x27;commits_number&#x27;]</pre></div></div></div><div class=\"sk-serial\"><div class=\"sk-item\"><div class=\"sk-estimator sk-toggleable\"><input class=\"sk-toggleable__control sk-hidden--visually\" id=\"sk-estimator-id-12\" type=\"checkbox\" ><label for=\"sk-estimator-id-12\" class=\"sk-toggleable__label sk-toggleable__label-arrow\">passthrough</label><div class=\"sk-toggleable__content\"><pre>passthrough</pre></div></div></div></div></div></div><div class=\"sk-parallel-item\"><div class=\"sk-item\"><div class=\"sk-label-container\"><div class=\"sk-label sk-toggleable\"><input class=\"sk-toggleable__control sk-hidden--visually\" id=\"sk-estimator-id-13\" type=\"checkbox\" ><label for=\"sk-estimator-id-13\" class=\"sk-toggleable__label sk-toggleable__label-arrow\">filetype_counter</label><div class=\"sk-toggleable__content\"><pre>[&#x27;changed_files&#x27;]</pre></div></div></div><div class=\"sk-serial\"><div class=\"sk-item\"><div class=\"sk-estimator sk-toggleable\"><input class=\"sk-toggleable__control sk-hidden--visually\" id=\"sk-estimator-id-14\" type=\"checkbox\" ><label for=\"sk-estimator-id-14\" class=\"sk-toggleable__label sk-toggleable__label-arrow\">FileTypeCountTransformer</label><div class=\"sk-toggleable__content\"><pre>FileTypeCountTransformer(file_extensions=[&#x27;.yaml&#x27;, &#x27;.ipynb&#x27;, &#x27;.txt&#x27;, &#x27;.yml&#x27;,\n",
       "                                          &#x27;Dockerfile&#x27;])</pre></div></div></div></div></div></div><div class=\"sk-parallel-item\"><div class=\"sk-item\"><div class=\"sk-label-container\"><div class=\"sk-label sk-toggleable\"><input class=\"sk-toggleable__control sk-hidden--visually\" id=\"sk-estimator-id-15\" type=\"checkbox\" ><label for=\"sk-estimator-id-15\" class=\"sk-toggleable__label sk-toggleable__label-arrow\">title_word_counter</label><div class=\"sk-toggleable__content\"><pre>[&#x27;title&#x27;]</pre></div></div></div><div class=\"sk-serial\"><div class=\"sk-item\"><div class=\"sk-estimator sk-toggleable\"><input class=\"sk-toggleable__control sk-hidden--visually\" id=\"sk-estimator-id-16\" type=\"checkbox\" ><label for=\"sk-estimator-id-16\" class=\"sk-toggleable__label sk-toggleable__label-arrow\">TitleWordCountTransformer</label><div class=\"sk-toggleable__content\"><pre>TitleWordCountTransformer(words=[&#x27;comment&#x27;, &#x27;inference&#x27;, &#x27;marketplace&#x27;, &#x27;one&#x27;,\n",
       "                                 &#x27;pr&#x27;, &#x27;test&#x27;, &#x27;two&#x27;, &#x27;workflow&#x27;])</pre></div></div></div></div></div></div></div></div><div class=\"sk-item\"><div class=\"sk-estimator sk-toggleable\"><input class=\"sk-toggleable__control sk-hidden--visually\" id=\"sk-estimator-id-17\" type=\"checkbox\" ><label for=\"sk-estimator-id-17\" class=\"sk-toggleable__label sk-toggleable__label-arrow\">PowerTransformer</label><div class=\"sk-toggleable__content\"><pre>PowerTransformer()</pre></div></div></div><div class=\"sk-item\"><div class=\"sk-estimator sk-toggleable\"><input class=\"sk-toggleable__control sk-hidden--visually\" id=\"sk-estimator-id-18\" type=\"checkbox\" ><label for=\"sk-estimator-id-18\" class=\"sk-toggleable__label sk-toggleable__label-arrow\">GaussianNB</label><div class=\"sk-toggleable__content\"><pre>GaussianNB()</pre></div></div></div></div></div></div></div>"
      ],
      "text/plain": [
       "Pipeline(steps=[('extract_features',\n",
       "                 ColumnTransformer(transformers=[('pr_size',\n",
       "                                                  OrdinalEncoder(categories=[['XS',\n",
       "                                                                              'S',\n",
       "                                                                              'M',\n",
       "                                                                              'L',\n",
       "                                                                              'XL',\n",
       "                                                                              'XXL']]),\n",
       "                                                  ['size']),\n",
       "                                                 ('created_at_details',\n",
       "                                                  DateTimeDetailsTransformer(),\n",
       "                                                  ['created_at']),\n",
       "                                                 ('n_changed_files',\n",
       "                                                  NumChangedFilesTransformer(),\n",
       "                                                  ['changed_files_number']),\n",
       "                                                 ('body_size',\n",
       "                                                  StringLenTransformer(),\n",
       "                                                  ['body']),\n",
       "                                                 ('n_commits', 'passthrough',\n",
       "                                                  ['commits_number']),\n",
       "                                                 ('filetype_counter',\n",
       "                                                  FileTypeCountTransformer(file_extensions=['.yaml',\n",
       "                                                                                            '.ipynb',\n",
       "                                                                                            '.txt',\n",
       "                                                                                            '.yml',\n",
       "                                                                                            'Dockerfile']),\n",
       "                                                  ['changed_files']),\n",
       "                                                 ('title_word_counter',\n",
       "                                                  TitleWordCountTransformer(words=['comment',\n",
       "                                                                                   'inference',\n",
       "                                                                                   'marketplace',\n",
       "                                                                                   'one',\n",
       "                                                                                   'pr',\n",
       "                                                                                   'test',\n",
       "                                                                                   'two',\n",
       "                                                                                   'workflow']),\n",
       "                                                  ['title'])])),\n",
       "                ('scale', PowerTransformer()), ('rf', GaussianNB())])"
      ]
     },
     "execution_count": 48,
     "metadata": {},
     "output_type": "execute_result"
    }
   ],
   "source": [
    "## Sanity Check\n",
    "buffer = BytesIO()\n",
    "s3_object = s3_resource.Object(s3_bucket, f\"{MODEL_KEY}/{MODEL_FILENAME}\")\n",
    "s3_object.download_fileobj(buffer)\n",
    "model = joblib.load(buffer)\n",
    "model"
   ]
  },
  {
   "cell_type": "code",
   "execution_count": 49,
   "id": "36484009",
   "metadata": {
    "execution": {
     "iopub.execute_input": "2022-11-22T20:16:53.822511Z",
     "iopub.status.busy": "2022-11-22T20:16:53.821673Z",
     "iopub.status.idle": "2022-11-22T20:16:53.851507Z",
     "shell.execute_reply": "2022-11-22T20:16:53.850005Z"
    }
   },
   "outputs": [
    {
     "name": "stdout",
     "output_type": "stream",
     "text": [
      "              precision    recall  f1-score   support\n",
      "\n",
      "           0       0.00      0.00      0.00       0.0\n",
      "           1       0.00      0.00      0.00       1.0\n",
      "           6       0.00      0.00      0.00       1.0\n",
      "           8       0.00      0.00      0.00       0.0\n",
      "\n",
      "    accuracy                           0.00       2.0\n",
      "   macro avg       0.00      0.00      0.00       2.0\n",
      "weighted avg       0.00      0.00      0.00       2.0\n",
      "\n"
     ]
    }
   ],
   "source": [
    "# take raw pr data and predict ttm classes\n",
    "preds = model.predict(pr_df.reindex(X_test.index))\n",
    "print(classification_report(y_test, preds))"
   ]
  },
  {
   "cell_type": "code",
   "execution_count": 50,
   "id": "42cf7c8e-07d8-44df-b4a0-ddcc8982ea37",
   "metadata": {
    "execution": {
     "iopub.execute_input": "2022-11-22T20:16:53.855131Z",
     "iopub.status.busy": "2022-11-22T20:16:53.854583Z",
     "iopub.status.idle": "2022-11-22T20:17:27.644583Z",
     "shell.execute_reply": "2022-11-22T20:17:27.643491Z"
    }
   },
   "outputs": [
    {
     "data": {
      "text/plain": [
       "[s3.ObjectSummary(bucket_name='opf-datacatalog', key='mclifforTest2/MichaelClifford/ttmtool/PRs/0.json'),\n",
       " s3.ObjectSummary(bucket_name='opf-datacatalog', key='mclifforTest2/MichaelClifford/ttmtool/PRs/1.json'),\n",
       " s3.ObjectSummary(bucket_name='opf-datacatalog', key='mclifforTest2/MichaelClifford/ttmtool/PRs/10.json'),\n",
       " s3.ObjectSummary(bucket_name='opf-datacatalog', key='mclifforTest2/MichaelClifford/ttmtool/PRs/2.json'),\n",
       " s3.ObjectSummary(bucket_name='opf-datacatalog', key='mclifforTest2/MichaelClifford/ttmtool/PRs/3.json'),\n",
       " s3.ObjectSummary(bucket_name='opf-datacatalog', key='mclifforTest2/MichaelClifford/ttmtool/PRs/4.json'),\n",
       " s3.ObjectSummary(bucket_name='opf-datacatalog', key='mclifforTest2/MichaelClifford/ttmtool/PRs/5.json'),\n",
       " s3.ObjectSummary(bucket_name='opf-datacatalog', key='mclifforTest2/MichaelClifford/ttmtool/PRs/6.json'),\n",
       " s3.ObjectSummary(bucket_name='opf-datacatalog', key='mclifforTest2/MichaelClifford/ttmtool/PRs/7.json'),\n",
       " s3.ObjectSummary(bucket_name='opf-datacatalog', key='mclifforTest2/MichaelClifford/ttmtool/PRs/8.json'),\n",
       " s3.ObjectSummary(bucket_name='opf-datacatalog', key='mclifforTest2/MichaelClifford/ttmtool/PRs/9.json'),\n",
       " s3.ObjectSummary(bucket_name='opf-datacatalog', key='mclifforTest2/MichaelClifford/ttmtool/PullRequest.json'),\n",
       " s3.ObjectSummary(bucket_name='opf-datacatalog', key='mclifforTest2/MichaelClifford/ttmtool/closed_prs/MichaelCliffordttmtoolCLOSED_PR_IDS.parquet'),\n",
       " s3.ObjectSummary(bucket_name='opf-datacatalog', key='mclifforTest2/MichaelClifford/ttmtool/features/MichaelCliffordttmtoolFILETYPE.parquet'),\n",
       " s3.ObjectSummary(bucket_name='opf-datacatalog', key='mclifforTest2/MichaelClifford/ttmtool/features/MichaelCliffordttmtooltitlewords.parquet'),\n",
       " s3.ObjectSummary(bucket_name='opf-datacatalog', key='mclifforTest2/MichaelClifford/ttmtool/test-data/X_test.parquet'),\n",
       " s3.ObjectSummary(bucket_name='opf-datacatalog', key='mclifforTest2/MichaelClifford/ttmtool/test-data/y_test.parquet'),\n",
       " s3.ObjectSummary(bucket_name='opf-datacatalog', key='mclifforTest2/MichaelClifford/ttmtool/ttm-model/model.joblib'),\n",
       " s3.ObjectSummary(bucket_name='opf-datacatalog', key='mclifforTest2/MichaelClifford/ttmtool/ttm_feature_engineered_dataset.parquet'),\n",
       " s3.ObjectSummary(bucket_name='opf-datacatalog', key='mclifforTest2/operate-first/community/features/operate-firstcommunityFILETYPE.parquet'),\n",
       " s3.ObjectSummary(bucket_name='opf-datacatalog', key='mclifforTest2/operate-first/community/features/operate-firstcommunitytitlewords.parquet'),\n",
       " s3.ObjectSummary(bucket_name='opf-datacatalog', key='mclifforTest2/operate-first/community/test-data/X_test.parquet'),\n",
       " s3.ObjectSummary(bucket_name='opf-datacatalog', key='mclifforTest2/operate-first/community/test-data/y_test.parquet'),\n",
       " s3.ObjectSummary(bucket_name='opf-datacatalog', key='mclifforTest2/operate-first/community/ttm-model/model.joblib'),\n",
       " s3.ObjectSummary(bucket_name='opf-datacatalog', key='mclifforTest2/operate-first/community/ttm_feature_engineered_dataset.parquet'),\n",
       " s3.ObjectSummary(bucket_name='opf-datacatalog', key='mclifforTest2/srcopsmetrics/bot_knowledge/MichaelClifford/ttmtool/PullRequest.json'),\n",
       " s3.ObjectSummary(bucket_name='opf-datacatalog', key='mclifforTest2/srcopsmetrics/bot_knowledge/operate-first/community/PullRequest.json')]"
      ]
     },
     "execution_count": 50,
     "metadata": {},
     "output_type": "execute_result"
    }
   ],
   "source": [
    "# check all raw data files in s3\n",
    "bucket = cc.s3_resource.Bucket(s3_bucket)\n",
    "objects = [i for i in bucket.objects.all() if s3_input_data_path + \"/\" in i.key]\n",
    "sorted(objects, key=lambda x: x.key)"
   ]
  },
  {
   "cell_type": "markdown",
   "id": "933cd0ed-99c2-4453-a94b-02eace47bd20",
   "metadata": {},
   "source": [
    "## Next Step\n",
    "\n",
    "We can run these notebooks in automation using Elyra and Kubeflow pipelines. As the immediate next step, we will to deploy the best model from this notebook as an inference service using Seldon."
   ]
  }
 ],
 "metadata": {
  "kernelspec": {
   "display_name": "Python 3.8.13 ('ttm')",
   "language": "python",
   "name": "python3"
  },
  "language_info": {
   "codemirror_mode": {
    "name": "ipython",
    "version": 3
   },
   "file_extension": ".py",
   "mimetype": "text/x-python",
   "name": "python",
   "nbconvert_exporter": "python",
   "pygments_lexer": "ipython3",
   "version": "3.8.8"
  },
  "vscode": {
   "interpreter": {
    "hash": "ab901ec51d52488d7caff0a4814b759f256fac88c357af96287c51fb2e87e7a6"
   }
  }
 },
 "nbformat": 4,
 "nbformat_minor": 5
}
