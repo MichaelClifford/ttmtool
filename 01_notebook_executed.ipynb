{
 "cells": [
  {
   "cell_type": "markdown",
   "id": "57bd5960-f9aa-478e-a53b-340def09056f",
   "metadata": {},
   "source": [
    "# Pull Requests Data Collection\n",
    "\n",
    "In this notebook, we will collect the raw Pull Request data from a github repo of choice, and save it as a json file on an s3 bucket. To do this, we will use the `srcopsmetrics` tool developed by the Thoth team."
   ]
  },
  {
   "cell_type": "code",
   "execution_count": 1,
   "id": "60e22449-72ec-41dc-85a8-70a90a1f577e",
   "metadata": {
    "execution": {
     "iopub.execute_input": "2022-11-04T14:54:22.947748Z",
     "iopub.status.busy": "2022-11-04T14:54:22.947069Z",
     "iopub.status.idle": "2022-11-04T14:54:22.970903Z",
     "shell.execute_reply": "2022-11-04T14:54:22.970257Z"
    }
   },
   "outputs": [
    {
     "data": {
      "text/plain": [
       "True"
      ]
     },
     "execution_count": 1,
     "metadata": {},
     "output_type": "execute_result"
    }
   ],
   "source": [
    "import os\n",
    "\n",
    "from dotenv import find_dotenv, load_dotenv\n",
    "\n",
    "load_dotenv(find_dotenv(), override=True)"
   ]
  },
  {
   "cell_type": "markdown",
   "id": "504217dc-8f0c-47b1-9d10-84937db0c8a3",
   "metadata": {},
   "source": [
    "## Set Environment variables\n",
    "\n",
    "Before you start, make sure to create a .env file at the root of the repository with the required credentials and paths. Refer to workshop section **\"Set your Environment Variables\"** for details on how to set it and this example [file](env_example_workshop) for the structure."
   ]
  },
  {
   "cell_type": "code",
   "execution_count": 2,
   "id": "5f9cfe48-5a28-4338-bd5e-9a1e2844cd6f",
   "metadata": {
    "execution": {
     "iopub.execute_input": "2022-11-04T14:54:22.975556Z",
     "iopub.status.busy": "2022-11-04T14:54:22.974956Z",
     "iopub.status.idle": "2022-11-04T14:54:22.982407Z",
     "shell.execute_reply": "2022-11-04T14:54:22.981658Z"
    }
   },
   "outputs": [
    {
     "name": "stdout",
     "output_type": "stream",
     "text": [
      "operate-first/community\n",
      "Downloaded file is being stored at mclifforTest/srcopsmetrics/bot_knowledge/operate-first/community/PullRequest.json\n"
     ]
    }
   ],
   "source": [
    "# get the org/repo from env vars\n",
    "ORG = os.getenv(\"GITHUB_ORG\")\n",
    "REPO = os.getenv(\"GITHUB_REPO\")\n",
    "CEPH_BUCKET_PREFIX = os.getenv(\"CEPH_BUCKET_PREFIX\")\n",
    "\n",
    "print(f\"{ORG}/{REPO}\")\n",
    "print(\n",
    "    f\"Downloaded file is being stored at {CEPH_BUCKET_PREFIX}/srcopsmetrics/bot_knowledge/{ORG}/{REPO}/PullRequest.json\"\n",
    ")"
   ]
  },
  {
   "cell_type": "code",
   "execution_count": 3,
   "id": "c8794a79-61a1-48b3-9a26-af31086fe622",
   "metadata": {
    "execution": {
     "iopub.execute_input": "2022-11-04T14:54:22.986993Z",
     "iopub.status.busy": "2022-11-04T14:54:22.985948Z",
     "iopub.status.idle": "2022-11-04T14:54:46.533435Z",
     "shell.execute_reply": "2022-11-04T14:54:46.532040Z"
    }
   },
   "outputs": [
    {
     "name": "stdout",
     "output_type": "stream",
     "text": [
      "INFO:srcopsmetrics.github_knowledge:Overall repositories found: 1\r\n",
      "INFO:srcopsmetrics.bot_knowledge:######################## Analysing operate-first/community ########################\r\n",
      "\r\n",
      "INFO:srcopsmetrics.utils:No repo identified, creating new directory at /__w/ttmtool/ttmtool/srcopsmetrics/bot_knowledge/operate-first/community\r\n",
      "INFO:srcopsmetrics.bot_knowledge:########################\r\n",
      "INFO:srcopsmetrics.bot_knowledge:Detected entities:\r\n",
      "CodeFrequency # Commit # DependencyUpdate # Fork # Issue # IssueEvent # KebechetUpdateManager # License # PullRequest # PullRequestDiscussion # RawIssue # RawPullRequest # ReadMe # Release # Stargazer # ThothAdviseMetrics # ThothMetrics # ThothMetrics # ThothMetrics # ThothVersionManagerMetrics # TrafficClones # TrafficPaths # TrafficPaths # TrafficReferrers # TrafficClones # TrafficViews\r\n",
      "INFO:srcopsmetrics.bot_knowledge:########################\r\n",
      "INFO:srcopsmetrics.bot_knowledge:PullRequest inspection\r\n",
      "INFO:srcopsmetrics.entities.tools.storage:Loading knowledge from Ceph\r\n",
      "INFO:srcopsmetrics.entities.interface:Found previous PullRequest knowledge for operate-first/community with 95 records\r\n",
      "INFO:srcopsmetrics.iterator:-------------PullRequest Analysis-------------\r\n",
      "INFO:srcopsmetrics.entities.pull_request:Extracting PR #230\r\n",
      "INFO:srcopsmetrics.entities.pull_request:Extracting PR #229\r\n",
      "INFO:srcopsmetrics.entities.pull_request:Extracting PR #228\r\n",
      "INFO:srcopsmetrics.entities.pull_request:Extracting PR #225\r\n",
      "INFO:srcopsmetrics.entities.pull_request:Extracting PR #224\r\n",
      "INFO:srcopsmetrics.entities.pull_request:Extracting PR #223\r\n",
      "INFO:srcopsmetrics.entities.pull_request:Extracting PR #222\r\n",
      "INFO:srcopsmetrics.entities.pull_request:Extracting PR #221\r\n",
      "INFO:srcopsmetrics.entities.pull_request:Extracting PR #220\r\n",
      "INFO:srcopsmetrics.entities.pull_request:Extracting PR #219\r\n",
      "INFO:srcopsmetrics.entities.pull_request:Extracting PR #218\r\n",
      "INFO:srcopsmetrics.entities.pull_request:Extracting PR #217\r\n",
      "INFO:srcopsmetrics.entities.pull_request:Extracting PR #216\r\n",
      "INFO:srcopsmetrics.entities.pull_request:Extracting PR #214\r\n",
      "INFO:srcopsmetrics.entities.pull_request:Extracting PR #213\r\n",
      "INFO:srcopsmetrics.entities.pull_request:Extracting PR #212\r\n",
      "INFO:srcopsmetrics.entities.pull_request:Extracting PR #211\r\n",
      "INFO:srcopsmetrics.entities.pull_request:Extracting PR #210\r\n",
      "INFO:srcopsmetrics.entities.pull_request:Extracting PR #209\r\n",
      "INFO:srcopsmetrics.entities.pull_request:Extracting PR #208\r\n",
      "INFO:srcopsmetrics.entities.pull_request:Extracting PR #207\r\n",
      "INFO:srcopsmetrics.entities.pull_request:Extracting PR #204\r\n",
      "INFO:srcopsmetrics.entities.pull_request:Extracting PR #203\r\n",
      "INFO:srcopsmetrics.entities.pull_request:Extracting PR #198\r\n",
      "INFO:srcopsmetrics.entities.pull_request:Extracting PR #194\r\n",
      "INFO:srcopsmetrics.entities.pull_request:Extracting PR #193\r\n",
      "INFO:srcopsmetrics.entities.pull_request:Extracting PR #185\r\n",
      "INFO:srcopsmetrics.entities.pull_request:Extracting PR #184\r\n",
      "INFO:srcopsmetrics.entities.pull_request:Extracting PR #183\r\n",
      "INFO:srcopsmetrics.entities.pull_request:Extracting PR #182\r\n",
      "INFO:srcopsmetrics.entities.pull_request:Extracting PR #179\r\n",
      "INFO:srcopsmetrics.entities.pull_request:Extracting PR #178\r\n",
      "INFO:srcopsmetrics.entities.pull_request:Extracting PR #177\r\n",
      "INFO:srcopsmetrics.entities.pull_request:Extracting PR #176\r\n",
      "INFO:srcopsmetrics.entities.pull_request:Extracting PR #171\r\n",
      "INFO:srcopsmetrics.entities.pull_request:Extracting PR #170\r\n",
      "INFO:srcopsmetrics.entities.pull_request:Extracting PR #169\r\n",
      "INFO:srcopsmetrics.entities.pull_request:Extracting PR #168\r\n",
      "INFO:srcopsmetrics.entities.pull_request:Extracting PR #167\r\n",
      "INFO:srcopsmetrics.entities.pull_request:Extracting PR #166\r\n",
      "INFO:srcopsmetrics.entities.pull_request:Extracting PR #164\r\n",
      "INFO:srcopsmetrics.entities.pull_request:Extracting PR #163\r\n",
      "INFO:srcopsmetrics.entities.pull_request:Extracting PR #162\r\n",
      "INFO:srcopsmetrics.entities.pull_request:Extracting PR #161\r\n",
      "INFO:srcopsmetrics.entities.pull_request:Extracting PR #160\r\n",
      "INFO:srcopsmetrics.entities.pull_request:Extracting PR #159\r\n",
      "INFO:srcopsmetrics.entities.pull_request:Extracting PR #158\r\n",
      "INFO:srcopsmetrics.entities.pull_request:Extracting PR #156\r\n",
      "INFO:srcopsmetrics.entities.pull_request:Extracting PR #155\r\n",
      "INFO:srcopsmetrics.entities.pull_request:Extracting PR #154\r\n",
      "INFO:srcopsmetrics.entities.pull_request:Extracting PR #153\r\n",
      "INFO:srcopsmetrics.entities.pull_request:Extracting PR #152\r\n",
      "INFO:srcopsmetrics.entities.pull_request:Extracting PR #151\r\n",
      "INFO:srcopsmetrics.entities.pull_request:Extracting PR #149\r\n",
      "INFO:srcopsmetrics.entities.pull_request:Extracting PR #147\r\n",
      "INFO:srcopsmetrics.entities.pull_request:Extracting PR #146\r\n",
      "INFO:srcopsmetrics.entities.pull_request:Extracting PR #145\r\n",
      "INFO:srcopsmetrics.entities.pull_request:Extracting PR #144\r\n",
      "INFO:srcopsmetrics.entities.pull_request:Extracting PR #143\r\n",
      "INFO:srcopsmetrics.entities.pull_request:Extracting PR #139\r\n",
      "INFO:srcopsmetrics.entities.pull_request:Extracting PR #138\r\n",
      "INFO:srcopsmetrics.entities.pull_request:Extracting PR #137\r\n",
      "INFO:srcopsmetrics.entities.pull_request:Extracting PR #135\r\n",
      "INFO:srcopsmetrics.entities.pull_request:Extracting PR #133\r\n",
      "INFO:srcopsmetrics.entities.pull_request:Extracting PR #132\r\n",
      "INFO:srcopsmetrics.entities.pull_request:Extracting PR #130\r\n",
      "INFO:srcopsmetrics.entities.pull_request:Extracting PR #128\r\n",
      "INFO:srcopsmetrics.entities.pull_request:Extracting PR #127\r\n",
      "INFO:srcopsmetrics.entities.pull_request:Extracting PR #126\r\n",
      "INFO:srcopsmetrics.entities.pull_request:Extracting PR #125\r\n",
      "INFO:srcopsmetrics.entities.pull_request:Extracting PR #124\r\n",
      "INFO:srcopsmetrics.entities.pull_request:Extracting PR #122\r\n",
      "INFO:srcopsmetrics.entities.pull_request:Extracting PR #120\r\n",
      "INFO:srcopsmetrics.entities.pull_request:Extracting PR #119\r\n",
      "INFO:srcopsmetrics.entities.pull_request:Extracting PR #118\r\n",
      "INFO:srcopsmetrics.entities.pull_request:Extracting PR #117\r\n",
      "INFO:srcopsmetrics.entities.pull_request:Extracting PR #116\r\n",
      "INFO:srcopsmetrics.entities.pull_request:Extracting PR #115\r\n",
      "INFO:srcopsmetrics.entities.pull_request:Extracting PR #114\r\n",
      "INFO:srcopsmetrics.entities.pull_request:Extracting PR #113\r\n",
      "INFO:srcopsmetrics.entities.pull_request:Extracting PR #110\r\n",
      "INFO:srcopsmetrics.entities.pull_request:Extracting PR #107\r\n",
      "INFO:srcopsmetrics.entities.pull_request:Extracting PR #106\r\n",
      "INFO:srcopsmetrics.entities.pull_request:Extracting PR #105\r\n",
      "INFO:srcopsmetrics.entities.pull_request:Extracting PR #82\r\n",
      "INFO:srcopsmetrics.entities.pull_request:Extracting PR #80\r\n",
      "INFO:srcopsmetrics.entities.pull_request:Extracting PR #70\r\n",
      "INFO:srcopsmetrics.entities.pull_request:Extracting PR #48\r\n",
      "INFO:srcopsmetrics.entities.pull_request:Extracting PR #47\r\n",
      "INFO:srcopsmetrics.entities.pull_request:Extracting PR #46\r\n",
      "INFO:srcopsmetrics.entities.pull_request:Extracting PR #45\r\n",
      "INFO:srcopsmetrics.entities.pull_request:Extracting PR #44\r\n",
      "INFO:srcopsmetrics.entities.pull_request:Extracting PR #43\r\n",
      "INFO:srcopsmetrics.entities.pull_request:Extracting PR #5\r\n",
      "INFO:srcopsmetrics.entities.pull_request:Extracting PR #1\r\n",
      "100%|███████████████████████| 95/95 [00:17<00:00,  5.55it/s, RATE remaining=993]\r\n",
      "INFO:srcopsmetrics.entities.interface:Nothing to store.\r\n",
      "INFO:srcopsmetrics.entities.interface:\r\n",
      "\r\n",
      "INFO:srcopsmetrics.bot_knowledge:\r\n",
      "\r\n"
     ]
    }
   ],
   "source": [
    "# run collection on the org/repo specified\n",
    "!python -m srcopsmetrics.cli --create-knowledge --repository $ORG/$REPO --entities PullRequest"
   ]
  },
  {
   "cell_type": "markdown",
   "id": "3d8e43a6-ea8c-4b15-9f21-85561c043514",
   "metadata": {},
   "source": [
    "# Conclusion\n",
    "\n",
    "By running this notebook we have collected and stored the github PR data to our s3 bucket. It is now ready for the cleaning and feature engineering steps of the ML workflow.\n",
    "\n",
    "# Next Step\n",
    "\n",
    "In the next [notebook](./02_feature_engineering.ipynb), we will engineer some features from the raw PR data which can be used to train a ML model"
   ]
  }
 ],
 "metadata": {
  "kernelspec": {
   "display_name": "Python 3 (ipykernel)",
   "language": "python",
   "name": "python3"
  },
  "language_info": {
   "codemirror_mode": {
    "name": "ipython",
    "version": 3
   },
   "file_extension": ".py",
   "mimetype": "text/x-python",
   "name": "python",
   "nbconvert_exporter": "python",
   "pygments_lexer": "ipython3",
   "version": "3.8.8"
  }
 },
 "nbformat": 4,
 "nbformat_minor": 5
}
